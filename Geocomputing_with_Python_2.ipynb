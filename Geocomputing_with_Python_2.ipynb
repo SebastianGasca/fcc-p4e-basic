{
 "cells": [
  {
   "cell_type": "markdown",
   "id": "a47f6da2",
   "metadata": {},
   "source": [
    "# **Regular Expressions**"
   ]
  },
  {
   "cell_type": "markdown",
   "id": "8f138497",
   "metadata": {},
   "source": [
    "<div>\n",
    "    En computacion una regular expression, tambien <b>referida como \"regex\" o \"regexp\"</b>, nos <b>provee una consistente y flexible manera de vincular string y textos </b>, tales como caracteres particulares, palabras, o patrones de caracteres. \n",
    "    Una regular expression es escrita en un lenguaje formal que puede ser interpretada por un procesador de regular expression.\n",
    "</div>\n",
    "\n",
    "## Regular Expression Quick Guide\n",
    "---"
   ]
  },
  {
   "cell_type": "code",
   "execution_count": 1,
   "id": "bbf8433c",
   "metadata": {},
   "outputs": [],
   "source": [
    "# ^        Matches the beginning of a line\n",
    "# $        Matches the end of the line\n",
    "# .        Matches any character\n",
    "# \\s       Matches whitespace\n",
    "# \\S       Matches any non-whitespace character\n",
    "# *        Repeats a character zero or more times\n",
    "# *?       Repeats a character zero or more times \n",
    "#          (non-greedy)\n",
    "# +        Repeats a character one or more times\n",
    "# +?       Repeats a character one or more times \n",
    "#          (non-greedy)\n",
    "# [aeiou]  Matches a single character in the listed set\n",
    "# [^XYZ]   Matches a single character not in the listed set\n",
    "# [a-z0-9] The set of characters can include a range\n",
    "# (        Indicates where string extraction is to start\n",
    "# )        Indicates where string extraction is to end\n"
   ]
  },
  {
   "cell_type": "code",
   "execution_count": 2,
   "id": "ff2cfd63",
   "metadata": {},
   "outputs": [],
   "source": [
    "x = 1 \n",
    "y = dict({\n",
    "    'A': 18,\n",
    "    'B': 12\n",
    "})"
   ]
  },
  {
   "cell_type": "markdown",
   "id": "e2fb88df",
   "metadata": {},
   "source": [
    "## The Regular Expression Module\n",
    "---\n",
    "<div>\n",
    "    <ul>\n",
    "        <li> Antes de que tu puedas usar regular expression en tu programa, debes importar la libreria \"re\"\n",
    "        <li> Puedes usar <b>re.search()</b> para ver si un string se vincula a una regular expresion, similar a una el metodo find() para los string. \n",
    "        <li> Puedes usar <b>re.findall()</b> para extraer porciones de un string que se vincula a una regular expression, similar a combinar find() y slicing: var[5:10]\n",
    "    </ul>\n",
    "</div>\n",
    "\n",
    "<p style=\"color:chocolate; font-weight:bold; font-size:17px\">Example</p>\n",
    "\n",
    "Using **re.search() like find()**"
   ]
  },
  {
   "cell_type": "code",
   "execution_count": 3,
   "id": "ea07abd2",
   "metadata": {},
   "outputs": [
    {
     "name": "stdout",
     "output_type": "stream",
     "text": [
      "5\n",
      "\n",
      "From: stephen.marquard@uct.ac.za\n",
      "From: louis@media.berkeley.edu\n",
      "From: zqian@umich.edu\n",
      "From: rjlowe@iupui.edu\n",
      "From: zqian@umich.edu\n",
      "From: rjlowe@iupui.edu\n",
      "From: cwen@iupui.edu\n",
      "From: cwen@iupui.edu\n",
      "From: gsilver@umich.edu\n",
      "From: gsilver@umich.edu\n",
      "From: zqian@umich.edu\n",
      "From: gsilver@umich.edu\n",
      "From: wagnermr@iupui.edu\n",
      "From: zqian@umich.edu\n",
      "From: antranig@caret.cam.ac.uk\n",
      "From: gopal.ramasammycook@gmail.com\n",
      "From: david.horwitz@uct.ac.za\n",
      "From: david.horwitz@uct.ac.za\n",
      "From: david.horwitz@uct.ac.za\n",
      "From: david.horwitz@uct.ac.za\n",
      "From: stephen.marquard@uct.ac.za\n",
      "From: louis@media.berkeley.edu\n",
      "From: louis@media.berkeley.edu\n",
      "From: ray@media.berkeley.edu\n",
      "From: cwen@iupui.edu\n",
      "From: cwen@iupui.edu\n",
      "From: cwen@iupui.edu\n",
      "<re.Match object; span=(5, 7), match='me'>\n",
      "\n",
      "From: stephen.marquard@uct.ac.za\n",
      "From: louis@media.berkeley.edu\n",
      "From: zqian@umich.edu\n",
      "From: rjlowe@iupui.edu\n",
      "From: zqian@umich.edu\n",
      "From: rjlowe@iupui.edu\n",
      "From: cwen@iupui.edu\n",
      "From: cwen@iupui.edu\n",
      "From: gsilver@umich.edu\n",
      "From: gsilver@umich.edu\n",
      "From: zqian@umich.edu\n",
      "From: gsilver@umich.edu\n",
      "From: wagnermr@iupui.edu\n",
      "From: zqian@umich.edu\n",
      "From: antranig@caret.cam.ac.uk\n",
      "From: gopal.ramasammycook@gmail.com\n",
      "From: david.horwitz@uct.ac.za\n",
      "From: david.horwitz@uct.ac.za\n",
      "From: david.horwitz@uct.ac.za\n",
      "From: david.horwitz@uct.ac.za\n",
      "From: stephen.marquard@uct.ac.za\n",
      "From: louis@media.berkeley.edu\n",
      "From: louis@media.berkeley.edu\n",
      "From: ray@media.berkeley.edu\n",
      "From: cwen@iupui.edu\n",
      "From: cwen@iupui.edu\n",
      "From: cwen@iupui.edu\n"
     ]
    }
   ],
   "source": [
    "letras = \"Hola me llamo sebastian, tengo 25 años, estoy aprendiendo Python\"\n",
    "\n",
    "#find() entrega la posicion del primer caracter del string que se esta buscando dentro de otro string. \n",
    "print(letras.find(\"me\"))\n",
    "print(\"\")\n",
    "\n",
    "hand = open(\"mbox-short.txt\")\n",
    "for line in hand:\n",
    "    line = line.rstrip()\n",
    "    if line.find('From:') >=0:\n",
    "        print(line)\n",
    "        \n",
    "#----------------------------------------------------------------------------------------------        \n",
    "import re \n",
    "\n",
    "letras = \"Hola me llamo sebastian, tengo 25 años, estoy aprendiendo Python\"\n",
    "\n",
    "#re.search() es capaz de reconocer la primera y ultima posicion del string que se esta buscando.\n",
    "print(re.search(\"me\",letras))\n",
    "print(\"\")\n",
    "\n",
    "hand = open(\"mbox-short.txt\")\n",
    "for line in hand:\n",
    "    line = line.strip()\n",
    "    if re.search(\"From:\",line):\n",
    "        print(line)\n",
    "        \n",
    "#find() y re.search() son equivalentes en el ejemplo anterior. "
   ]
  },
  {
   "cell_type": "markdown",
   "id": "14a23b4b",
   "metadata": {},
   "source": [
    "<p style=\"color:Chocolate; font-weight:bold; font-size:17px\">Example</p>\n",
    "\n",
    "**Using re.search() like starswith()**"
   ]
  },
  {
   "cell_type": "code",
   "execution_count": null,
   "id": "23778704",
   "metadata": {},
   "outputs": [],
   "source": [
    "#startswith() retorna un True o False si la sentencia comienza con el string ingresado\n",
    "hand = open(\"mbox-short.txt\")\n",
    "for line in hand:\n",
    "    line = line.rstrip()\n",
    "    #Revisamos si la linea comienza con \"From:\"\n",
    "    if line.startswith(\"From:\"):\n",
    "        print(line)\n",
    "        \n",
    "#------------------\n",
    "print(\"\\n\\n\\n\")\n",
    "#Para el caso de regex no cambiamos el metodo, como si lo hacemos cuando trabajamos con los string  \n",
    "#En las regex podemos cambiar ciertos parametros para consultar ciertas cosas. \n",
    "#En el siguiente ejemplo utilizamos ^ que significa hacer match con el principio de la sentencia a la\n",
    "#cual consultamos. \n",
    "\n",
    "import re\n",
    "\n",
    "hand = open(\"mbox-short.txt\")\n",
    "for line in hand:\n",
    "    line = line.rstrip()\n",
    "    #al anteponer ^ en el string que estamos buscando hacer match con el principio de la sentencia \n",
    "    if re.search(\"From:\",line):\n",
    "        print(line)\n"
   ]
  },
  {
   "cell_type": "markdown",
   "id": "617d9b21",
   "metadata": {},
   "source": [
    "## Wild-Card Characters \n",
    "---\n",
    "<ul>\n",
    "    <li>El caracter <b>punto</b> hace vinculos con algun caracter cualquiera. \n",
    "    <li>El caracter <b>asterisco</b>, repite el proceso 0 a n numero de veces.  \n",
    "</ul>\n",
    "\n",
    "<img style = \"display:flex; margin-left:auto; margin-right:auto\" \n",
    "  src=\"2021-06-09_18h11_29.png\" width=\"500\" height=\"400\" > </img>\n",
    "  \n",
    "  **La figura anterior da un ejemplo de una busqueda**, en donde se quiere encontrar todas las lineas que comience con \"X\", hagan match con algun caracter cualquiera (punto), se repita cero o mas veces (asterisco)\n",
    "y terminen en \":\"\n",
    "\n",
    "**Haciendo mas preciso el proceso** de busqueda tenemos\n",
    "\n",
    "<img style = \"display:flex; margin-left:auto; margin-right:auto\" \n",
    "  src=\"2021-06-09_18h19_38.png\" width=\"500\" height=\"400\" > </img>\n",
    "  \n",
    "  **En la figura anterior se quiere** buscar todas las lineas que comiencen con \"X-\", se siga haciendo match mientras no exista un whitespace character (\\S), y se repita una o mas veces (+), hasta que se encuentre un \":\". "
   ]
  },
  {
   "cell_type": "markdown",
   "id": "97454d01",
   "metadata": {},
   "source": [
    "## Matching and Extracting Data\n",
    "---\n",
    "\n",
    "* **re.search()** retorna un True/False dependiendo de si el string matches la regular expression.\n",
    "* Si queremos extraer el matches string, utilizamos **re.findall()**\n",
    "\n",
    "<img src=\"2021-06-09_21h54_00.png\" style=\"display:flex; margin-left:auto; margin-right:auto\"></img>\n",
    "\n",
    "<p style=\"text-align: justify\">La imagen anterior muestra un ejemplo en donde extraemos todos los numeros dentro de una sentencia mediante la regex [0-9]+. En donde la expresion \"[]\" indica uno o conjunto de caracteres a ser buscados, y 0-9 indica un rango de caracter a ser considerado</p>\n",
    "\n",
    "<p style=\"color:chocolate; font-weight:bold; font-size:17px\">Example</p>"
   ]
  },
  {
   "cell_type": "code",
   "execution_count": 2,
   "id": "e6bd5ae7",
   "metadata": {},
   "outputs": [
    {
     "name": "stdout",
     "output_type": "stream",
     "text": [
      "['2', '19', '42']\n",
      "[]\n"
     ]
    }
   ],
   "source": [
    "import re\n",
    "x = \"Mis 2 favoritos numeros son 19 y 42\"\n",
    "y = re.findall(\"[0-9]+\",x)\n",
    "print(y)\n",
    "\n",
    "z = re.findall(\"[AEIOU]+\",x)\n",
    "print(z)"
   ]
  },
  {
   "cell_type": "markdown",
   "id": "1be800db",
   "metadata": {},
   "source": [
    "## Warning: Greedy Matching\n",
    "---\n",
    "El repetir caracteres (* ; +) empuja hacia afuera en ambas direcciones para hacer match con el string mas largo posible. "
   ]
  },
  {
   "cell_type": "code",
   "execution_count": 5,
   "id": "422797cb",
   "metadata": {},
   "outputs": [
    {
     "name": "stdout",
     "output_type": "stream",
     "text": [
      "['From: Using the:']\n"
     ]
    }
   ],
   "source": [
    "import re\n",
    "x = \"From: Using the: character\"\n",
    "y = re.findall(\"^F.+:\",x)\n",
    "print(y)\n",
    "\n",
    "#¿Por que no retorna solo \"From:\"?"
   ]
  },
  {
   "cell_type": "markdown",
   "id": "27ee6e73",
   "metadata": {},
   "source": [
    "**¿Por que la regex no retorna solo \"From:\"?**\n",
    "\n",
    "La logica del greedy matching es que cuando la regex puede hacer match con mas de una posibilidad de \n",
    "superposicion de string, eligira la mas larga."
   ]
  },
  {
   "cell_type": "markdown",
   "id": "15dd634c",
   "metadata": {},
   "source": [
    "## Non-Greedy Matching\n",
    "---\n",
    "**No todas las regex de repeticiones son greedy**. Si se agrega un caracter \"?\", los caracterers + y * se relajan un poco. "
   ]
  },
  {
   "cell_type": "code",
   "execution_count": 6,
   "id": "8d2af25f",
   "metadata": {},
   "outputs": [
    {
     "name": "stdout",
     "output_type": "stream",
     "text": [
      "['From:']\n"
     ]
    }
   ],
   "source": [
    "import re\n",
    "x = \"From: Using the: character\"\n",
    "y = re.findall(\"^F.+?:\",x)\n",
    "print(y)"
   ]
  },
  {
   "cell_type": "markdown",
   "id": "9d44dacc",
   "metadata": {},
   "source": [
    "Ahora tenemos una regex de repeticion sin ser greedy"
   ]
  },
  {
   "cell_type": "markdown",
   "id": "dbf9b645",
   "metadata": {},
   "source": [
    "## Fine-Tuning String Extraction\n",
    "---\n",
    "Puedes refinar el match para re.findall() y separadamente determinar cual porcion de el match sera extraida usando parentesis. "
   ]
  },
  {
   "cell_type": "code",
   "execution_count": 18,
   "id": "7a14dfbf",
   "metadata": {},
   "outputs": [
    {
     "name": "stdout",
     "output_type": "stream",
     "text": [
      "['seba@gmail.com', 'marcia@gmial.com']\n"
     ]
    }
   ],
   "source": [
    "import re\n",
    "x = \"From seba@gmail.com Sat Jan 5 09:14:16 2008; marcia@gmial.com\"\n",
    "\n",
    "#Buscamos todos los caracteres que no tengan espacios y contengan un signo de @\n",
    "y = re.findall(\"\\S+@\\S+\",x)\n",
    "print(y)"
   ]
  },
  {
   "cell_type": "markdown",
   "id": "b9d1e65c",
   "metadata": {},
   "source": [
    "Podemos hacer lo anterior de otra manera."
   ]
  },
  {
   "cell_type": "code",
   "execution_count": 17,
   "id": "616cc509",
   "metadata": {},
   "outputs": [
    {
     "name": "stdout",
     "output_type": "stream",
     "text": [
      "['seba@gmail.com']\n"
     ]
    }
   ],
   "source": [
    "import re\n",
    "x = \"From seba@gmail.com Sat Jan 5 09:14:16 2008; marcia@gmail.com\"\n",
    "\n",
    "#Utilizamos parentesis para declarar cuanto partimos y terminamos lo que queremos extraer\n",
    "y = re.findall(\"^From (\\S+@\\S+)\",x)\n",
    "print(y)"
   ]
  },
  {
   "cell_type": "markdown",
   "id": "f6fb6d22",
   "metadata": {},
   "source": [
    "## String Parsing Examples\n",
    "---\n",
    "### Store Apart String"
   ]
  },
  {
   "cell_type": "code",
   "execution_count": 2,
   "id": "3703a607",
   "metadata": {},
   "outputs": [
    {
     "name": "stdout",
     "output_type": "stream",
     "text": [
      "14\n",
      "24\n",
      "gmail.com\n"
     ]
    }
   ],
   "source": [
    "data = \"From sebagasca@gmail.com Sat Jan 5 09:14:16 2008\"\n",
    "#Buscamos la posicion de el caracter \"@\"\n",
    "atpos = data.find(\"@\")\n",
    "print(atpos)\n",
    "\n",
    "#Buscamos la posicion del whitespace despues de la posicion de \"@\"\n",
    "sppos = data.find(\" \", atpos)\n",
    "print(sppos)\n",
    "\n",
    "#Seleccionamos las posiciones de la sentencia que queremos extraer.--> gmail.com\n",
    "host = data[atpos+1: sppos]\n",
    "print(host)"
   ]
  },
  {
   "cell_type": "markdown",
   "id": "61333536",
   "metadata": {},
   "source": [
    "### The Double Split Pattern"
   ]
  },
  {
   "cell_type": "code",
   "execution_count": 4,
   "id": "e61c4832",
   "metadata": {},
   "outputs": [
    {
     "name": "stdout",
     "output_type": "stream",
     "text": [
      "['sebagasca', 'gmail.com']\n"
     ]
    }
   ],
   "source": [
    "data = \"From sebagasca@gmail.com Sat Jan 5 09:14:16 2008\"\n",
    "\n",
    "#Generamos la lista de palabras/frases \n",
    "words = data.split()\n",
    "\n",
    "#Elegimos la frase que queremos analizar\n",
    "email = words[1]\n",
    "\n",
    "#Generamos una lista de palabras/frase separadas por \"@\", de la frase que analizamos anteriormente \n",
    "pieces = email.split(\"@\")\n",
    "\n",
    "#Obtenemos el host del mail.\n",
    "print(pieces[1])"
   ]
  },
  {
   "cell_type": "markdown",
   "id": "30d2882c",
   "metadata": {},
   "source": [
    "### The Regex Version"
   ]
  },
  {
   "cell_type": "code",
   "execution_count": 13,
   "id": "50d453bc",
   "metadata": {},
   "outputs": [
    {
     "name": "stdout",
     "output_type": "stream",
     "text": [
      "['gmail.com']\n",
      "['gmail.com']\n"
     ]
    }
   ],
   "source": [
    "import re\n",
    "data = \"From sebagasca@gmail.com Sat Jan 5 09:14:16 2008\"\n",
    "\n",
    "#El primer caracter \"@\", nos determina de donde queremos partir nuestra busqueda\n",
    "\n",
    "#utilizamos los parentesis () para indicar que queremos extraer una secuencia de string luego de identificar\n",
    "#los caracteres que declaramos anteriormente \n",
    "\n",
    "#Extraemos todos los caracteres que no sean whitespace con la expresion [^ ]*, que es sinonimo de \\S\n",
    "\n",
    "y = re.findall(\"@([^ ]*)\",data)\n",
    "print(y)\n",
    "\n",
    "z= re.findall(\"@(\\S*)\",data)\n",
    "print(z)"
   ]
  },
  {
   "cell_type": "markdown",
   "id": "7fc92789",
   "metadata": {},
   "source": [
    "**Even Cooler Regex Version**"
   ]
  },
  {
   "cell_type": "code",
   "execution_count": 18,
   "id": "873d486e",
   "metadata": {},
   "outputs": [
    {
     "name": "stdout",
     "output_type": "stream",
     "text": [
      "['gmail.com']\n"
     ]
    }
   ],
   "source": [
    "import re\n",
    "data = \"From sebagasca@gmail.com Sat Jan 5 09:14:16 2008\"\n",
    "\n",
    "\n",
    "y = re.findall(\"^From.*@([^ ]*)\",data)\n",
    "print(y)"
   ]
  },
  {
   "cell_type": "markdown",
   "id": "11a72ae0",
   "metadata": {},
   "source": [
    "<p style=\"color:chocolate; font-weight:bold; font-size:16px\">Example</p>"
   ]
  },
  {
   "cell_type": "code",
   "execution_count": 22,
   "id": "ab2b5883",
   "metadata": {},
   "outputs": [
    {
     "name": "stdout",
     "output_type": "stream",
     "text": [
      "Maximun: 0.9907\n"
     ]
    }
   ],
   "source": [
    "import re\n",
    "\n",
    "hand = open(\"mbox-short.txt\")\n",
    "numlist = list()\n",
    "for line in hand:\n",
    "    line = line.rstrip()\n",
    "    stuff = re.findall(\"^X-DSPAM-Confidence: ([0-9.]+)\", line)\n",
    "    if len(stuff) != 1: \n",
    "        continue\n",
    "    num = float(stuff[0])\n",
    "    numlist.append(num)\n",
    "        \n",
    "print(\"Maximun:\", max(numlist))"
   ]
  },
  {
   "cell_type": "markdown",
   "id": "a91b8f84",
   "metadata": {},
   "source": [
    "## Escape Character\n",
    "---\n",
    "Si quieres que un caracter utilizado en las Regex se comporte \"normal\", la mayoria de las veces se antepone un \\"
   ]
  },
  {
   "cell_type": "code",
   "execution_count": 25,
   "id": "07eb5633",
   "metadata": {},
   "outputs": [
    {
     "name": "stdout",
     "output_type": "stream",
     "text": [
      "['$10.00']\n"
     ]
    }
   ],
   "source": [
    "import re\n",
    "x = \"We just received $10.00 for cookies\"\n",
    "\n",
    "#Queremos usar el signo de dolar para buscar una expresion en nuestra sentencia, pero el signo de dolar \n",
    "#esta como caracter fundamental en las regex. Para poder usarlo entonces debemos anteponer un \\\n",
    "\n",
    "y = re.findall(\"\\$[0-9.]+\", x)\n",
    "print(y)"
   ]
  },
  {
   "cell_type": "markdown",
   "id": "020feef0",
   "metadata": {},
   "source": [
    "---\n",
    "---\n",
    "---\n",
    "---"
   ]
  },
  {
   "cell_type": "markdown",
   "id": "bde8da74",
   "metadata": {},
   "source": [
    "# **Networking with Python**"
   ]
  },
  {
   "cell_type": "markdown",
   "id": "d6fd81de",
   "metadata": {},
   "source": [
    "## Networking Socket, Port, Protocols, Browser with Python\n",
    "---"
   ]
  },
  {
   "cell_type": "markdown",
   "id": "3b8f6136",
   "metadata": {},
   "source": [
    "Un `socket` en palabras simples un cable que conecta con un servidor web.\n",
    "\n",
    "Un `protocolo` es una forma de comunicarse con una aplicacion en particular que coexiste en un servidor web:\n",
    "\n",
    "* El port 23 es la extencion para comunicarnos con las aplicaciones de  login, \n",
    "* El port 80 o 443 es la extencion para comunicarnos con los web server, \n",
    "* El port 109 y 110 es para personal mail box\n"
   ]
  },
  {
   "cell_type": "markdown",
   "id": "c019c417",
   "metadata": {},
   "source": [
    "Importamos la libreria `socket` para importar el _socket_ que viene por defecto en python"
   ]
  },
  {
   "cell_type": "code",
   "execution_count": 4,
   "id": "d852513e",
   "metadata": {},
   "outputs": [],
   "source": [
    "import socket "
   ]
  },
  {
   "cell_type": "markdown",
   "id": "32113d28",
   "metadata": {},
   "source": [
    "De la libreria socket utilizamos la funcion `socket` y utilizamos los parametros `socket.AF_INET` y `socket.SOCK_STREAM`. \n",
    "\n",
    "* El parametro `socket.AF_INET` es el que nos perimte extender el cable por el internet. \n",
    "* El parametro `socket.SOCK_STREAM` es el que calibra la serie de caracteres que van de un lado a otro\n",
    "\n",
    "EL archivo `mysock` no es manejable y manipulable aun. \n"
   ]
  },
  {
   "cell_type": "code",
   "execution_count": 2,
   "id": "04a18f28",
   "metadata": {},
   "outputs": [],
   "source": [
    "mysock = socket.socket(socket.AF_INET, socket.SOCK_STREAM)"
   ]
  },
  {
   "cell_type": "markdown",
   "id": "89ab342a",
   "metadata": {},
   "source": [
    "Ya teniendo el cable creado 'mysock', usamos la funcion `connect()` que requiere una tupla de dos parametros:\n",
    "\n",
    "1. la `url` de la web a la que queremos conectar \n",
    "2. el numero del `protocolo` \n",
    "\n",
    "En resumen en esta linea de codigo hacemos la 'llamada telefonica'"
   ]
  },
  {
   "cell_type": "code",
   "execution_count": 3,
   "id": "0d642b93",
   "metadata": {},
   "outputs": [],
   "source": [
    "mysock.connect(('data.pr4e.org',80))"
   ]
  },
  {
   "cell_type": "markdown",
   "id": "35b4016f",
   "metadata": {},
   "source": [
    "<p style=\"text-align:justify\">\n",
    "    Un concepto <b>importante a considerar es el protocolo que se usa</b> para la interaccion entre la llamada y la respuesta. Se podria decir que <b>el protocolo son las reglas que se aplican entre la comunicacion</b> entre el que hace la llamada y el que responde. Por ejemplo, responde a las preguntas \n",
    "    <ul><li> ¿Quien habla primero? \n",
    "    <li> ¿Como se da la respuesta a cierta pregunta?. </ul></p>\n",
    " \n",
    "**En esta seccion utilizamos el protocolo http** (hipertext transferer protocol)"
   ]
  },
  {
   "cell_type": "code",
   "execution_count": 10,
   "id": "c359bea0",
   "metadata": {},
   "outputs": [],
   "source": [
    "import socket \n",
    "mysock = socket.socket(socket.AF_INET, socket.SOCK_STREAM)\n",
    "mysock.connect(('data.pr4e.org',80))"
   ]
  },
  {
   "cell_type": "markdown",
   "id": "14258eb5",
   "metadata": {},
   "source": [
    "Armamos solicitud de la forma `'GET - URL - Protocolo - Blank space'` (blankc space dos veces). La solicitud la codificamos con `.encode()`. Se codifica la solicitud debido a que lo que queremos pasar de:\n",
    "> Unicode -> UTF-8. \n"
   ]
  },
  {
   "cell_type": "code",
   "execution_count": 11,
   "id": "5019cd9f",
   "metadata": {},
   "outputs": [],
   "source": [
    "cmd = 'GET http://data.pr4e.org/romeo.txt HTTP/1.0\\r\\n\\r\\n'.encode()"
   ]
  },
  {
   "cell_type": "markdown",
   "id": "db133779",
   "metadata": {},
   "source": [
    "Ahora mandamos la solicitud por medio del cableado ya creado por _mysock_ con la funcion `send()`"
   ]
  },
  {
   "cell_type": "code",
   "execution_count": 12,
   "id": "cca743ed",
   "metadata": {},
   "outputs": [
    {
     "data": {
      "text/plain": [
       "47"
      ]
     },
     "execution_count": 12,
     "metadata": {},
     "output_type": "execute_result"
    }
   ],
   "source": [
    "mysock.send(cmd)"
   ]
  },
  {
   "cell_type": "markdown",
   "id": "241edd59",
   "metadata": {},
   "source": [
    "Hacemos un `ciclo while` para extraer la informacion de la servidor web al que nos hemos conectado con la funcion `recv()`."
   ]
  },
  {
   "cell_type": "code",
   "execution_count": 13,
   "id": "47abbce0",
   "metadata": {},
   "outputs": [
    {
     "name": "stdout",
     "output_type": "stream",
     "text": [
      "HTTP/1.1 200 OK\r\n",
      "Date: Tue, 22 Jun 2021 15:23:38 GMT\r\n",
      "Server: Apache/2.4.18 (Ubuntu)\r\n",
      "Last-Modified: Sat, 13 May 2017 11:22:22 GMT\r\n",
      "ETag: \"a7-54f6609245537\"\r\n",
      "Accept-Ranges: bytes\r\n",
      "Content-Length: 167\r\n",
      "Cache-Control: max-age=0, no-cache, no-store, must-revalidate\r\n",
      "Pragma: no-cache\r\n",
      "Expires: Wed, 11 Jan 1984 05:00:00 GMT\r\n",
      "Connection: close\r\n",
      "Content-Type: text/plain\r\n",
      "\r\n",
      "But soft what light through yonder window breaks\n",
      "It is the east and Juliet is the sun\n",
      "Arise fair sun and kill the envious moon\n",
      "Who is already s\n",
      "ick and pale with grief\n",
      "\n"
     ]
    }
   ],
   "source": [
    "while True:\n",
    "    data = mysock.recv(512)\n",
    "#Extraemos 512 caracteres a la vez\n",
    "    if (len(data)) < 1:\n",
    "        break\n",
    "#Si la data que extraemos es menor a 1, es decir 0, nos indicara que no hay mas informacion a recibir\n",
    "#y por lo mismo se corta el ciclo while\n",
    "    print(data.decode())\n",
    "#mientras recivimos la data esta es mostrada en la consola. Esto se hace mediante la funcion ''.decode()'\n",
    "#que como su nombre lo dice está lo esta decodificando"
   ]
  },
  {
   "cell_type": "markdown",
   "id": "7d66bff5",
   "metadata": {},
   "source": [
    "Terminamos por cerrar el cable que hemos enviado al servidor con la funcion `.close()`"
   ]
  },
  {
   "cell_type": "code",
   "execution_count": 14,
   "id": "a11efce7",
   "metadata": {},
   "outputs": [],
   "source": [
    "mysock.close()"
   ]
  },
  {
   "cell_type": "markdown",
   "id": "7a66ccaf",
   "metadata": {},
   "source": [
    "## Networking Text Processing\n",
    "---"
   ]
  },
  {
   "cell_type": "markdown",
   "id": "f022b23c",
   "metadata": {},
   "source": [
    "<p style=\"text-align:justify\">\n",
    "Lo que hemos hecho hasta ahora esta es su mayoria codificado en <mark style=\"background-color: #e5e7e9 ; padding:0 0.3em 0; font-family:Consolas \">ASCII</mark> (American Standard Code for information interchage). Cada caracter esta representado por un numero entre <mark style=\"background-color: #e5e7e9 ; padding:0 0.3em 0; font-family:Consolas \">0-256</mark> stored in <mark style=\"background-color: #e5e7e9 ; padding:0 0.3em 0; font-family:Consolas \">8 bits</mark> of memory, 8 bits de memoria es <mark style=\"background-color: #e5e7e9 ; padding:0 0.3em 0; font-family:Consolas \">1 byte</mark>. Ej: mi computador tiene 512 megabyte de memoria. La funcion <mark style=\"background-color: #e5e7e9 ; padding:0 0.3em 0; font-family:Consolas \">ord()</mark> nos dice el numero de valores que usa la codificacion <mark style=\"background-color: #e5e7e9 ; padding:0 0.3em 0; font-family:Consolas \">ASCII</mark>.\n"
   ]
  },
  {
   "cell_type": "code",
   "execution_count": 15,
   "id": "385f7acd",
   "metadata": {},
   "outputs": [
    {
     "name": "stdout",
     "output_type": "stream",
     "text": [
      "102\n",
      "70\n",
      "49\n",
      "10\n"
     ]
    }
   ],
   "source": [
    "print(ord('f'))\n",
    "print(ord('F'))\n",
    "print(ord('1'))\n",
    "print(ord('\\n'))"
   ]
  },
  {
   "cell_type": "markdown",
   "id": "be00e71f",
   "metadata": {},
   "source": [
    "<p style=\"text-align:justify\">\n",
    "Pero en realidad la codificacion <mark style=\"background-color: #e5e7e9 ; padding:0 0.3em 0; font-family:Consolas \">ASCII</mark> es bastantes simmple. Hoy se usa la codificacion <mark style=\"background-color: #e5e7e9 ; padding:0 0.3em 0; font-family:Consolas \">UNICODE</mark> que posee billones de caracteres para diferentes lenguas para diferentes grupos de caracteres, lo que permite hacer pequeñas variaciones de caracteres y darnos mayor espacio de maniobra, aunque UNICODE nos entrega mayor cantidad de caracteres de lo que uno normalmente quiere.\n",
    "<br><br>    \n",
    "Ahora, el problema es que si queremos mandar un mensaje a traves de internet con la encriptacion UNICODE, se torna demasiado largo. Es aqui que aparecen otras formas de encriptar los caracteres, en donde en vez de usar <mark style=\"background-color: #e5e7e9 ; padding:0 0.3em 0; font-family:Consolas \">8 bits</mark> por caracter puede ser mediante <mark style=\"background-color: #e5e7e9 ; padding:0 0.3em 0; font-family:Consolas \">4 byte</mark> (<mark style=\"background-color: #e5e7e9 ; padding:0 0.3em 0; font-family:Consolas \">utf-32</mark>), aunque la mejor forma para mover archivos y informacion por medio de internet es la encriptacion que da <mark style=\"background-color: #e5e7e9 ; padding:0 0.3em 0; font-family:Consolas \">utf-8</mark>. \n",
    "<br><br>\n",
    "La encriptacion <mark style=\"background-color: #e5e7e9 ; padding:0 0.3em 0; font-family:Consolas \">utf-8</mark> es versatil, puede leer archivos encriptados por <mark style=\"background-color: #e5e7e9 ; padding:0 0.3em 0; font-family:Consolas \">1 a 4 bytes</mark> por lo que puede leer archivos <mark style=\"background-color: #e5e7e9 ; padding:0 0.3em 0; font-family:Consolas \">ASCII</mark>\n",
    "\n",
    "<mark style=\"background-color: #e5e7e9 ; padding:0 0.3em 0; font-family:Consolas \">Python 2.x</mark> diferenciaba sus string en ASCII y en UNICODE, en cambio en <mark style=\"background-color: #e5e7e9 ; padding:0 0.3em 0; font-family:Consolas \">Python 3.x</mark> todos los string son en formato \n",
    "UNICODE"
   ]
  },
  {
   "cell_type": "markdown",
   "id": "74cc21e3",
   "metadata": {},
   "source": [
    "<p style=\"text-align:justify\">\n",
    "Ahora haremos otra vez un browser pero en menos lineas que el codigo anterior. <b>No utilizaremos la libreria socket</b>, sino que utilizaremos la libreria <mark style=\"background-color: #e5e7e9 ; padding:0 0.3em 0; font-family:Consolas \">urllib</mark>.\n",
    "Importamos los modulos <mark style=\"background-color: #e5e7e9 ; padding:0 0.3em 0; font-family:Consolas \">urllib.request</mark>, <mark style=\"background-color: #e5e7e9 ; padding:0 0.3em 0; font-family:Consolas \">\n",
    "urllib.parse</mark>, <mark style=\"background-color: #e5e7e9 ; padding:0 0.3em 0; font-family:Consolas \">urllib.error</mark>"
   ]
  },
  {
   "cell_type": "code",
   "execution_count": 18,
   "id": "0da4dae8",
   "metadata": {},
   "outputs": [],
   "source": [
    "import urllib.request, urllib.parse, urllib.error"
   ]
  },
  {
   "cell_type": "markdown",
   "id": "c1be047f",
   "metadata": {},
   "source": [
    "<p style=\"text-align:justify\">\n",
    "Utilizamos la funcion <mark style=\"background-color: #e5e7e9 ; padding:0 0.3em 0; font-family:Consolas \">urlopen</mark> del modulo <mark style=\"background-color: #e5e7e9 ; padding:0 0.3em 0; font-family:Consolas \">request</mark> de la libreria <i>urllib</i>. Esto: \n",
    "<ul>\n",
    "<li><b>genera</b> los sockets, \n",
    "<li>los <b>conecta</b>, \n",
    "<li>genera la <b>llamada</b>, \n",
    "<li><b>manda</b> la solicitud, \n",
    "<li><b>codificada</b> automaticamente, \n",
    "<li><b>recibe</b> la informacion solicitada \n",
    "</ul>\n",
    "\n",
    "<b>en solo un momento</b>,y en un <b>archivo mas manejable</b>, dado que podemos poner este archivo en un ciclo for para ser leido\n"
   ]
  },
  {
   "cell_type": "code",
   "execution_count": null,
   "id": "29bffc24",
   "metadata": {},
   "outputs": [],
   "source": [
    "fhand = urllib.request.urlopen('http://data.pr4e.org/romeo.txt')\n",
    "for line in fhand:\n",
    "#cada linea leida seran en bytes por lo que tenemos que decodificarlas para tenerlas en formato UNICODE\n",
    "    print(line.decode().strip())\n",
    "#Recordar que la funcion strip() elimina el salto de linea que va al final de la oracion o sentencia de cada .txt\n",
    "    \n",
    "#Hay que notar que el resultado desplegado no tiene encabezado(como sucedia en el caso anterior)\n"
   ]
  },
  {
   "cell_type": "markdown",
   "id": "922c1ce3",
   "metadata": {},
   "source": [
    "Podemos este metodo para manejar lo que recibimos de las paginas web como si fueran un archivo en nuestro ordenador"
   ]
  },
  {
   "cell_type": "code",
   "execution_count": null,
   "id": "4aea73d1",
   "metadata": {},
   "outputs": [],
   "source": [
    "import urllib.request, urllib.parse, urllib.error\n",
    "fhand = urllib.request.urlopen('http://data.pr4e.org/romeo.txt')\n",
    "dic = dict()\n",
    "for line in fhand:\n",
    "    words = line.decode().split()\n",
    "    for word in words:\n",
    "        dic[word] = dic.get(word,0) + 1\n",
    "print(dic)"
   ]
  },
  {
   "cell_type": "markdown",
   "id": "7ed4ce5c",
   "metadata": {},
   "source": [
    "Asi tambien podemos recibir informacion de paginas en formato html."
   ]
  },
  {
   "cell_type": "code",
   "execution_count": 19,
   "id": "14b714b1",
   "metadata": {},
   "outputs": [
    {
     "name": "stdout",
     "output_type": "stream",
     "text": [
      "<h1>The First Page</h1>\n",
      "<p>\n",
      "If you like, you can switch to the\n",
      "<a href=\"http://www.dr-chuck.com/page2.htm\">\n",
      "Second Page</a>.\n",
      "</p>\n"
     ]
    }
   ],
   "source": [
    "fhandhtml = urllib.request.urlopen('http://www.dr-chuck.com/page1.html')\n",
    "for line in fhandhtml:\n",
    "    print(line.decode().strip())"
   ]
  },
  {
   "cell_type": "markdown",
   "id": "9bbc1cea",
   "metadata": {},
   "source": [
    "## Networking Web Scrapping\n",
    "---"
   ]
  },
  {
   "cell_type": "markdown",
   "id": "ef1e17e4",
   "metadata": {},
   "source": [
    "El obtener y manejar datos en <mark style=\"background-color: #e5e7e9 ; padding:0 0.3em 0; font-family:Consolas \">.html</mark> es a lo que llamamos <mark style=\"background-color: #e5e7e9 ; padding:0 0.3em 0; font-family:Consolas \">scraping web</mark> o spider web. Una forma 'facil' y practica de hacer esto es mediante la libreria <mark style=\"background-color: #e5e7e9 ; padding:0 0.3em 0; font-family:Consolas \">beautifulsoup</mark>. "
   ]
  },
  {
   "cell_type": "code",
   "execution_count": null,
   "id": "7190bb6f",
   "metadata": {},
   "outputs": [],
   "source": [
    "import urllib.request, urllib.parse, urllib.error\n",
    "from bs4 import BeautifulSoup\n",
    "\n",
    "url = input('Enter -')\n",
    "html = urllib.request.urlopen(url).read()\n",
    "#Genermos el archivo tipo soup para manejar las etiquetas Html\n",
    "soup = BeautifulSoup(html, 'html.parser')\n",
    "\n",
    "#Recuperamos todos los 'anchor tags - <a></a>'\n",
    "tags = soup('a')\n",
    "for tag in tags:\n",
    "    print(tag.get('href',None))"
   ]
  },
  {
   "cell_type": "markdown",
   "id": "c256ec3a",
   "metadata": {},
   "source": [
    "<p style=\"color:chocolate; font-weight:bold; font-size:16px\"> Exercise</p>"
   ]
  },
  {
   "cell_type": "code",
   "execution_count": null,
   "id": "3acd9394",
   "metadata": {},
   "outputs": [],
   "source": [
    "import urllib.request, urllib.parse, urllib.error\n",
    "from bs4 import BeautifulSoup\n",
    "import ssl\n",
    "\n",
    "#Con la libreria ssl creamos una varible, siguiendo el codigo siguiente, que tiene por finalidad poder asegurar\n",
    "#nuestra conexion a las paginas web. (Si quieres entrar en detalle sobre esta parte del codigo googlea)\n",
    "#En palabras del profe es ingnorar el error del certificado SSL\n",
    "ctx = ssl.create_default_context()\n",
    "ctx.check_hostname = False\n",
    "ctx.verify_mode = ssl.CERT_NONE\n",
    "\n",
    "#La variable creada anteriormente sera utilizada como parametro en urllib.request.urlopen()\n",
    "url = input('Enter -')\n",
    "html = urllib.request.urlopen(url,context = ctx).read()\n",
    "soup = BeautifulSoup(html,'html.parser')"
   ]
  },
  {
   "cell_type": "markdown",
   "id": "a54a586e",
   "metadata": {},
   "source": [
    "------------------------------------------------------------\n",
    "------------------------------------------------------------\n",
    "------------------------------------------------------------\n",
    "------------------------------------------------------------"
   ]
  },
  {
   "cell_type": "markdown",
   "id": "2dbd3909",
   "metadata": {},
   "source": [
    "# **Web Services**"
   ]
  },
  {
   "cell_type": "markdown",
   "id": "e5e07f94",
   "metadata": {},
   "source": [
    "<div style =\"text-align: justify\">\n",
    "    <b>Anteriormente vimos como crear un aplicación browser</b> para poder conectarnos (mediante un socket, un puerto y un protocolo) con un Servidor Web. <b>Aunque solo nos enfocamos en extraer la informacion visible</b> que la url estaba programada a entregar (en formato <mark style=\"background-color: #e5e7e9 ; padding:0 0.3em 0; font-family:Consolas \">HTML</mark>). Pero la informacion que podemos obtener de un servidor web no solo se acota a lo anterior. <b>En ocaciones es necesario extraer datos que sirvan exclusivamente para un uso \"de programacion\"</b>, por lo que es necesario que vengan en un formato \"amigable\" para ser trabajados con un lenguaje de programacion (Javascript, PHP, Python, JAVA, etc). En estos casos tenemos los formatos <mark style=\"background-color: #e5e7e9 ; padding:0 0.3em 0; font-family:Consolas \">XML</mark> y <mark style=\"background-color: #e5e7e9 ; padding:0 0.3em 0; font-family:Consolas \">JSON</mark><div> \n"
   ]
  },
  {
   "cell_type": "markdown",
   "id": "675bb851",
   "metadata": {},
   "source": [
    "## Web Services XML Files\n",
    "---"
   ]
  },
  {
   "cell_type": "markdown",
   "id": "840e2797",
   "metadata": {},
   "source": [
    "<p style = \"text-align:justify\" >\n",
    "    <mark style=\"background-color: #e5e7e9 ; padding:0 0.3em 0; font-family:Consolas\">XML</mark> significa extensible markup lenguage (Lenguaje de marcado extensible). \n",
    "<br><br>    \n",
    "El formato <mark style=\"background-color: #e5e7e9 ; padding:0 0.3em 0; font-family:Consolas \">XML</mark> es bastante similar a <mark style=\"background-color: #e5e7e9 ; padding:0 0.3em 0; font-family:Consolas \">HTML</mark>, <b>utiliza etiquetas</b>, <b>atributos</b> y <b>serialize/de-serialize</b> (esto quiere decier que posee la capacidad de convertir la data de un programa a un formato en comun que puede ser alamcenado y trasmitido entre sistemas de una manera independiente a los lenguajes de programacion). \n",
    "<br><br>\n",
    "Al igual que en <mark style=\"background-color: #e5e7e9 ; padding:0 0.3em 0; font-family:Consolas \">HTML</mark>, en <mark style=\"background-color: #e5e7e9 ; padding:0 0.3em 0; font-family:Consolas \">XML</mark> <b>existe un estructura de orden jerarquico</b>. Hay nodos mayores y menor (nodos padres y nodos hijos). \n",
    "<br><br>\n",
    "Por ultimo, a diferencia de los archivos <mark style=\"background-color: #e5e7e9 ; padding:0 0.3em 0; font-family:Consolas \">HTML</mark> que <b>posee etiquetas preconcebidas</b> como por ejemplo: h1, p, a; en <mark style=\"background-color: #e5e7e9 ; padding:0 0.3em 0; font-family:Consolas \">XML</mark> las etiquetas <b>pueden tomar cualquier nombre</b></p>"
   ]
  },
  {
   "cell_type": "markdown",
   "id": "0f86644b",
   "metadata": {},
   "source": [
    "<p style=\"color:chocolate; font-weight:bold; font-size:16px\">Example 1</p>"
   ]
  },
  {
   "cell_type": "markdown",
   "id": "e51f6e87",
   "metadata": {},
   "source": [
    "Importamos la libreria `xml` con el modulo `etree.ElementTree`"
   ]
  },
  {
   "cell_type": "code",
   "execution_count": null,
   "id": "cadbd825",
   "metadata": {},
   "outputs": [],
   "source": [
    "import xml.etree.ElementTree as ET"
   ]
  },
  {
   "cell_type": "code",
   "execution_count": null,
   "id": "62628c3f",
   "metadata": {},
   "outputs": [],
   "source": [
    "#Para poder crear posteriormente un archivo tipo XML se debe usar la triple comilla \n",
    "data = ''' \n",
    "<person>\n",
    "    <name>Chuck</name>\n",
    "    <phone type=\"intl\">\n",
    "        +1 734 303 4456\n",
    "    </phone>\n",
    "    <email hide=\"yes\"/>\n",
    "</person>\n",
    "'''\n",
    "print(type(data))\n",
    "\n",
    "#Generamos el archivo XML\n",
    "tree = ET.fromstring(data)\n",
    "print(type(tree),\"\\n\")\n",
    "\n",
    "#Buscamos la etiqueta name, y luego obtenemos el texto contenido en esa etiqueta\n",
    "print('Name:', tree.find('name').text)\n",
    "#Buscamos la etiqueta email, y luego recibimos el valor que contiene el atributo hide\n",
    "print('Attr:', tree.find('email').get('hide'))"
   ]
  },
  {
   "cell_type": "markdown",
   "id": "a04057c3",
   "metadata": {},
   "source": [
    "<p style=\"color:chocolate; font-weight:bold; font-size:16px\">Example 2</p>"
   ]
  },
  {
   "cell_type": "code",
   "execution_count": null,
   "id": "38cca812",
   "metadata": {},
   "outputs": [],
   "source": [
    "import xml.etree.ElementTree as ET\n",
    "\n",
    "x = '''\n",
    "<stuff>\n",
    "    <users>\n",
    "    \n",
    "        <user x=\"2\">\n",
    "            <id>001</id>\n",
    "            <name>Chuck</name>\n",
    "        </user>\n",
    "        \n",
    "        <user x = \"7\">\n",
    "            <id>009</id>\n",
    "            <name>Brent</name>\n",
    "        </user>\n",
    "        \n",
    "    </users>\n",
    "</stuff>\n",
    "'''\n",
    "\n",
    "stuff = ET.fromstring(x)\n",
    "#Vamos a buscar todos las etiques <user> contenidas en la etique <users>. El resultado sera un lista de los tag\n",
    "lst = stuff.findall('users/user')\n",
    "print(lst)\n",
    "print('Users count:', len(lst),'\\n')\n",
    "\n",
    "#Ahora para obtener la informacion de cada tag haremos una iteration\n",
    "for item in lst:\n",
    "    print('Usuario:', item.find('name').text)\n",
    "    print('ID:', item.find('id').text)\n",
    "    #Asumiendo que ya estamos analziando el tag <user> no es necesario usar item.find('user').get('x') para \n",
    "    #recuperar el atributo, tan solo tenemos que usar item.get()\n",
    "    print('Atributo:', item.get('x'))"
   ]
  },
  {
   "cell_type": "markdown",
   "id": "5d85ab77",
   "metadata": {},
   "source": [
    "## XML Schema\n",
    "---"
   ]
  },
  {
   "cell_type": "markdown",
   "id": "3e3555ac",
   "metadata": {},
   "source": [
    "Es la descripcion del **'formato legal'** de un archivo <mark style=\"background-color: #e5e7e9 ; padding:0 0.3em 0; font-family:Consolas \">XML</mark>. Expresando en terminos de codigo, las limitaciones en la estructura y contenido de un documento XML\n",
    "\n",
    "A menudo usado para especificar un **'contrato'** entre sistemas \n",
    "\n",
    ">\"mi sistema solo aceptara XML que sean conformados por este particular Schema\"\n",
    "\n",
    "Si en un determinado archivo <mark style=\"background-color: #e5e7e9 ; padding:0 0.3em 0; font-family:Consolas \">XML</mark> se encuentran las especificaciones de un Schema \"se dira como valido\""
   ]
  },
  {
   "cell_type": "markdown",
   "id": "4090c3ab",
   "metadata": {},
   "source": [
    "<p style = \"color: Chocolate; font-weight: bold; font-size: 1.1em\"> Example 1</p>"
   ]
  },
  {
   "cell_type": "code",
   "execution_count": null,
   "id": "521fd3d6",
   "metadata": {},
   "outputs": [],
   "source": [
    "#XML\n",
    "'''\n",
    "<person>\n",
    "    <name>Chuck</name>\n",
    "    <phone type=\"intl\">\n",
    "        +1 734 303 4456\n",
    "    </phone>\n",
    "    <email hide=\"yes\"/>\n",
    "</person>\n",
    "'''\n",
    "\n",
    "#XML Schema\n",
    "'''\n",
    "<xs:complexType name=\"person\">\n",
    "    <xs:sequence>\n",
    "        <xs:element name =\"lastaname\" type=\"xs:string\"/>\n",
    "        <xs:element name =\"age\" type=\"xs:integer\"/>\n",
    "        <xs:element name =\"dateborn\" type=\"xs:date\"/>\n",
    "    </xs:sequence>\n",
    "</xs:complexType>\n",
    "'''"
   ]
  },
  {
   "cell_type": "markdown",
   "id": "49e3693c",
   "metadata": {},
   "source": [
    "Hay diferentes lenguajes de <mark style=\"background-color: #e5e7e9 ; padding:0 0.3em 0; font-family:Consolas \">\n",
    "XML Schema</mark>. <b>Uno muy comun</b> es llamado <mark style=\"background-color: #e5e7e9 ; padding:0 0.3em 0; font-family:Consolas \">XSD</mark> el cual es la <b>especificacion XML Schema de W3C</b> (world wide web consortiums) "
   ]
  },
  {
   "cell_type": "markdown",
   "id": "671ef0be",
   "metadata": {},
   "source": [
    "## JSON (Java Script Object Notation)\n",
    "---"
   ]
  },
  {
   "cell_type": "markdown",
   "id": "22d93a3f",
   "metadata": {},
   "source": [
    "Comunmente encontraras mas archivos tipo <mark style=\"background-color: #e5e7e9 ; padding:0 0.3em 0; font-family:Consolas \">JSON</mark> que <mark style=\"background-color: #e5e7e9 ; padding:0 0.3em 0; font-family:Consolas \">XML</mark>. El formato <mark style=\"background-color: #e5e7e9 ; padding:0 0.3em 0; font-family:Consolas \">JSON</mark> es muy <b>bueno para extraer data de un sistema</b> y <b>moverla a un segundo sistema</b> con minimo escandalo.\n",
    "\n",
    "El formato <mark style=\"background-color: #e5e7e9 ; padding:0 0.3em 0; font-family:Consolas \">JSON</mark> fue presentado por <b>Douglas Crockford</b>, el cual dice que no lo creo sino que lo \"descubrio\". \n",
    "\n",
    "Los archivos <mark style=\"background-color: #e5e7e9 ; padding:0 0.3em 0; font-family:Consolas \">JSON</mark> <b>no son un estandar internacional</b>. Realmente lo que paso fue que Douglas Crockford decidio crear JSON.org (simplemente un pagina web) y <b>la gente empezo a leerlo empezo a usarlo</b>.\n",
    "\n",
    "En Python los archivos <mark style=\"background-color: #e5e7e9 ; padding:0 0.3em 0; font-family:Consolas \">JSON</mark> son leidos simplemente como una variable de tipo <mark style=\"background-color: #e5e7e9 ; padding:0 0.3em 0; font-family:Consolas \">list()</mark> o <mark style=\"background-color: #e5e7e9 ; padding:0 0.3em 0; font-family:Consolas \">dic()</mark>. "
   ]
  },
  {
   "cell_type": "markdown",
   "id": "5be7a9aa",
   "metadata": {},
   "source": [
    "<p style=\"color:chocolate; font-weight:bold; font-size:16px\">Example 1</p>"
   ]
  },
  {
   "cell_type": "markdown",
   "id": "b44a1eee",
   "metadata": {},
   "source": [
    "Importamos la libreria <mark style=\"background-color: #e5e7e9 ; padding:0 0.3em 0; font-family:Consolas \">json</mark>"
   ]
  },
  {
   "cell_type": "code",
   "execution_count": 22,
   "id": "aeca60e2",
   "metadata": {},
   "outputs": [],
   "source": [
    "import json"
   ]
  },
  {
   "cell_type": "code",
   "execution_count": 23,
   "id": "96085cc7",
   "metadata": {},
   "outputs": [],
   "source": [
    "data = '''\n",
    "{\n",
    "    \"name\": \"Chuck\",\n",
    "    \"phone\": {\n",
    "        \"type\": \"intl\",\n",
    "        \"number\": \"+1 734 303 4456\"\n",
    "    },\n",
    "    \"email\": {\n",
    "        \"hide\": \"yes\"\n",
    "    }\n",
    "}\n",
    "'''\n",
    "print(type(data))"
   ]
  },
  {
   "cell_type": "markdown",
   "id": "03568dc8",
   "metadata": {},
   "source": [
    "Tranformamos los datos del archivo <mark style=\"background-color: #e5e7e9 ; padding:0 0.3em 0; font-family:Consolas \">JSON</mark> a un formato manejable por Python con el con el metodo <mark style=\"background-color: #e5e7e9 ; padding:0 0.3em 0; font-family:Consolas \">loads()</mark>"
   ]
  },
  {
   "cell_type": "code",
   "execution_count": 28,
   "id": "d9a39f86",
   "metadata": {},
   "outputs": [
    {
     "name": "stdout",
     "output_type": "stream",
     "text": [
      "<class 'dict'>\n"
     ]
    }
   ],
   "source": [
    "info = json.loads(data)"
   ]
  },
  {
   "cell_type": "markdown",
   "id": "33846f9d",
   "metadata": {},
   "source": [
    "Exploramos la `info` como un objeto tipo `dic()`"
   ]
  },
  {
   "cell_type": "code",
   "execution_count": 25,
   "id": "8368c3f9",
   "metadata": {},
   "outputs": [
    {
     "name": "stdout",
     "output_type": "stream",
     "text": [
      "Name Chuck\n",
      "Hide yes\n"
     ]
    }
   ],
   "source": [
    "print('Name', info[\"name\"])\n",
    "print('Hide', info[\"email\"][\"hide\"])"
   ]
  },
  {
   "cell_type": "markdown",
   "id": "c65fc0b3",
   "metadata": {},
   "source": [
    "<p style=\"color:chocolate; font-weight:bold; font-size:16px\">Example 2</p>"
   ]
  },
  {
   "cell_type": "code",
   "execution_count": null,
   "id": "35413cd6",
   "metadata": {},
   "outputs": [],
   "source": [
    "import json\n",
    "\n",
    "data = '''\n",
    "[\n",
    "    {\"id\": \"001\",\n",
    "    \"x\": \"2\",\n",
    "    \"name\":\"Chuck\"},\n",
    "    {\"id\":\"009\",\n",
    "    \"x\": \"7\",\n",
    "    \"name\":\"Chuck\"}\n",
    "]\n",
    "'''\n",
    "print(type(data))\n",
    "\n",
    "info = json.loads(data)\n",
    "print('User count:', len(info))\n",
    "\n",
    "for item in info:\n",
    "    print('Name',item[\"name\"])\n",
    "    print('Id',item[\"id\"])"
   ]
  },
  {
   "cell_type": "markdown",
   "id": "e1056bb4",
   "metadata": {},
   "source": [
    "## Web Services SOA\n",
    "---"
   ]
  },
  {
   "cell_type": "markdown",
   "id": "17aaa23e",
   "metadata": {},
   "source": [
    "<div style = \"text-align:justify\" >\n",
    "El <b>efoque orientado al servicio</b> (SOA = Service-Oriented Aproach) es una forma de abordar la solucion a un complejo problema de aplicacion, donde todos los datos realmente no están presentes en un solo sistema de computadora, sino de alguna manera estan difundidos a traves del internet o una red interna. \n",
    "<br>\n",
    "<br>\n",
    "Por lo que <b>la idea de aquí es que algunas aplicaciones no pueden contener todo</b>. Por ejemplo un sitio web de viajes, en él se puede reservar un vuelo, un auto, un hotel, etc., aún sabiendo que este sitio web no es un hotel, no es una compañía de arriendo de autos, ni una aerolinea. Lo que se esta haciendo es hablar con todos estos servicios en otro lugar de la web en su nombre y realizar las reservas.\n",
    "<br>\n",
    "<br>\n",
    "Los servicios publican las reglas de su aplicacion que deben seguir para hacer uso del servicio <b>(API)</b>\n",
    "</div>"
   ]
  },
  {
   "cell_type": "markdown",
   "id": "f08f61ec",
   "metadata": {},
   "source": [
    "## Web Services GeoJSON\n",
    "---"
   ]
  },
  {
   "cell_type": "markdown",
   "id": "e641b937",
   "metadata": {},
   "source": [
    "### Application Program Interface (API)"
   ]
  },
  {
   "cell_type": "markdown",
   "id": "526a8679",
   "metadata": {},
   "source": [
    "<div style = \"text-align:justify\" >\n",
    "Una <mark style=\"background-color: #e5e7e9 ; padding:0 0.3em 0; font-family:Consolas \">\n",
    "API</mark> es la interfaz de programacion de la aplicacion (Application Program Interface). \n",
    "<br><br>\n",
    "Una <mark style=\"background-color: #e5e7e9 ; padding:0 0.3em 0; font-family:Consolas \">API</mark> en sí es en gran medida abstracta, ya que especifica una interfaz y controla el comportamiento de los objetos especificados en esa interfaz.Tiene un set de reglas que te dicen por ejemplo:\n",
    "\n",
    "<ul>\n",
    "<li>Lo que son las URLs que maneja, \n",
    "<li>Si su formato es XML o JSON, etc. \n",
    "</ul>\n",
    "\n",
    "<div style = \"text-align:justify\" >\n",
    "Una <mark style=\"background-color: #e5e7e9 ; padding:0 0.3em 0; font-family:Consolas \">API</mark> es definida tipicamente en los termino del lenguaje de programacion usado en la construccion de la aplicacion. \n",
    "<br><br>\n",
    "<b>La siguiente URL es un ejemplo de una respuesta</b> de la <mark style=\"background-color: #e5e7e9 ; padding:0 0.3em 0; font-family:Consolas \">API de Google Map</mark> para la direccion Ann Arbor\n",
    "\n",
    "http://maps.googleapis.com/maps/api/geocode/json?address=Ann+Arbor%2C+MI\n",
    "\n",
    "<br>\n",
    "<div style = \"text-align:justify\" >\n",
    "Podemos observar que es un archivo JSON y la direccion es Ann Arbor. El signo <mark style=\"background-color: #e5e7e9 ; padding:0 0.3em 0; font-family:Consolas \">+</mark> significa un espacio, y el signo <mark style=\"background-color: #e5e7e9 ; padding:0 0.3em 0; font-family:Consolas \">%</mark> significa una ','. Esta parte de la URL se llama <mark style=\"background-color: #e5e7e9 ; padding:0 0.3em 0; font-family:Consolas \">'URl encoded'</mark> (No hay que preocuparse de esto por ahora ya que Python tiene una libreria que nos permite codificar una direccion con este tipo de formato)\n",
    "</div>"
   ]
  },
  {
   "cell_type": "markdown",
   "id": "329367f9",
   "metadata": {},
   "source": [
    "<p style=\"color:chocolate; font-weight:bold; font-size:16px\">Example 1 </p>\n",
    "\n",
    "<br>\n",
    "<div style = \"text-align:justify\" >\n",
    "La URL anterior nos mostrara algo como el ejemplo debajo (en realidad ahora no nos muestra algo como lo de abajo dado que la API de google actualmente pide una key para ser usada)\n",
    "</div>"
   ]
  },
  {
   "cell_type": "code",
   "execution_count": null,
   "id": "0d2a9693",
   "metadata": {},
   "outputs": [],
   "source": [
    "GeoJSON_P ='''\n",
    "{\n",
    "        \"status\": \"OK\",\n",
    "        \"results\": [\n",
    "        {\n",
    "            \"geometry\":{\n",
    "                \"location_type\":\"APPROXIMATE\",\n",
    "                \"location\": {\n",
    "                    \"lat\": \"42.2808256\",\n",
    "                    \"lng\": \"-83.7430378\"\n",
    "                }\n",
    "            },\n",
    "            \"address_components\": [\n",
    "                {\n",
    "                    \"long_name\": \"Ann Arbor\",\n",
    "                    \"types\": [\n",
    "                        \"locality\",\n",
    "                        \"political\"\n",
    "                    ],\n",
    "                    \"short_name\": \"Ann Arbor\"\n",
    "                }\n",
    "            ],\n",
    "            \"formatted:address\": \"Ann Arbor, Mi, USA\",\n",
    "            \"types\": [\n",
    "                \"locality\",\n",
    "                \"political\"\n",
    "            ]\n",
    "        }\n",
    "    ]\n",
    "}\n",
    "'''"
   ]
  },
  {
   "cell_type": "markdown",
   "id": "80fa15de",
   "metadata": {},
   "source": [
    "Importamos la librerias con sus metodos correspondientes: <mark style=\"background-color: #e5e7e9 ; padding:0 0.3em 0; font-family:Consolas \">urllib.request</mark>, <mark style=\"background-color: #e5e7e9 ; padding:0 0.3em 0; font-family:Consolas \">urllib.parse</mark>, <mark style=\"background-color: #e5e7e9 ; padding:0 0.3em 0; font-family:Consolas \">urllib.error</mark> y <mark style=\"background-color: #e5e7e9 ; padding:0 0.3em 0; font-family:Consolas \">json</mark>"
   ]
  },
  {
   "cell_type": "code",
   "execution_count": null,
   "id": "a92ade40",
   "metadata": {},
   "outputs": [],
   "source": [
    "import urllib.request, urllib.parse, urllib.error\n",
    "import json\n",
    "\n",
    "serviceurl = 'http://maps.googleapis.com/maps/api/geocode/json?'\n",
    "\n",
    "while True:\n",
    "    address = input('Enter location: ')\n",
    "    if len(address) < 1: break\n",
    "    \n",
    "    #codificamos la direccion \n",
    "    url = serviceurl + urllib.parse.urlencode({'address':address})\n",
    "    \n",
    "    print('Retrieving' + url)\n",
    "    #hacemos la solicitud para abrir la url\n",
    "    uh = urllib.request.urlopen(url)\n",
    "    #decodificamos la informacion solicitadda \n",
    "    data = uh.read().decode()\n",
    "    print('Retrieved', len(data), 'characters')\n",
    "    \n",
    "    #en esta parte podria existir un error en caso de que la url no este \n",
    "    #disponible.     \n",
    "    try:\n",
    "        js = json.loads(data)\n",
    "    except:\n",
    "        js = None\n",
    "    \n",
    "    #si el json no existe o si 'status' no esta correcto ('OK') entonces \n",
    "    #entregamos mensaje de que hubo un error\n",
    "    if not js or 'status' not in js or js['status'] != 'OK':\n",
    "        print('==== Failure to Retrieve ====')\n",
    "        print(data)\n",
    "        continue \n",
    "        \n",
    "#Como sabemos que actualmente la API de google pide key, simulamos el GeoJson\n",
    "js = json.loads(GeoJSON_P)\n",
    "lat = js[\"results\"][0][\"geometry\"][\"location\"][\"lat\"]\n",
    "lng = js[\"results\"][0][\"geometry\"][\"location\"][\"lng\"]\n",
    "print('lat', lat, \"long\", lng)"
   ]
  },
  {
   "cell_type": "markdown",
   "id": "c4308051",
   "metadata": {},
   "source": [
    "En los archivos del curso, en la carpeta:`code3/geocode/` , se encuentra el archivo geoload.py para estudiar la forma de conectar a una key API"
   ]
  },
  {
   "cell_type": "markdown",
   "id": "20a69b1b",
   "metadata": {},
   "source": [
    "## Web Services Twitter\n",
    "---"
   ]
  },
  {
   "cell_type": "markdown",
   "id": "188e1b4c",
   "metadata": {},
   "source": [
    "### API Security and Rate Limiting\n",
    "\n",
    "Cuando hablamos de la seguridad y un rango limitado de computo de las API nos referimos a:\n",
    "* Las fuentes de computos que corren estas API no son \"libres\" \n",
    "* Los datos provenientes de esas APIs son usualmente valiosos\n",
    "* Los provedores de datos podrian limitar el numero de consultas por dia, ademas de demandar una API \"key\", o incluso cargo por el uso\n",
    "* Ellos pueden cambiar las reglas mientras las cosas progresan"
   ]
  },
  {
   "cell_type": "markdown",
   "id": "d119e825",
   "metadata": {},
   "source": [
    "<div style = \"text-align:justify\" >\n",
    "En este sub captiulo se enseña el uso de la API de Twitter. <b>Actualmente la API de Twitter funciona de manera distinta a como funcionaba el 2016</b>. Dado que el ejercicio prospuesto por el curso se realizo el año 2016, no funciona el metodo para ingresar la 'Key' y el 'Token' que pide actualmente la API de Twitter \n",
    "para usar su funcionalidad interna. <br> \n",
    "<b>Es por esto que, (por motivos de descontinuidad) los ejercicios que se proponen no se mostraran aquí</b>. <b>De todas formas son ejercicios que ayudan a entender el uso de una API</b> obviando el uso de 'Key' y 'Token'. Para ver el ejercicio consulte el siguente Link. \n",
    "</div>\n",
    "\n",
    "\n",
    "https://www.youtube.com/watch?v=zJzPyEPCbXs&t=19s\n",
    "\n",
    "**Los codigos de practica del video se encuentran en la carpeta <mark style=\"background-color: #e5e7e9 ; padding:0 0.3em 0; font-family:Consolas \">code3</mark>"
   ]
  },
  {
   "cell_type": "markdown",
   "id": "af9288d6",
   "metadata": {},
   "source": [
    "----------------------------------------------------------------------------------------------------------------------------------\n",
    "----------------------------------------------------------------------------------------------------------------------------------\n",
    "--------------------------------------------\n",
    "--------------------------------------------"
   ]
  },
  {
   "cell_type": "markdown",
   "id": "5de3fef4",
   "metadata": {},
   "source": [
    "# **Database**"
   ]
  },
  {
   "cell_type": "markdown",
   "id": "2f3365fe",
   "metadata": {},
   "source": [
    "## Relation Databse and SQLite\n",
    "---\n",
    "<h3 style=\"color: DarkCyan\"><b> SQL </b></h3>\n",
    "\n",
    "**Structure Query Lenguaje** (SQL) es el lenguaje que usamos para emitir comandos a la base de datos:\n",
    "* Crear Tablas\n",
    "* Recibir datos\n",
    "* Incertar datos\n",
    "* Remover datos\n",
    "\n",
    "<div style = \"text-align:justify\" >\n",
    "<b>SQL es un lenguaje imperativo no de procedimientos</b>, es decir que solo se basa en expresar una orden o imposicion, donde solo se dice lo que se quiere y entonces \"algo\" comienza a iterar y a resolver el requerimiento solicitado.\n",
    "</div>\n",
    "\n",
    "<h3 style=\"color: DarkCyan\"><b> Sistemas comunes de Bases de Datos </b></h3>\n",
    "\n",
    "Son 3 los sistemas de bases de datos en amplio uso:\n",
    "* **Orcle**: Grande, de uso comercial, de escala empresarial, muy modificlable\n",
    "* **MySql**: Muy simple pero rapido y escalable, comercial-open source\n",
    "* **SqlServer**: Muy agradable perteneciene a Microsoft (tambien de Access)\n",
    "\n",
    "Muchos otros pequeños projectos, libres y open source\n",
    "* HSQL, **SQLite**, **Postgres**\n",
    "\n",
    "<div style = \"text-align:justify\" >\n",
    "Mysqlo fue comprado por Oracle, aunque se siguio con un servidor open source llamado <b>MariaDB</b>. Por otro lado, el sistema de bases de datos mas popular es <b>Postgres</b>. \n",
    "</div>\n"
   ]
  },
  {
   "cell_type": "markdown",
   "id": "c7dacf1b",
   "metadata": {},
   "source": [
    "## Lets Make a Database\n",
    "---\n",
    "<div style = \"text-align:justify\" >\n",
    "Vamos a practicar con el Broser de SQLite y iremos aprendiendo los comandos principales para crear y manejar tablas en nuestra base de datos.\n",
    "</div>"
   ]
  },
  {
   "cell_type": "markdown",
   "id": "d1b3f1c6",
   "metadata": {},
   "source": [
    "**CREATE TABLA**\n",
    "<br>\n",
    "`CREATE TABLE \"Users\" (\"name\" TEXT, \"email\" TEXT)`\n",
    "\n",
    "Se crea una tabla de nombre *Users* con las columnas *name* y *email*, ambas de tipo texto\n",
    "\n",
    "**INSERT INTO**\n",
    "<br>\n",
    "`INSERT INTO Users (name,email) VALUES ('Kristin','kf@umish.edu')`\n",
    "\n",
    "Se incerta en la tabla *Users* en las columbas *name y email* los valores *Kristin, 'kf@umish.edu'*\n",
    "\n",
    "**DELETE FROM**\n",
    "<br>\n",
    "`DELETE FROM Users WHERE email = 'ted@umich.edu'`\n",
    "\n",
    "Se borra, de la tabla *Users*, todas las filas si es que la clausula `WHERE` no esta presente. La clausula `DELETE` recorre toda la tabla que se le asigna, y es la clausula `WHERE` la que  determina en que momento (o en que fila) la clausula `DELETE` se activa o se apaga\n",
    "\n",
    "**UPDATE**\n",
    "<br>\n",
    "`UPDATE Users SET name='Charles' WHERE email='csev@umich.edu'`\n",
    "\n",
    "Se actualiza el valor de un campo. En este caso `UPDATE` actualiza la tabla *Users*, la clausula `SET` (colocar) determina el cambio, y la clausula `WHERE` determina la fila donde se hara\n",
    "\n",
    "**SELECT**\n",
    "<br>\n",
    "`SELECT * FROM Users`\n",
    "\n",
    "Se seleccionan todas (\\*) las filas de la tabla *User*\n",
    "\n",
    "`SELECT * FROM Users WHERE email = 'csev@umich.edu'`\n",
    "\n",
    "Se seleccionan todas (\\*) las filas de la tabla *User*, donde (`WHERE`) el campo mail sea igual a *'csev@umich.edu'*\n",
    "\n",
    "**ORDEN BY**\n",
    "<br>\n",
    "`SELECT * FROM Users ORDEN BY email`\n",
    "<br>\n",
    "`SELECT * FROM Users ORDEN BY name DESC`\n",
    "\n",
    "Se seleccionan todas las filas de la tabla *Users*, para ser ordenadas 'ORDEN BY' por el campo email. El otro caso nos dice lo mismo pero por el campo *name* y de orden descendiente \n",
    "\n",
    "\n",
    "\n",
    "\n",
    "\n"
   ]
  },
  {
   "cell_type": "markdown",
   "id": "219988c5",
   "metadata": {},
   "source": [
    "<p style=\"color:chocolate; font-weight:bold; font-size:16px\">Exercise 1</p>"
   ]
  },
  {
   "cell_type": "code",
   "execution_count": null,
   "id": "9654161a",
   "metadata": {},
   "outputs": [],
   "source": [
    "#Improtamos la libreria para trabajar con SQlite\n",
    "import sqlite3\n",
    "\n",
    "#Creamos virtualmente la base de datos 'emaildb.sqlite' y nos conectamos a ella, aunque aun no es un archivo manejable\n",
    "conn = sqlite3.connect('emaildb.sqlite')\n",
    "#la variable cur sera el cursor que nos permitira estar conectados a la base y ademas poder realizar consultas SQL\n",
    "cur = conn.cursor()\n",
    "\n",
    "#Esta linea nos permite decir que si ya existe la tabla 'Counts' entonces que la descarte de la base de datos.\n",
    "#Esto lo hacemos para evitar que estalle el codigo. \n",
    "cur.execute('DROP TABLE IF EXISTS Counts')\n",
    "\n",
    "#Creamos la tabla 'Counts', con los campos email TEXT y count INTEGER\n",
    "cur.execute('''CREATE TABLE Counts (email TEXT, count INTEGER)''')\n",
    "\n",
    "fname = input('Enter file name: ')\n",
    "if (len(fname) < 1): fname = 'mbox-short.txt'\n",
    "fh = open(fname)\n",
    "for line in fh:\n",
    "    if not line.startswith('From: '): continue\n",
    "    pieces = line.split()\n",
    "    email = pieces[1]\n",
    "#Se utiliza '?' en email = ? dado que es peligroso poner un email (ej. csev@umich.cl) directamente, tecnicamente igual se podria hacer pero no es recomendable.\n",
    "#Si googleas SQL Injection te enteraras mas en detalle lo que sucede con esto. Lo que hacemo entonces seleccionar el campo 'count',\n",
    "#usando de identificador el campo 'email'. Destacando que el campo 'email' ahora es colocado como una tupla de un solo elemento.    \n",
    "    cur.execute('SELECT count FROM Counts WHERE email = ? ', (email,))\n",
    "#Se recupera la primera fila seleccionada por consulta anterior con el metodo fetchone()  \n",
    "    row = cur.fetchone()\n",
    "#Si la fila recuperada esta vacia entonces se incerta a la tabla 'Counts' en los campos 'email' y 'count' los valores (?,1)\n",
    "#en donde el valor de email sera agregado mediante una tupla de un solo elemento.\n",
    "    if row is None:\n",
    "        cur.execute('''INSERT INTO Counts (email, count)\n",
    "                VALUES (?, 1)''', (email,))\n",
    "#En caso contrario se actualiza el campo count y suma 1 al valor anterior \n",
    "    else:\n",
    "        cur.execute('UPDATE Counts SET count = count + 1 WHERE email = ?',\n",
    "                    (email,))\n",
    "#finalmente el metodo commit() entrega a la base de datos el/los valores que tenemos en nuestra base de datos virtual, es decir pasa los datos virtuales \n",
    "#de la BD al disco de memoria de la BD. En este momento tenemos recien los datos cargados en nuestra BD.\n",
    "#Esta parte de mandar la informacion a la memoria de la base de datos es la que requiere mayor tiempo de procesamiento. Se puede cambiar la poscision \n",
    "#del del metodo commit() en el codigo, muchas veces se realiza el commit luego de unas 10 o mas iteraciones. En este caso lo haremos al finalizar cada ciclo.\n",
    "    conn.commit()\n",
    "\n",
    "#Generamos una variable que contenga la declaracion que queremos realizar. En resumen lo que queremos hacer es ordenar la tabla de forma decendiente \n",
    "#por medio del campo count, pero considerando solo los primeros 10 con mayor valor \n",
    "sqlstr = 'SELECT email, count FROM Counts ORDER BY count DESC LIMIT 10' # https://www.sqlite.org/lang_select.html\n",
    "\n",
    "for row in cur.execute(sqlstr):\n",
    "    print(str(row[0]), row[1])\n",
    "\n",
    "#Finalmente cerramos el cursos, por lo que cerramos la coneccion con la base de datos.\n",
    "cur.close()\n",
    "\n",
    "#Ahora tenemos una bases de datos creadas que se encuentra en el directorio de trabajo. "
   ]
  },
  {
   "cell_type": "markdown",
   "id": "80511075",
   "metadata": {},
   "source": [
    "<p style=\"color:chocolate; font-weight:bold; font-size:16px\">Exercise 2</p>\n",
    "<br>\n",
    "<div style = \"text-align:justify\" >\n",
    "    El siguiente ejercicio <b>se basa de llevar los datos obtenidos por consulta a la</b> <mark style=\"background-color: #e5e7e9 ; padding:0 0.3em 0; font-family:Consolas \">API de twitter</mark><b> a una base de datos</b>. Como se dijo anteriormente, <b>por motivos de descontinuidad en el acceso a </b><mark style=\"background-color: #e5e7e9 ; padding:0 0.3em 0; font-family:Consolas \">la API de Twitter</mark> este ejercicio <b>solo sera indicativo</b> para observar el uso de ingreso de informacion a una base de datos.\n",
    "</div>\n",
    "\n",
    "<br>\n",
    "\n",
    "El link del ejercicio es: \n",
    "https://www.youtube.com/watch?v=wQNjza1gb_g\n",
    "<br>\n",
    "\n",
    "Los codigos de practica del ejercicio se encuentran en la carpeta `code3`"
   ]
  },
  {
   "cell_type": "markdown",
   "id": "b1558a18",
   "metadata": {},
   "source": [
    "## Complex Data Models and Relationships\n",
    "---"
   ]
  },
  {
   "cell_type": "markdown",
   "id": "c216c45f",
   "metadata": {},
   "source": [
    "<h3 style=\"color: DarkCyan\"><b> Databse Desing </b></h3>\n",
    "\n",
    "<p style=\"text-align:justify\">\n",
    "El diseño de bases de datos es una forma de arte propia con particulares habilidades y experincia, que comienzan con una imagen diseño de la BD que se quiere modelar.\n",
    "<br><br>\n",
    "Los modelos de base de datos se convierte en la columna vertebral del conocimientos que las aplicaciones gestionan y utilizan\n",
    "\n",
    "\n",
    "<img style = \"display:flex; margin-left:auto; margin-right:auto\" \n",
    "  src=\"2021-05-24_11h07_59.png\" width=\"400\" height=\"400\" > </img>\n",
    "<br>\n",
    "<h3 style=\"color: DarkCyan\"><b> Building a Data Model </b></h3>\n",
    "\n",
    "<p style=\"text-align:justify\">\n",
    "<ol>\n",
    "<li> Dibuja un esquema de los objetos de datos o atributos que manejara tu aplicacion \n",
    "<li>Descubre como representar los objetos (los cuales seran las tablas con sus propios atributos) y las relaciones entre ellos. Se debe identificar el objeto principal que modulara la base de datos.\n",
    "<li>Regla basica: No pongas el mismo dato de string dos veces en la BD - encambio usa una relacion (para mas informacion google normalizacion de bases de datos)"
   ]
  },
  {
   "cell_type": "markdown",
   "id": "5024c3a7",
   "metadata": {},
   "source": [
    "<h3 style=\"color: DarkCyan\"><b> Data Base Normalization (3FN) </b></h3>\n",
    "<br>\n",
    "<div style = \"text-align:justify\" >\n",
    "Lo que se trata de resolver en la construccion de una base de datos es la nocion de normalizacion de esta. Hay mucha teoria sobre la normalizacion de las bases de datos, pero en este caso solo nos reduciremos a no replicar datos de cadenas y usar lo que se llaman 'keys' para apuntar hacia otras tablas y generar la relaciones.\n",
    "</div>\n",
    "\n",
    "<h3 style=\"color: DarkCyan\"><b> Three kinds of Keys </b></h3>\n",
    "\n",
    "* **Primary key** - generalmente un campo de int (entero) de auto-incremento, identificado comunmente por ID\n",
    "* **Logical key** - campo que normalmente usan los usuarios para buscar informacion. ej: nombre del track, album, artista, genero, etc.\n",
    "* **Foreign key** - generalmente un campo int (entero) para apuntar a una fila en otra tabla.\n",
    "\n",
    "    \n",
    "<h3 style=\"color: DarkCyan\"><b> Key Rules </b></h3>\n",
    "\n",
    "* Nunca usar tu Logical key como Primary key\n",
    "* Las relaciones que son basadas en **matching string fields** son menos eficientes que las que se usan con con campos de int (enteros)\n",
    "\n",
    "<h3 style=\"color: DarkCyan\"><b> Foreign Key </b></h3>\n",
    "\n",
    "* Una Foreign key es cuando una tabla tiene una columna que contiene una key la cual apunta a la Primary key  de otra tabla\n",
    "* Cuando todas las Primary keys son enteros, entonces todas las Foreign keys son entero - esto es bueno -\n",
    "    \n",
    "|Artist| <---------- |Album|\n",
    "| --- | --- | --- |\n",
    "|id||id|\n",
    "|name||title|\n",
    "|||artist_id|\n",
    "\n",
    "* Es bueno usar tener una convencion de nomeclatura. En el caso anterior se observa que la Foreign key de la tabla Album pose el nombre de la tabla a la que apunta (Artist) mas el sufijo de id. "
   ]
  },
  {
   "cell_type": "markdown",
   "id": "a33114f0",
   "metadata": {},
   "source": [
    "## Relationship Building (in tables)\n",
    "\n",
    "---\n",
    "En el siguiente video se ve el desarrollo en el Browser de SQLite de como se crea una base de datos basica. Se muestra como se crean las tablas y las relaciones entre ellas del siguiente esquema.\n",
    "\n",
    "<img style = \"display:flex; margin-left:auto; margin-right:auto\" \n",
    "  src=\"2021-05-24_12h12_13.png\" width=\"400\" height=\"400\" > </img>\n",
    " \n",
    "\n",
    "**URL**: https://www.youtube.com/watch?time_continue=103&v=GfuH_8uH16k&feature=emb_logo"
   ]
  },
  {
   "cell_type": "markdown",
   "id": "ffac57dd",
   "metadata": {},
   "source": [
    "## Join Across Tables\n",
    "---"
   ]
  },
  {
   "cell_type": "markdown",
   "id": "59db9dec",
   "metadata": {},
   "source": [
    "Ya construida la base de datos y las relaciones entre tablas, **lo que queremos ahora es mostrar la tabla de salida con la cual el usuario va a ver y interactuar**. Para estas ocaciones, en bases de datos relacional, tenemos el metodo Join\n",
    "\n",
    "* La operacion Join genera un link atraves varias tablas\n",
    "* Se debe indicar al metodo Join como usar las keys que haran la coneccion entre tablas usando la clausula 'ON'"
   ]
  },
  {
   "cell_type": "markdown",
   "id": "f47a9bd4",
   "metadata": {},
   "source": [
    "**Veamos la siguiente sentencia:**\n",
    "\n",
    "`SELECT Album.title, Artist.name from Album JOIN Artist ON Album.artist_id = Artist.id`\n",
    "\n",
    "1. Se selecciona el campo title de la tabla Album, como tambien el campo name de la tabla Artist. Esto nos indica que campos se mostraran para la tabla de salida.\n",
    "2. Se hace el `JOIN` de la tabla Album a la tabla Artist. Se puede entender esto graficamente como: la tabla Album trae hacia si la tabla Artist.  \n",
    "3. La clausula `ON` determina la condiciones para la union entre las tablas. En este ejemplo solo se realizara la union cuando se cumpla que el campo artist_id de la tabla Album sea igual al campo id de la tabla Artist. \n",
    "\n",
    "<div style = \"text-align:justify\" >\n",
    "En caso de que la clausula <mark style=\"background-color: #e5e7e9 ; padding:0 0.3em 0; font-family:Consolas \">ON</mark> se omita, lo que ocurrira es que se uniran las tablas sin considerar ningun restriccion, es decir se uniran las tablas tal cual estan definidas y ordenadas. Es mas todos las filas de la tabla que se estra trayendo se concadenaran con la primera fila de la tabla receptora, luego todos las filas de la tabla que se esta atrayendo se concadenaran con la segunda fila de la tabla receptora, y asi sucesivamente.  Es decir que si una tabla tiene 10 fila y se une con una tabla de 30 fila, emitiendo la clausula <mark style=\"background-color: #e5e7e9 ; padding:0 0.3em 0; font-family:Consolas \">ON</mark>, la tabla resultante tendra 300 filas.\n",
    "</div>\n"
   ]
  },
  {
   "cell_type": "markdown",
   "id": "04fb923d",
   "metadata": {},
   "source": [
    "<p style=\"color:chocolate; font-weight:bold; font-size:16px\">Exercise</p>"
   ]
  },
  {
   "cell_type": "code",
   "execution_count": null,
   "id": "4fdef8a7",
   "metadata": {},
   "outputs": [],
   "source": [
    "#Debido a que vamos a leer un archivo fuera de nuestra carpeta de nuestro directorio\n",
    "#cambiamos de directorio. Importamos la libreria 'os'\n",
    "import os\n",
    "#Visualizamos el directorio actual\n",
    "os.getcwd()\n",
    "#Cambiamos el directorio\n",
    "os.chdir('C:\\\\Users\\\\yo\\\\Desktop\\\\Python -Geocomputing with Python - freeCodeCamp\\\\code3\\\\tracks')\n",
    "\n",
    "#---------------------------------------------------------------------------------------------------------\n",
    "\n",
    "#El objetivo del sgte codigo es hacer una base de datos que contenga una lista de canciones \n",
    "#y sus caracteristicas como el album al que pertenecen y el artista que la interpreta.\n",
    "\n",
    "#Importamos las librerias para trabajar con XML y SQL\n",
    "import xml.etree.ElementTree as ET\n",
    "import sqlite3\n",
    "\n",
    "#Nos conectamos a una base de datos, y creamos el cursos para manejar la base de datos\n",
    "conn = sqlite3.connect('trackdb.sqlite')\n",
    "cur = conn.cursor()\n",
    "\n",
    "#Con exectuescript() podemos declarar y correr una bloque de codigo de SQL. Notese que cada sentencia \n",
    "#declarada tiene que ir separada por ';'. La finalidad de las siguientes sentencias son:\n",
    "\n",
    "#1.En caso de que las tablas Artist, Album y Track existan las descartamos de nuestra BD\n",
    "#2.Creamos las tablas Artist, Album y Track. Notese que el id de cada tabla se declara como: un entero, \n",
    "#no nulo, declarado como primary key, que autoincrementa, y unico. \n",
    "#3.Se observa en las tablas Album y Track las respectivas foreign key artist_id y album_id\n",
    "#4.Se observa que las logical key de caracter string se declaran como unicas. Recordemos que los campos\n",
    "#de tipo string son los que tenemos que evitar que no se repitan cada una de las tablas. \n",
    "\n",
    "cur.executescript('''\n",
    "DROP TABLE IF EXISTS Artist;\n",
    "DROP TABLE IF EXISTS Album;\n",
    "DROP TABLE IF EXISTS Track;\n",
    "\n",
    "CREATE TABLE Artist (\n",
    "    id  INTEGER NOT NULL PRIMARY KEY AUTOINCREMENT UNIQUE,\n",
    "    name    TEXT UNIQUE\n",
    ");\n",
    "\n",
    "CREATE TABLE Album (\n",
    "    id  INTEGER NOT NULL PRIMARY KEY AUTOINCREMENT UNIQUE,\n",
    "    artist_id  INTEGER,\n",
    "    title   TEXT UNIQUE\n",
    ");\n",
    "\n",
    "CREATE TABLE Track (\n",
    "    id  INTEGER NOT NULL PRIMARY KEY \n",
    "        AUTOINCREMENT UNIQUE,\n",
    "    title TEXT  UNIQUE,\n",
    "    album_id  INTEGER,\n",
    "    len INTEGER, rating INTEGER, count INTEGER\n",
    ");\n",
    "''')\n",
    "\n",
    "#Abrimos el archivo que queremos explorar\n",
    "fname = input('Enter file name: ')\n",
    "if ( len(fname) < 1 ) : fname = 'Library.xml'\n",
    "\n",
    "#Se crea una funcion para poder recorrer el archivo XML, el cual posee la caracteristica de ser una\n",
    "#lista de diccionarios. Se observa diccionarios anidados\n",
    "\n",
    "#Ejemplo del archivo XML\n",
    "#<dic>\n",
    "# <dic>\n",
    "#    <key>369</key>\n",
    "#    <dic>\n",
    "#        <key>Track ID</key><integer>369</integer>\n",
    "#        <key>Name</key><string>Another One Bites The Dust</string>\n",
    "#        <key>Artist</key><string>Queen</string>\n",
    "#    </dic>\n",
    "# </dic>\n",
    "# <dic>\n",
    "#    <key>369</key>\n",
    "#    <dic>\n",
    "#        <key>Track ID</key><integer>388</integer>\n",
    "#        <key>Name</key><string>someboy to love</string>\n",
    "#        <key>Artist</key><string>Queen</string>\n",
    "#    </dic>\n",
    "# </dic>\n",
    "#</dic>\n",
    "\n",
    "#La funcion opera de la siguiente forma:\n",
    "#1.Se comienza declarando una variable como falsa\n",
    "#2.Se recorren las etiquetas hijos (Mas adelante nos daremos cuenta que recuperaremos cada etiqueta \n",
    "#de tipo diccionarios que contenga las caracteristicas que queremos obtener)\n",
    "#3.Como la etiqueta hijo que queremos obtener es la que sigue de la etiqueta <key> se procede a recuperar\n",
    "#en segundo lugar, en nuestro codigo, la verificacion de que estamos ante una etiqueta de tipo <key>, para \n",
    "#posteriormente en el ciclo siguiente, poder retornar el valor que queremos tener.  \n",
    "\n",
    "\n",
    "def lookup(d, key):\n",
    "    found = False\n",
    "    for child in d:\n",
    "        if found : return child.text\n",
    "        if child.tag == 'key' and child.text == key :\n",
    "            found = True\n",
    "    return None\n",
    "\n",
    "#Abrimos y analizamos el archivo XML.\n",
    "stuff = ET.parse(fname)\n",
    "\n",
    "#Se procede a crear una lista  de todos los elementos dict que se encuentra en la ruta 'dict/dict/dict'\n",
    "all = stuff.findall('dict/dict/dict')\n",
    "\n",
    "#Obtenemos el valor del largo de nuestra lista, es decir el numero de canciones que pudimos recuperar\n",
    "print('Dict count:', len(all))\n",
    "\n",
    "#Se realiza un ciclo por cada elemento de la lista 'all', en donde cada elemento tendra una estructura de \n",
    "#diccionario (pero con estructura XML)\n",
    "for entry in all:\n",
    "    #Se verifica que dentro del elemento dict que se esta analizando exista la etiqueta Track ID, en caso de\n",
    "    #que no exista se pasa al siguiente ciclo\n",
    "    if ( lookup(entry, 'Track ID') is None ) : continue\n",
    "    \n",
    "    #Se guardan en variables las caracteristicas que queremos tener en nuestra BD\n",
    "    name = lookup(entry, 'Name')\n",
    "    artist = lookup(entry, 'Artist')\n",
    "    album = lookup(entry, 'Album')\n",
    "    count = lookup(entry, 'Play Count')\n",
    "    rating = lookup(entry, 'Rating')\n",
    "    length = lookup(entry, 'Total Time')\n",
    "\n",
    "    #Si alguna de estas variables esta vacia se pasa al siguiente ciclo\n",
    "    if name is None or artist is None or album is None : \n",
    "        continue\n",
    "\n",
    "    print(name, artist, album, count, rating, length)\n",
    "    \n",
    "    #Comenzamos a agregar las caracteristicas que recuperarmos a nuestra BD\n",
    "    #La sentencia INSERT OR IGNORE es para que se ignore la linea de comando en caso de que exista algun\n",
    "    #error al momento de incertar el dato en la BD. Esto puede suceder si nuestra valor a agregar ya existe \n",
    "    #en la base de datos, ya que definimos anteriormente que el valor artist en la BD debe ser unico\n",
    "    \n",
    "    cur.execute('''INSERT OR IGNORE INTO Artist (name) \n",
    "        VALUES ( ? )''', ( artist, ) )\n",
    "    \n",
    "    #Se selecciona la fila donde el name = al nombre del artista con el cual estamos trabajando\n",
    "    cur.execute('SELECT id FROM Artist WHERE name = ? ', (artist, ))\n",
    "    \n",
    "    #Se selecciona la primera posicion o primer atributo de nuestra lista seleccionada, la cual corresponde\n",
    "    #a el id de nuestra tabla, creandose la variable artist_id que sera la key foreign para la tabla Album\n",
    "    \n",
    "    artist_id = cur.fetchone()[0]\n",
    "\n",
    "    cur.execute('''INSERT OR IGNORE INTO Album (title, artist_id) \n",
    "        VALUES ( ?, ? )''', ( album, artist_id ) )\n",
    "    cur.execute('SELECT id FROM Album WHERE title = ? ', (album, ))\n",
    "    album_id = cur.fetchone()[0]\n",
    "\n",
    "    #El comando INSERT OR REPLACE busca lo mismo que el comando INSERT OR IGNORE, aunque en este caso es \n",
    "    #remplazar el registro de datos. Esto es para evitar errores dado que existen restricciones de \n",
    "    #valores unicos en nuestra BD\n",
    "    cur.execute('''INSERT OR REPLACE INTO Track\n",
    "        (title, album_id, len, rating, count) \n",
    "        VALUES ( ?, ?, ?, ?, ? )''', \n",
    "        ( name, album_id, length, rating, count ) )\n",
    "    \n",
    "    #Las modificaciones se manda a guardar a nuestra BD\n",
    "    conn.commit()\n",
    "\n",
    "#Con este codigo pudimos crear una base de datos de Tracks\n",
    "cur.close()\n",
    "#Ahora podemos hacer el Join con la siguiente sentencia\n",
    "#SELECT Track.title, Album.title, Artist.name \n",
    "#FROM Track JOIN Album JOIN Artist \n",
    "#ON Track.album_id = Album.id AND Album.artist_id = Artist.id\n",
    "\n",
    "#Ojo que con la siguiente sentencia solo hacemos un join virtual, es decir tal join no se esta guardando en \n",
    "#ninguna tabla en especifico."
   ]
  },
  {
   "cell_type": "markdown",
   "id": "bace9bbe",
   "metadata": {},
   "source": [
    "## Database Many to Many Relationship\n",
    "---"
   ]
  },
  {
   "cell_type": "markdown",
   "id": "5ff95aa6",
   "metadata": {},
   "source": [
    "<div style = \"text-align:justify\" >\n",
    "<b>Hasta ahora todo lo que hemos hecho ha sido lo que es llamado un \"relacion de muchos a uno\"</b>, por ejemplo: <i>hay muchos tracks asociados a un album, hay muchos albums asociados a un artista, hay muchos tracks asociados a un genero</i>. \n",
    "</div>\n",
    "<br>\n",
    "\n",
    "<div style = \"text-align:justify\" >\n",
    "Esta forma de relacionar tablas es probablemente la mas comun, pero <b>hay veces que no puedes modelar cosas con este tipo de relación</b>. <b>En esto casos podemos estar frente a las relaciones \"<i>de muchos a muchos</i>\"</b>. ej: Tienes muchos libros asociados a muchos autores, y muchos autores tienen asociado muchos libros. Para estos caso se usa \"<b>una connection table</b>, o tambien llamada <b>juction table</b>\" la cual se compone de dos foreign key. \n",
    "</div>    \n",
    "<br>\n",
    "\n",
    "<div style = \"text-align:justify\" >\n",
    "<b>La idea de la \"<i>connection table</i>\" es romper el efecto de la \"<i>relacion de muchos a muchos</i>\" a dos relaciones de muchos a uno</b>. \n",
    "</div>\n",
    "<br>\n",
    "\n",
    "<div style = \"text-align:justify\" >\n",
    "Entonces imaginemos un sistema de administracion de educacion, en donde se toman algunas clases, y ademas algunas personas son estudiantes y otras son profesores. Entonces, encontramos que un estudiante pueden ser parte de muchas clases y una clase puede tener muchos estudiantes. \n",
    "</div>\n",
    "<br>\n",
    "\n",
    "<div style = \"text-align:justify\" >\n",
    "Ahora lo que hacemos es crear una tabla llamada <i>Member</i>. En estas tablas de coneccion a menudo no pondremos una primary key, sino que se conformara simplemente por 2 foreign key. Si tuvieramos que poner una restriccion a esta tabla, lo hariamos poniendo que solo exista unico par de foreign key. Es decir podrian haber muchos user_id y muchos course_id, pero no podrian existir la misma convinacion de user_id y course_id.\n",
    "</div>\n",
    "<br>\n",
    "\n",
    "<img style=\"display:flex; margin-left:auto; margin-right:auto \"  src=\"2021-05-23_12h17_46.png\"> </img>\n",
    "\n",
    "<br>\n",
    "<div style = \"text-align:justify\" >\n",
    "Entonces, lo anterior se veria en codigo SQL como se muestra en la siguiente imagen. Se observa que la tabla <i>Member</i> es conformada por user_id y course_id y role, siendo los dos primeros campos foreign key y el ultimo una forma de modelar un atributo que deseamos mostrar. En este caso el campo role sera 0 para cuando el registro se refiera a un estudiante y 1 cuando el registro se refiera a un profesor. Por ultimo se indica que la primary key de la tabla sera la combincacion unívoca entre el campo user_id y course_ide.  \n",
    "</div>\n",
    "<br>\n",
    "\n",
    "<img style = \"display:flex; margin-left:auto; margin-right:auto\" src=\"2021-05-23_14h04_20.png\"> </img> "
   ]
  },
  {
   "cell_type": "markdown",
   "id": "c2997c8b",
   "metadata": {},
   "source": [
    "<p style=\"color:Chocolate; font-weight:bold; font-size: 1.1em\">Exercise 1</p>"
   ]
  },
  {
   "cell_type": "code",
   "execution_count": null,
   "id": "ffab6f0a",
   "metadata": {},
   "outputs": [],
   "source": [
    "#Debido a que vamos a leer un archivo fuera de nuestra carpeta de nuestro directorio\n",
    "#cambiamos de directorio. Importamos la libreria 'os'\n",
    "import os\n",
    "#Visualizamos el directorio actual\n",
    "os.getcwd()\n",
    "#Cambiamos el directorio\n",
    "os.chdir('C:\\\\Users\\\\yo\\\\Desktop\\\\Python -Geocomputing with Python - freeCodeCamp\\\\code3\\\\roster')\n",
    "\n",
    "#---------------------------------------------------------------------------------------------------------\n",
    "\n",
    "import json\n",
    "import sqlite3\n",
    "\n",
    "conn = sqlite3.connect('rosterdb.sqlite')\n",
    "cur = conn.cursor()\n",
    "\n",
    "# Do some setup\n",
    "cur.executescript('''\n",
    "DROP TABLE IF EXISTS User;\n",
    "DROP TABLE IF EXISTS Member;\n",
    "DROP TABLE IF EXISTS Course;\n",
    "\n",
    "CREATE TABLE User (\n",
    "    id     INTEGER NOT NULL PRIMARY KEY AUTOINCREMENT UNIQUE,\n",
    "    name   TEXT UNIQUE\n",
    ");\n",
    "\n",
    "CREATE TABLE Course (\n",
    "    id     INTEGER NOT NULL PRIMARY KEY AUTOINCREMENT UNIQUE,\n",
    "    title  TEXT UNIQUE\n",
    ");\n",
    "\n",
    "CREATE TABLE Member (\n",
    "    user_id     INTEGER,\n",
    "    course_id   INTEGER,\n",
    "    role        INTEGER,\n",
    "    PRIMARY KEY (user_id, course_id)\n",
    ")\n",
    "''')\n",
    "\n",
    "fname = input('Enter file name: ')\n",
    "if len(fname) < 1:\n",
    "    fname = 'roster_data_sample.json'\n",
    "\n",
    "# [\n",
    "#   [ \"Charley\", \"si110\", 1 ],\n",
    "#   [ \"Mea\", \"si110\", 0 ],\n",
    "# ]\n",
    "\n",
    "str_data = open(fname).read()\n",
    "json_data = json.loads(str_data)\n",
    "\n",
    "for entry in json_data:\n",
    "\n",
    "    name = entry[0]\n",
    "    title = entry[1]\n",
    "\n",
    "    print((name, title))\n",
    "\n",
    "    cur.execute('''INSERT OR IGNORE INTO User (name)\n",
    "        VALUES ( ? )''', ( name, ) )\n",
    "    cur.execute('SELECT id FROM User WHERE name = ? ', (name, ))\n",
    "    user_id = cur.fetchone()[0]\n",
    "\n",
    "    cur.execute('''INSERT OR IGNORE INTO Course (title)\n",
    "        VALUES ( ? )''', ( title, ) )\n",
    "    cur.execute('SELECT id FROM Course WHERE title = ? ', (title, ))\n",
    "    course_id = cur.fetchone()[0]\n",
    "\n",
    "    cur.execute('''INSERT OR REPLACE INTO Member\n",
    "        (user_id, course_id) VALUES ( ?, ? )''',\n",
    "        ( user_id, course_id ) )\n",
    "\n",
    "    conn.commit()\n"
   ]
  },
  {
   "cell_type": "markdown",
   "id": "75a25370",
   "metadata": {},
   "source": [
    "<p style=\"color:Chocolate; font-weight:bold; font-size: 1.1em\">Exercise 2</p>\n",
    "\n",
    "<div style = \"text-align:justify\" >\n",
    "<br>\n",
    "El siguiente ejercicio sigue la linea de trabajo con la API de Twitter, por este motivo no explicaremos el codigo en este lugar. De todas formas el desarrollo del codigo es explicado en el siguiente video y sirve como estudio en el manejo de BD.\n",
    "</div>\n",
    "<br>\n",
    "\n",
    "**URL**: https://www.youtube.com/watch?v=A_TpMJkSOcI"
   ]
  },
  {
   "cell_type": "markdown",
   "id": "05ff77aa",
   "metadata": {},
   "source": [
    "---\n",
    "---\n",
    "---\n",
    "---"
   ]
  },
  {
   "cell_type": "markdown",
   "id": "ac6c6c27",
   "metadata": {},
   "source": [
    "# **Data Visualization**\n",
    "\n",
    "## Retrieving and Data Visualitations\n",
    "---"
   ]
  },
  {
   "cell_type": "markdown",
   "id": "ec60f0ed",
   "metadata": {},
   "source": [
    "<div style = \"text-align:justify\" >\n",
    "Llegamos al ultimo capitulo en donde traeremos todo lo que aprendimos, Database, Web Services, Networking, Loops, etc. Y vamos a resolver un problema de multiples pasos de analisis de datos. Vamos a encontrar algunos datos de internet por medio de HTML o API o de alguna otra forma, y vamos a escribir un proceso relativamente lento pero reniciable con el cual vamos a extraer datos. \n",
    "<br>\n",
    "<br>\n",
    "Lo que se tiende hacer es construir dos tipos de bases de datos. Una es una base de datos cruda, es decir una base con datos que queremos recibir y tambien los que no queremos recibir. Y una Base de datos limpia, la cual se construye luego de explorar los datos almacenados en la BD anterior y extrayendo solo la informacion que nos parece importante.\n",
    "Ya terminada la Clean Database podremos hacer las visualizaciones o analisis o lo que sea que queramos hacer con los datos. Esto es lo que se llama Personal Data Mining.\n",
    "<div>\n",
    "<br>\n",
    "    \n",
    "<img src = \"2021-05-24_15h42_12.png\" \n",
    "     style=\"display:flex; margin-left:auto; margin-right:auto; width:70%\"></img>\n",
    "<br>\n",
    "\n",
    "<p style=\"font-weight:bold; color:DarkCyan; font-size: 1.15em\">Many Data Mining Technologies</p> \n",
    "\n",
    "<div style = \"text-align:justify\" >\n",
    "Si se quiere escalar el proceso de Data Maning almcenando grandes cantidades de registros a un nivel empresarial, es necesario tener en cuenta que existen tecnologias que ayudan a que esto suceda. A continuacion podrias investigar las siguientes:\n",
    "</div>\n",
    "   \n",
    "<ul>\n",
    "<li> hadoop.apache.org\n",
    "<li> spark.apache.org\n",
    "<li> aws.amazon.com/redshift\n",
    "<li> community.pentaho.com\n",
    "</ul>\n",
    "\n",
    "<p style=\"font-weight:bold; color:DarkCyan; font-size: 1.15em\">GeoData</p>\n",
    "\n",
    "* Hacemos un Google Map de datos de entrada de usuarios\n",
    "* Usamos la API GeoData de Google\n",
    "* Los datos caches en una base de datos evita el rango limitado y nos permite reiniciado\n",
    "* Visualizamos en un navegador usando la API de Google Map\n",
    "\n",
    "El siguiente diagrama explica el algoritmo que podemos usar para realizar data mining y posteriormente la visualizacion de datos de la API de Google Map.\n",
    "\n",
    "<img src = \"2021-05-24_15h46_11.png\" \n",
    "     style=\"display:flex; margin-left:auto; margin-right:auto; width:80%\"></img>\n",
    "\n",
    "Entonces: \n",
    "* El input **where.data** indica las direcciones de lugares de establecimientos de estudios guardadas por medio de una plataforma de consulta de direcciones elaborada por Dr.Chuck.\n",
    "* **google geodata** hace referencia a la API de Google Map, la cual nos va a permitir poder geolocalizar las direcciones obtenidas por el input where.data\n",
    "* **geoload.py** es el codigo que toma where.data como input y procesa esas direcciones con la API de Google Map, ademas de almacenar los datos georeferenciados en una base de datos.\n",
    "\n",
    "En este algoritmo no fue necesario hacer dos bases de datos, una cruda y otra limpia, dado que el proceso es bastante simple y los datos de la API de Google Map vienen bastante claros y limpios. \n",
    "\n",
    "- **geodump.py** nos permite seleccionar informacion de la BD y poder desplegarla atractivamente en resumenes que nos interese \n",
    "- Por ultimo, traspasamos la informacion que queremos desplegar a un codigo en JavaScript para poder desplegarlo en un Browser.\n",
    "\n"
   ]
  },
  {
   "cell_type": "markdown",
   "id": "789e6af3",
   "metadata": {},
   "source": [
    "<p style=\"color:chocolate; font-weight:bold; font-size:16px\">Example</p>"
   ]
  },
  {
   "cell_type": "code",
   "execution_count": null,
   "id": "761cdeb7",
   "metadata": {},
   "outputs": [],
   "source": [
    "import os \n",
    "os.chdir(\"C:\\\\Users\\\\yo\\\\Desktop\\\\Python -Geocomputing with Python - freeCodeCamp\\\\code3\\\\geodata\")\n",
    "print(os.getcwd())\n",
    "\n",
    "##---##\n",
    "#name of code: geoload.py\n",
    "\n",
    "#Importamos las librerias a utilizar. Varias de estas librerias ya son conocidas.\n",
    "import urllib.request, urllib.parse, urllib.error\n",
    "import http\n",
    "import sqlite3\n",
    "import json\n",
    "import time\n",
    "import ssl\n",
    "import sys\n",
    "\n",
    "api_key = False\n",
    "# If you have a Google Places API key, enter it here\n",
    "# api_key = 'AIzaSy___IDByT70'\n",
    "\n",
    "#Si la api_key es falsa usamos la simulacion de la API de Google Map creada por el Profesor Dr.Chuck\n",
    "#en caso contrario utilizamos la API oficial de Google Map.\n",
    "if api_key is False:\n",
    "    api_key = 42\n",
    "    serviceurl = \"http://py4e-data.dr-chuck.net/json?\"\n",
    "else :\n",
    "    serviceurl = \"https://maps.googleapis.com/maps/api/geocode/json?\"\n",
    "\n",
    "# Additional detail for urllib\n",
    "# http.client.HTTPConnection.debuglevel = 1\n",
    "\n",
    "conn = sqlite3.connect('geodata.sqlite')\n",
    "cur = conn.cursor()\n",
    "\n",
    "#Creamos la tabla locations con los atributos adress y geodata, con la cual vamos a trabajar. \n",
    "#En este caso se crea la tabla solo si esta no existe, en caso contrario no es creada. \n",
    "cur.execute('''CREATE TABLE IF NOT EXISTS Locations (address TEXT, geodata TEXT)''')\n",
    "\n",
    "# Ignore SSL certificate errors\n",
    "ctx = ssl.create_default_context()\n",
    "ctx.check_hostname = False\n",
    "ctx.verify_mode = ssl.CERT_NONE\n",
    "\n",
    "#Abrimos el archivo where.data. El metodo open() aun no nos entrega un archivo manejable. Para esto tenemos\n",
    "#que utilizar un ciclo for para recorrerlo. \n",
    "fh = open(\"where.data\")\n",
    "count = 0\n",
    "for line in fh:\n",
    "#Esta primera condicion indica que vamos a geolocalizar 200 direcciones del archivo where.data, si queremos\n",
    "#geolocalzar mas datos tenemos que volver a correr el script\n",
    "    if count > 200 :\n",
    "        print('Retrieved 200 locations, restart to retrieve more')\n",
    "        break\n",
    "#Se eliminara el salto de linea '\\n' que trae cada linea en nuestro archivo fh con el metodo .strip().\n",
    "#Ademas la linea con la cual estemos trabajando, limpia de '\\n', sera almacenada en la variable address\n",
    "#la cual contendra la direccion que queremos geolocalizar. \n",
    "    address = line.strip()\n",
    "    print('')\n",
    "#Seleccionamos el atributo geodata de la tabla locations en donde la direccion es igual a la direccion \n",
    "#que actualmente estamos leyendo. Cabe destacar que la direccion tiene que ser codificada con el metodo \n",
    "#.encode() para ser procesada correctamente en la API. \n",
    "    cur.execute(\"SELECT geodata FROM Locations WHERE address= ?\",\n",
    "        (memoryview(address.encode()), ))\n",
    "\n",
    "#Tratamos de obtener el valor geocodificado de la direccion que estamos trabajando actualmente. si esta \n",
    "#sentencia no estalla, entonces significa que la direccion con la cual estamos trabajando en este paso \n",
    "#del ciclo ya esta ingresada a la BD. En caso contrario 'pass' nos indica que no estallo y por lo tanto\n",
    "#seguimos con la sentencias siguientes\n",
    "    try:\n",
    "        data = cur.fetchone()[0]\n",
    "        print(\"Found in database \",address)\n",
    "        continue\n",
    "    except:\n",
    "        pass\n",
    "\n",
    "#Creamos un diccionarios vacio y agregamos la key \"address\" que contrendra en su value la direccion\n",
    "#con la que estamos trabajando. En caso de que estemos utilizando la API oficial de Google Map, se \n",
    "#cambiara el nombre de la key a 'key' y el value a la variable 'api_key'\n",
    "    parms = dict()\n",
    "    parms[\"address\"] = address\n",
    "    if api_key is not False: parms['key'] = api_key\n",
    "#Creamos la url con la direccion codificada para ser entregada al servidor web. OJO!, nuestro\n",
    "#parametro es un diccionario!. \n",
    "    url = serviceurl + urllib.parse.urlencode(parms)\n",
    "    \n",
    "    print('Retrieving', url)\n",
    "#Mandamos la solicitud al servidor, lo leemos y decodificamos los datos. \n",
    "    uh = urllib.request.urlopen(url, context=ctx)\n",
    "    data = uh.read().decode()\n",
    "#Imprimimos por pantalla el largo de los datos recuperados (que es un texto con estructura JSON), ademas\n",
    "#imprimimos los primero 20 caracteres para observar la estructura de lo que estamos imprimiendo\n",
    "    print('Retrieved', len(data), 'characters', data[:20].replace('\\n', ' '))\n",
    "    print(\"\\n\")\n",
    "#Count nos estara contando el numero de solicitudes que realizamos a la API\n",
    "    count = count + 1\n",
    "\n",
    "#Cargamos la data como json. \n",
    "    try:\n",
    "        js = json.loads(data)\n",
    "#los archivos tipo json son objetos en Python por lo que tienen metodos propipios, dicho esto\n",
    "#queremos observar el json file que cargamos, y para esto lo ordenamos con el metodo json.dump(). \n",
    "#        print(json.dump(js))\n",
    "    except:\n",
    "        print(data)  # We print in case unicode causes an error\n",
    "        continue\n",
    "#Los objetos JSON dentro de su contenido (aparte de la informacion que extraemos) poseen una key \n",
    "#determinado por \"status\", el cual determina el estado del archivo JSON\n",
    "#Las siguientes sentencias buscan advertirnos del estado del archivo JSON\n",
    "    if 'status' not in js or (js['status'] != 'OK' and js['status'] != 'ZERO_RESULTS') :\n",
    "        print('==== Failure To Retrieve ====')\n",
    "        print(data)\n",
    "        break\n",
    "\n",
    "#El paso siguente es insertar en nuestra base de datos los datos de 'data' (no en formato json), a nuestra\n",
    "#base de datos. Hay que darse cuenta que en este momento no estamos ingresando los valores de long ni lat\n",
    "#de nuestra direccion. \n",
    "    cur.execute('''INSERT INTO Locations (address, geodata)\n",
    "            VALUES ( ?, ? )''', (memoryview(address.encode()), memoryview(data.encode()) ) )\n",
    "    conn.commit()\n",
    "#Si count es modulo de 10 entonces hacemos una pausa de 5 segundos.\n",
    "    if count % 10 == 0 :\n",
    "        print('Pausing for a bit...')\n",
    "        time.sleep(5)\n",
    "\n",
    "#Finalmente obtenemos una BD que contiene la direccion y el JSON que contienue la long y lat de la direccion\n",
    "#Si volvemos a correr el codigo, el mismo se dara cuenta que direcciones ya han sido agregadas para no \n",
    "#agregarlas otra vez.\n",
    "print(\"Run geodump.py to read the data from the database so you can vizualize it on a map.\")\n"
   ]
  },
  {
   "cell_type": "code",
   "execution_count": null,
   "id": "5bd3dd8c",
   "metadata": {},
   "outputs": [],
   "source": [
    "import os \n",
    "os.chdir(\"C:\\\\Users\\\\yo\\\\Desktop\\\\Python -Geocomputing with Python - freeCodeCamp\\\\code3\\\\geodata\")\n",
    "print(os.getcwd())\n",
    "\n",
    "##---##\n",
    "#name of code: geodump.py\n",
    "#El siguiente codigo es para desplegar en algun browser mediante un archivo HTMl y un codigo en JS\n",
    "#los datos geocodificados (long y lat) de las direcciones en nuestra BD\n",
    "\n",
    "import sqlite3\n",
    "import json\n",
    "import codecs\n",
    "\n",
    "conn = sqlite3.connect('geodata.sqlite')\n",
    "cur = conn.cursor()\n",
    "\n",
    "#Seleccionamos todas las columnas o atributos de nuestra tabla Locations\n",
    "cur.execute('SELECT * FROM Locations')\n",
    "#Creamos un archivo llamado where.js, en modo writing, con la codificacion utf-8\n",
    "fhand = codecs.open('where.js', 'w', \"utf-8\")\n",
    "#Escribimos en el archivo \"[\\n]\"\n",
    "fhand.write(\"myData = [\\n\")\n",
    "\n",
    "#Recorremos las filas de nuestra base de datos\n",
    "count = 0\n",
    "for row in cur :\n",
    "#Decodificamos los valores almacenados en la columna geodata\n",
    "    data = str(row[1].decode())\n",
    "#Creamos el objeto JSON  \n",
    "    try: js = json.loads(str(data))\n",
    "    except: continue\n",
    "#Verificamos el estado del objeto JSON\n",
    "    if not('status' in js and js['status'] == 'OK') : continue\n",
    "\n",
    "#Recuperamos la longuitud y la latitud de la direccion que estamos explorando\n",
    "    lat = js[\"results\"][0][\"geometry\"][\"location\"][\"lat\"]\n",
    "    lng = js[\"results\"][0][\"geometry\"][\"location\"][\"lng\"]\n",
    "    if lat == 0 or lng == 0 : continue\n",
    "#Recuperamos la direccion del JSON\n",
    "    where = js['results'][0]['formatted_address']\n",
    "    where = where.replace(\"'\", \"\")\n",
    "#imprimimos la direccion con lat y lng\n",
    "    try :\n",
    "        print(where, lat, lng)\n",
    "#Sumamos 1 al contador\n",
    "        count = count + 1\n",
    "#escribimos en nuestro archivo where.js\n",
    "        if count > 1 : fhand.write(\",\\n\")\n",
    "        output = \"[\"+str(lat)+\",\"+str(lng)+\", '\"+where+\"']\"\n",
    "        fhand.write(output)\n",
    "    except:\n",
    "        continue\n",
    "#Finalizamos la escritura de nuestro archivo where.js\n",
    "fhand.write(\"\\n];\\n\")\n",
    "#Cerramos el cursor y el archivo que estamos escribiendo\n",
    "cur.close()\n",
    "fhand.close()\n",
    "print(count, \"records written to where.js\")\n",
    "print(\"Open where.html to view the data in a browser\")"
   ]
  }
 ],
 "metadata": {
  "kernelspec": {
   "display_name": "Python 3",
   "language": "python",
   "name": "python3"
  },
  "language_info": {
   "codemirror_mode": {
    "name": "ipython",
    "version": 3
   },
   "file_extension": ".py",
   "mimetype": "text/x-python",
   "name": "python",
   "nbconvert_exporter": "python",
   "pygments_lexer": "ipython3",
   "version": "3.8.8"
  },
  "toc": {
   "base_numbering": "",
   "nav_menu": {},
   "number_sections": false,
   "sideBar": true,
   "skip_h1_title": false,
   "title_cell": "Table of Contents",
   "title_sidebar": "Contents",
   "toc_cell": false,
   "toc_position": {
    "height": "calc(100% - 180px)",
    "left": "10px",
    "top": "150px",
    "width": "203.594px"
   },
   "toc_section_display": true,
   "toc_window_display": true
  },
  "varInspector": {
   "cols": {
    "lenName": 16,
    "lenType": 16,
    "lenVar": 40
   },
   "kernels_config": {
    "python": {
     "delete_cmd_postfix": "",
     "delete_cmd_prefix": "del ",
     "library": "var_list.py",
     "varRefreshCmd": "print(var_dic_list())"
    },
    "r": {
     "delete_cmd_postfix": ") ",
     "delete_cmd_prefix": "rm(",
     "library": "var_list.r",
     "varRefreshCmd": "cat(var_dic_list()) "
    }
   },
   "oldHeight": 262.01666600000004,
   "position": {
    "height": "40px",
    "left": "902.833px",
    "right": "20px",
    "top": "43px",
    "width": "350px"
   },
   "types_to_exclude": [
    "module",
    "function",
    "builtin_function_or_method",
    "instance",
    "_Feature"
   ],
   "varInspector_section_display": "none",
   "window_display": false
  }
 },
 "nbformat": 4,
 "nbformat_minor": 5
}
