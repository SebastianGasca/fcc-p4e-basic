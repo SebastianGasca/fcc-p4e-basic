{
 "cells": [
  {
   "cell_type": "markdown",
   "metadata": {},
   "source": [
    "# freeCodeCamp - Python for everybody Course"
   ]
  },
  {
   "cell_type": "markdown",
   "metadata": {},
   "source": [
    "<h2 style = \"color: teal\n",
    "             ;\"> Variables, Expressions, and Statements </h2>\n"
   ]
  },
  {
   "cell_type": "markdown",
   "metadata": {},
   "source": [
    "### Constants\n",
    "\n",
    "Valores fijos tales como `numeros`, `letras` y `strings`, son llamados constantes, porque sus valores no cambian. \n",
    "\n",
    "Las constantes string usan comillas simples `'` o dobles `\"`\n"
   ]
  },
  {
   "cell_type": "code",
   "execution_count": 1,
   "metadata": {},
   "outputs": [
    {
     "name": "stdout",
     "output_type": "stream",
     "text": [
      "123\n",
      "98.6\n",
      "hello world\n"
     ]
    }
   ],
   "source": [
    "print(123)\n",
    "print(98.6)\n",
    "print(\"hello world\")"
   ]
  },
  {
   "cell_type": "markdown",
   "metadata": {},
   "source": [
    "### Reserved Words\n",
    "Son palabras utilizadas en variables o funciones nativas de python. No puedes usar `palabras` reservadas para definir variables "
   ]
  },
  {
   "cell_type": "markdown",
   "metadata": {},
   "source": [
    "<img src=\"1_9 Base Python/2021-11-22_11h35_24.png\" width = 400 height = 200></img>"
   ]
  },
  {
   "cell_type": "markdown",
   "metadata": {},
   "source": [
    "### Variables\n",
    "Una `variable` es un nombre en la memoria donde el programador puede almacenar datos y posteriormente recibirlos usando el `nombre` de la variable\n",
    "\n",
    "El programador puede elegir el nombre de la variable, como tambien puede cambiar el contenido de ella."
   ]
  },
  {
   "cell_type": "code",
   "execution_count": 2,
   "metadata": {},
   "outputs": [
    {
     "name": "stdout",
     "output_type": "stream",
     "text": [
      "12\n",
      "14\n"
     ]
    }
   ],
   "source": [
    "x = 12\n",
    "print(x)\n",
    "\n",
    "x = 14\n",
    "print(x)"
   ]
  },
  {
   "cell_type": "markdown",
   "metadata": {},
   "source": [
    "**Variable name rules**\n",
    "- Las variables deben empezar con una letra o un guion bajo \n",
    "- Deben ser compuestas de letras, numeros o guiones bajos\n",
    "- Son `Case Sensitive`"
   ]
  },
  {
   "cell_type": "markdown",
   "metadata": {},
   "source": [
    "### Expressions: Numeric Expressions\n",
    "Debido a la ausencia de simbolos matematicos en el teclado del computador, usamos el lenguaje de maquina para expresar operaciones matematicas \n",
    "\n",
    "<img src = \"1_9 Base Python/2021-11-22_11h48_07.png\" width = 200></img>"
   ]
  },
  {
   "cell_type": "markdown",
   "metadata": {},
   "source": [
    "### Operator Precedence Rules\n",
    "El orden de prioridad de las expresiones numericas :\n",
    "1. Parentesis \n",
    "2. Potencias\n",
    "3. Multiplicacion, Division y Modulos\n",
    "4. Adicion y Sustranccion\n",
    "\n",
    "Siempre de izquierda a derecha "
   ]
  },
  {
   "cell_type": "markdown",
   "metadata": {},
   "source": [
    "### What does \"types\" Mean?\n",
    "Las variables y constantes en Python tienen un `type`. Esto hace que Python pueda diferenciar un valor de tipo numerico de un string. Por ejemplo `+` significa adicion en un type numerico y concadenacion en un type string\n",
    "\n",
    "Algunas operaciones son prohibidas para un tipo especifico de `type`. Tu no puedes agregar 1 a un string\n",
    "\n",
    "Podemos preguntarle a Python que `type` es algo usando la funcion `type()`\n"
   ]
  },
  {
   "cell_type": "code",
   "execution_count": 6,
   "metadata": {},
   "outputs": [
    {
     "name": "stdout",
     "output_type": "stream",
     "text": [
      "<class 'str'>\n",
      "<class 'int'>\n"
     ]
    }
   ],
   "source": [
    "print(type('hello'))\n",
    "print(type(1))"
   ]
  },
  {
   "cell_type": "markdown",
   "metadata": {},
   "source": [
    "### Several Types of Numbers\n",
    "\n",
    "Los numeros tienen dos principales `types`\n",
    "- `integers` que son numeros enteros: -14, -2, 0, 1 \n",
    "- `Floating Point Numbers` que poseen parte decimal: -2.5, 0.0, 98.6, 14.0\n",
    "\n",
    "cuando ponemos un `int` y un `float` en una misma expresion, el numero int se convierte implicitamente en un float. Para controlar esto podemos usar las funciones pre-construidas `int()` y `float()`\n",
    "\n",
    "**Interger Division**\n",
    "La division entera produce floating point result "
   ]
  },
  {
   "cell_type": "markdown",
   "metadata": {},
   "source": [
    "### String Conversion \n",
    "Pudes usar `int() `y `float()` para convertir string a intergers. Aunque se producira un error si el string no posee caracteres de tipo numerico"
   ]
  },
  {
   "cell_type": "code",
   "execution_count": 7,
   "metadata": {},
   "outputs": [
    {
     "ename": "TypeError",
     "evalue": "can only concatenate str (not \"int\") to str",
     "output_type": "error",
     "traceback": [
      "\u001b[1;31m---------------------------------------------------------------------------\u001b[0m",
      "\u001b[1;31mTypeError\u001b[0m                                 Traceback (most recent call last)",
      "\u001b[1;32m<ipython-input-7-2ada67528890>\u001b[0m in \u001b[0;36m<module>\u001b[1;34m\u001b[0m\n\u001b[0;32m      1\u001b[0m \u001b[0msval\u001b[0m \u001b[1;33m=\u001b[0m \u001b[1;34m'123'\u001b[0m\u001b[1;33m\u001b[0m\u001b[1;33m\u001b[0m\u001b[0m\n\u001b[1;32m----> 2\u001b[1;33m \u001b[0mprint\u001b[0m\u001b[1;33m(\u001b[0m\u001b[0msval\u001b[0m \u001b[1;33m+\u001b[0m \u001b[1;36m1\u001b[0m\u001b[1;33m)\u001b[0m\u001b[1;33m\u001b[0m\u001b[1;33m\u001b[0m\u001b[0m\n\u001b[0m",
      "\u001b[1;31mTypeError\u001b[0m: can only concatenate str (not \"int\") to str"
     ]
    }
   ],
   "source": [
    "sval = '123'\n",
    "print(sval + 1)"
   ]
  },
  {
   "cell_type": "code",
   "execution_count": 9,
   "metadata": {},
   "outputs": [
    {
     "name": "stdout",
     "output_type": "stream",
     "text": [
      "124\n"
     ]
    }
   ],
   "source": [
    "ival = int(sval)\n",
    "print(ival + 1)"
   ]
  },
  {
   "cell_type": "markdown",
   "metadata": {},
   "source": [
    "### User Input\n",
    "Podemos ordenar a Python para que pause y lea datos de un usuario usando la funcion `input()`. La funcion `input()` retorna un string. \n",
    "\n",
    "Si queremos leer un numero de un usuario, debemos convertirlo de un string a un numero usando una type conversion function"
   ]
  },
  {
   "cell_type": "code",
   "execution_count": 11,
   "metadata": {},
   "outputs": [
    {
     "name": "stdout",
     "output_type": "stream",
     "text": [
      "Cual es tu edad: 26\n",
      "tu edad es 26\n"
     ]
    }
   ],
   "source": [
    "name = input(\"Cual es tu edad: \")\n",
    "iname = int(name)\n",
    "print(\"tu edad es\", iname)"
   ]
  },
  {
   "cell_type": "markdown",
   "metadata": {},
   "source": [
    "### Comments in Python\n",
    "Todo lo que venga despues de `#` es ignorado por Python\n",
    "\n",
    "¿Por que comentar?\n",
    "\n",
    "- Describe lo que va a pasar en las siguientes lineas de codigo\n",
    "- Documento para quien escribe el codigo o otro que lo vaya a usar "
   ]
  },
  {
   "cell_type": "markdown",
   "metadata": {},
   "source": [
    "### Exercise 2.2"
   ]
  },
  {
   "cell_type": "code",
   "execution_count": 2,
   "metadata": {},
   "outputs": [
    {
     "name": "stdout",
     "output_type": "stream",
     "text": [
      "Enter your name sebastián\n",
      "Hello  sebastián\n"
     ]
    }
   ],
   "source": [
    "name = input(\"Enter your name \")\n",
    "\n",
    "print('Hello ',name)"
   ]
  },
  {
   "cell_type": "markdown",
   "metadata": {},
   "source": [
    "### Exercise 2.3"
   ]
  },
  {
   "cell_type": "code",
   "execution_count": 5,
   "metadata": {},
   "outputs": [
    {
     "name": "stdout",
     "output_type": "stream",
     "text": [
      "hours 2\n",
      "rate 10\n",
      "Pay: 20.0\n"
     ]
    }
   ],
   "source": [
    "h = input('hours ')\n",
    "r = input('rate ')\n",
    "pay = float(h) * float(r)\n",
    "\n",
    "print(\"Pay:\",pay)"
   ]
  },
  {
   "cell_type": "markdown",
   "metadata": {},
   "source": [
    "<h2 style = \"color:teal\">Conditional Execution</h2> "
   ]
  },
  {
   "cell_type": "markdown",
   "metadata": {},
   "source": [
    "### Conditional Steps\n",
    "Los pasos de un flujo de condicion if, se basa en la pregunta y la condicion impuesta en funcion del resultado True/False de la pregunta."
   ]
  },
  {
   "cell_type": "code",
   "execution_count": 3,
   "metadata": {},
   "outputs": [
    {
     "name": "stdout",
     "output_type": "stream",
     "text": [
      "Smaller\n"
     ]
    }
   ],
   "source": [
    "x = 5\n",
    "\n",
    "#Se pregunta una condicion \n",
    "if x < 10:\n",
    "#Se genera un resultado en funcion de la condicion. \n",
    "    print(\"Smaller\")\n",
    "\n",
    "if x > 20:\n",
    "    print(\"Bigger\")\n"
   ]
  },
  {
   "cell_type": "markdown",
   "metadata": {},
   "source": [
    "### Comparation Operators\n",
    "Las `expresiones booleanas` preguntan una pregunta produciendo un resultado de `TRUE` o `FALSE`, que utilizana para controlar el flujo del programa. \n",
    "\n",
    "Las `expresiones booleanas` usan operadores de compracion para evaluar TRUE/FALSE \n",
    "\n",
    "<img src=\"1_9 Base Python/2021-11-22_23h13_45.png\" width = 300></img>"
   ]
  },
  {
   "cell_type": "markdown",
   "metadata": {},
   "source": [
    "### Identation\n",
    "- Se incrementa la sangria despues de una sentencia `if` o `for` (luegos de los `:` )\n",
    "- Se mantiene la sangria para indicar el alcance del bloque (cuales lineas son afectadas por `if`/`for`)\n",
    "- Se reduce la sangria volviendo al nivel de la sentencia `if` o `for` para indicar el final del bloque de condicion\n",
    "\n",
    "Las lineas blancas son ignoradas, no afectan la identacion"
   ]
  },
  {
   "cell_type": "markdown",
   "metadata": {},
   "source": [
    "### Nested Decisions\n",
    "La decision anidada indica una condicon dentro de otra"
   ]
  },
  {
   "cell_type": "code",
   "execution_count": 4,
   "metadata": {},
   "outputs": [
    {
     "name": "stdout",
     "output_type": "stream",
     "text": [
      "Mas que uno\n",
      "Menos que 100\n"
     ]
    }
   ],
   "source": [
    "x = 23\n",
    "if x > 1:\n",
    "    print('Mas que uno')\n",
    "    if x < 100:\n",
    "        print('Menos que 100')"
   ]
  },
  {
   "cell_type": "markdown",
   "metadata": {},
   "source": [
    "### Two-way Decisions\n",
    "Algunas veces queremos hacer una cosa si la expresion logica es verdad, y algo mas si la condicion es falsa.  "
   ]
  },
  {
   "cell_type": "code",
   "execution_count": 5,
   "metadata": {},
   "outputs": [
    {
     "name": "stdout",
     "output_type": "stream",
     "text": [
      "Mas grande que dos\n"
     ]
    }
   ],
   "source": [
    "x = 4\n",
    "if x > 2:\n",
    "    print('Mas grande que dos')\n",
    "else:\n",
    "    print('Mas pequeño que dos')"
   ]
  },
  {
   "cell_type": "markdown",
   "metadata": {},
   "source": [
    "### Multi-Way Branch\n",
    "La idea es generar una secuencia de multiples condiciones. Si no se cumple la primera se sigue con la segunda, hasta que se cumpla alguna condicion. "
   ]
  },
  {
   "cell_type": "code",
   "execution_count": 7,
   "metadata": {},
   "outputs": [
    {
     "name": "stdout",
     "output_type": "stream",
     "text": [
      "medium\n"
     ]
    }
   ],
   "source": [
    "if x < 2:\n",
    "    print(\"small\")\n",
    "elif x < 10:\n",
    "    print(\"medium\")\n",
    "else:\n",
    "    print(\"large\")"
   ]
  },
  {
   "cell_type": "markdown",
   "metadata": {},
   "source": [
    "### The Try / Except Structure\n",
    "- La estructura Try/Except rodea una seccion peligrosa de codigo\n",
    "- Si el codigo en `try` funciona - `except` es saltada\n",
    "- Si el codigo en `try` falla - el codigo sigue en `except`\n",
    "\n",
    "Entonces el codigo saltara a la seccion `except` cuando en encuentre una linea que genere error en el bloque `try`"
   ]
  },
  {
   "cell_type": "code",
   "execution_count": 9,
   "metadata": {},
   "outputs": [
    {
     "name": "stdout",
     "output_type": "stream",
     "text": [
      "primer -1\n",
      "segundo 12\n"
     ]
    }
   ],
   "source": [
    "astr = 'Hello'\n",
    "try:\n",
    "    istr = int(astr)\n",
    "except:\n",
    "    istr = -1\n",
    "    \n",
    "print('primer', istr)\n",
    "\n",
    "#--------------------\n",
    "\n",
    "astr = '12'\n",
    "try:\n",
    "    istr = int(astr)\n",
    "except:\n",
    "    istr = -1\n",
    "\n",
    "print('segundo', istr)\n"
   ]
  },
  {
   "cell_type": "markdown",
   "metadata": {},
   "source": [
    "### Exercise 3.1"
   ]
  },
  {
   "cell_type": "code",
   "execution_count": null,
   "metadata": {},
   "outputs": [],
   "source": [
    "sh = input(\"numero de horas: \")\n",
    "sr = input(\"valor de la hora: \")\n",
    "fh = float(sh)\n",
    "fr = float(sr)\n",
    "if fh > 40:\n",
    "    print(\"Existe horas extras\")\n",
    "    rp = fh * fr\n",
    "    otp = (fh - 40) * (fr * 0.5)\n",
    "    print(rp,otp)\n",
    "    xp = rp + otp\n",
    "    print()\n",
    "else:\n",
    "    print(\"No existen horas extras\")\n",
    "    xp = fh * fr\n",
    "print(\"pay: \", xp)"
   ]
  },
  {
   "cell_type": "markdown",
   "metadata": {},
   "source": [
    "### Exercise 3.2"
   ]
  },
  {
   "cell_type": "code",
   "execution_count": null,
   "metadata": {},
   "outputs": [],
   "source": [
    "x=15\n",
    "if x<2:\n",
    "    print(\"Menor a 2\")\n",
    "elif x<10:\n",
    "    print(\"Menor a 10\")\n",
    "else:\n",
    "    print(\"Meyor a 10\")"
   ]
  },
  {
   "cell_type": "code",
   "execution_count": null,
   "metadata": {},
   "outputs": [],
   "source": [
    "astr = 'hello bob'\n",
    "try:\n",
    "    istr= int(astr)\n",
    "except: \n",
    "    istr=-1\n",
    "print(\"First\", istr)"
   ]
  },
  {
   "cell_type": "code",
   "execution_count": 9,
   "metadata": {},
   "outputs": [
    {
     "name": "stdout",
     "output_type": "stream",
     "text": [
      "Hello\n",
      "Done -1\n"
     ]
    }
   ],
   "source": [
    "astr = \"Bob\"\n",
    "try:\n",
    "    print(\"Hello\")\n",
    "    istr=int(astr)\n",
    "    print(\"There\")\n",
    "except:\n",
    "    istr=-1\n",
    "print(\"Done\",istr)"
   ]
  },
  {
   "cell_type": "code",
   "execution_count": 11,
   "metadata": {},
   "outputs": [],
   "source": [
    "temp = '5 degree'\n",
    "cel = 0\n",
    "fahr = float(temp)\n",
    "cel = (fahr - 32.0) * 5.0/9.0\n",
    "print(cel)"
   ]
  },
  {
   "cell_type": "code",
   "execution_count": null,
   "metadata": {},
   "outputs": [],
   "source": [
    "temp = '5 degree'\n",
    "cel = 0\n",
    "try:\n",
    "    fahr = float(temp)\n",
    "    cel = (fahr - 32.0) * 5.0/9.0\n",
    "except:\n",
    "## Para sacar el valor 5 del str se tiene que hacer mas trabajo\n",
    "    fahr = 0\n",
    "    cel = (fahr - 32.0) * 5.0/9.0\n",
    "print(cel)"
   ]
  },
  {
   "cell_type": "markdown",
   "metadata": {},
   "source": [
    "<h2 style=\"color:teal\"> Functions </h2>"
   ]
  },
  {
   "cell_type": "markdown",
   "metadata": {},
   "source": [
    "La idea de las funciones es poder almacenar sentencias de codigo para ser reusadas. "
   ]
  },
  {
   "cell_type": "code",
   "execution_count": 12,
   "metadata": {},
   "outputs": [
    {
     "name": "stdout",
     "output_type": "stream",
     "text": [
      "hello\n",
      "thing\n"
     ]
    }
   ],
   "source": [
    "def thing():\n",
    "    print(\"hello\")\n",
    "    print(\"thing\")\n",
    "\n",
    "thing()"
   ]
  },
  {
   "cell_type": "markdown",
   "metadata": {},
   "source": [
    "### Python Functions\n",
    "Hay dos tipos de funciones en Python\n",
    "- `Funciones pre-construidas ` que son parte de Python, como `print(), input(), type(), float(), int()`\n",
    "- `Funciones definidas por el usuario`\n",
    "\n",
    "Tratamos de construir el nombre de las funciones como `\"new\" reserved words`"
   ]
  },
  {
   "cell_type": "markdown",
   "metadata": {},
   "source": [
    "### Function Definition\n",
    "En python una funcion es codigo reutilizable que toma argumentos como inputs, ejecuta un sentencia de codigo y retorna un resultado. \n",
    "\n",
    "**Definimos** una funcion usando la palabra reservada `def`. **Invocamos** la funcion usando el nombre de la funcion, parentesis y los argumentos de la funcion"
   ]
  },
  {
   "cell_type": "code",
   "execution_count": 15,
   "metadata": {},
   "outputs": [
    {
     "name": "stdout",
     "output_type": "stream",
     "text": [
      "w\n"
     ]
    }
   ],
   "source": [
    "big = max(\"Hello world\")\n",
    "print(big)"
   ]
  },
  {
   "cell_type": "markdown",
   "metadata": {},
   "source": [
    "### Building our Own Functions\n",
    "- Cramos una nueva funcion usando la palabra reservada `def` seguido por los parametros (opcionales) en parentesis\n",
    "- Indentamos el cuerpo de la funcion. Esto define la funcion pero no ejecuta el cuerpo de la funcion\n",
    "\n",
    "**Arguments**\n",
    "- Un argumento es un valor que pasamos dentro de la funcion como input cuando la invocamos\n",
    "\n",
    "**Parameters**\n",
    "- Un parametro es una variable la cual usamos en la definicion de la funcion. Es una \"manejable\" que permite al codigo en la funcion acceder a los argumentos para una particular invocacion. \n",
    "\n",
    "**Return Values**\n",
    "\n",
    "A menudo una funcion tomara sus argumentos, hara algo en el computador, y retornara un valor a ser usado. El `return keyword` es usado para esto ultimo"
   ]
  },
  {
   "cell_type": "code",
   "execution_count": 16,
   "metadata": {},
   "outputs": [
    {
     "name": "stdout",
     "output_type": "stream",
     "text": [
      "hello Seba\n"
     ]
    }
   ],
   "source": [
    "def greet():\n",
    "    return \"hello\"\n",
    "\n",
    "print(greet(),\"Seba\")"
   ]
  },
  {
   "cell_type": "markdown",
   "metadata": {},
   "source": [
    "La sentencia `return` **termina la ejecucion de la funcion** y manda el resultado de la funcion. "
   ]
  },
  {
   "cell_type": "markdown",
   "metadata": {},
   "source": [
    "### Void (non-fruitful) Functions\n",
    "Cuando una funcion no retorna un valor la llamaos `void function`. La funcion que retornan valores son `fruitful function`. \n",
    "Las funci"
   ]
  },
  {
   "cell_type": "markdown",
   "metadata": {},
   "source": [
    "### Exercise 4.1"
   ]
  },
  {
   "cell_type": "code",
   "execution_count": null,
   "metadata": {},
   "outputs": [],
   "source": [
    "def calculoIngreso(horas, precio):\n",
    "    if horas > 40:\n",
    "        print(\"Existe horas extras\")\n",
    "        rp = horas * precio\n",
    "        otp = (horas - 40) * (precio * 0.5)\n",
    "        #print(rp,otp)\n",
    "        xp = rp + otp\n",
    "        print()\n",
    "    else:\n",
    "        print(\"No existen horas extras\")\n",
    "        xp = horas * precio\n",
    "    #print(\"pay: \", xp)\n",
    "    return xp\n",
    "    \n",
    "sh = input(\"numero de horas: \")\n",
    "sr = input(\"valor de la hora: \")\n",
    "fh = float(sh)\n",
    "fr = float(sr)\n",
    "pay = calculoIngreso(fh,fr)\n",
    "print(\"El pago es: \", pay)"
   ]
  },
  {
   "cell_type": "markdown",
   "metadata": {},
   "source": [
    "<h2 style = \"color:teal\">Loops and Iteration</h2>"
   ]
  },
  {
   "cell_type": "markdown",
   "metadata": {},
   "source": [
    "### Repeated Steps \n",
    "Loops(repeated steps) tienen `variables de iteracion` que cambian en cada ciclo. A menudo esas `variables de iteracion` van a travez de una secuencia de numeros.\n",
    "\n",
    "Una forma de escribir un loop en python es con la sentencia `while`. \n",
    "\n",
    "El ciclo `while` itera mientras una condicion sea `True."
   ]
  },
  {
   "cell_type": "code",
   "execution_count": 5,
   "metadata": {},
   "outputs": [
    {
     "name": "stdout",
     "output_type": "stream",
     "text": [
      "5\n",
      "4\n",
      "3\n",
      "2\n",
      "1\n",
      "\n",
      "Blastoff\n",
      "0\n"
     ]
    }
   ],
   "source": [
    "n = 5\n",
    "while n > 0: \n",
    "    print(n)\n",
    "    n = n - 1\n",
    "\n",
    "print(\"\")\n",
    "print(\"Blastoff\")\n",
    "print(n)"
   ]
  },
  {
   "cell_type": "markdown",
   "metadata": {},
   "source": [
    "### An infinite Loop\n",
    "En ocaciones los ciclos que se construyen estan mal programados provocando ciclos infinitos. "
   ]
  },
  {
   "cell_type": "code",
   "execution_count": null,
   "metadata": {},
   "outputs": [],
   "source": [
    "n = 5\n",
    "while n > 5:\n",
    "    print(\"seba\")"
   ]
  },
  {
   "cell_type": "markdown",
   "metadata": {},
   "source": [
    "### Breaking Out of a Loop\n",
    "La sentencia `break` es una de las sentencias de control de ciclos, la que tiene por objetivo terminar con el actual ciclo y salta inmediatamente a la sentencia siguiente.\n",
    "\n",
    "En el siguiente ejemplo la sentencia `break` termina con el ciclo y salta a la linea `print(\"Done\")` "
   ]
  },
  {
   "cell_type": "code",
   "execution_count": 7,
   "metadata": {},
   "outputs": [
    {
     "name": "stdout",
     "output_type": "stream",
     "text": [
      "> seba\n",
      "seba\n",
      "> marcia\n",
      "marcia\n",
      "> done\n",
      "Done\n"
     ]
    }
   ],
   "source": [
    "while True:\n",
    "    line = input(\"> \")\n",
    "    if line == \"done\":\n",
    "        break\n",
    "    print(line)\n",
    "\n",
    "print(\"Done\")"
   ]
  },
  {
   "cell_type": "markdown",
   "metadata": {},
   "source": [
    "### Finishing an Iteration with continue\n",
    "`continue` es otra sentencia de control de ciclos, que tiene por objetivo terminar la actual iteracion, saltar al inicio del ciclo y continuar con la siguiente iteracion. "
   ]
  },
  {
   "cell_type": "code",
   "execution_count": 9,
   "metadata": {},
   "outputs": [
    {
     "name": "stdout",
     "output_type": "stream",
     "text": [
      "> #hola\n",
      "> seba\n",
      "seba\n",
      "> done\n",
      "Done!\n"
     ]
    }
   ],
   "source": [
    "while True: \n",
    "    line = input ( \"> \")\n",
    "    if line[0] == \"#\": \n",
    "        continue\n",
    "    if line == \"done\":\n",
    "        break\n",
    "    print(line)\n",
    "\n",
    "print(\"Done!\")"
   ]
  },
  {
   "cell_type": "markdown",
   "metadata": {},
   "source": [
    "### Indefinite Loops\n",
    "Los ciclos `while` son llamados ciclos indefinidos porque ellos continuan hasta que una condicion se convierta en `False`.\n",
    "\n",
    "En ocaciones es un poco dificil estar seguros de que un ciclo terminara. "
   ]
  },
  {
   "cell_type": "markdown",
   "metadata": {},
   "source": [
    "### Definite Loops\n",
    "Bastante a menudo tenemos una lista de items o de lineas en un archivo - efectivamente un set finito de cosas. \n",
    "\n",
    "Podemos construir un ciclo que recorra cada uno de esos items (en un set) usando la sentencia `for`\n",
    "\n",
    "Esos ciclos (`for`) son llamados \"definite loops\" porque son ejecutados un exacto numero de veces. \n",
    "\n",
    "Decimo que **definite loops iterate through the members of a set**"
   ]
  },
  {
   "cell_type": "code",
   "execution_count": 12,
   "metadata": {},
   "outputs": [
    {
     "name": "stdout",
     "output_type": "stream",
     "text": [
      "1\n",
      "2\n",
      "3\n",
      "4\n",
      "5\n",
      "Blastoff\n"
     ]
    }
   ],
   "source": [
    "for i in [1,2,3,4,5]:\n",
    "    print(i)\n",
    "print(\"Blastoff\")"
   ]
  },
  {
   "cell_type": "markdown",
   "metadata": {},
   "source": [
    "### A simple Definite Loop\n",
    "Los ciclos definidos tienen variables de iteracion explicitas, que cambian cada vez que atraviesan un ciclo. Esas variables de iteracion se mueve a traves de una secuencia o set."
   ]
  },
  {
   "cell_type": "code",
   "execution_count": null,
   "metadata": {},
   "outputs": [],
   "source": [
    "amiges = [\"marcia\", \"trucos\", \"shamu\", \"omarcete\"]\n",
    "for amige in amiges:\n",
    "    print(\"Feliz año nuevo: \", amige)\n",
    "\n",
    "print(\"Done!\")"
   ]
  },
  {
   "cell_type": "markdown",
   "metadata": {},
   "source": [
    "### Looking at In .. \n",
    "- La **variable de iteracion** (**i**) itera a traves de la secuencia de un set ordenado\n",
    "\n",
    "- El bloque (cuerpo) del codigo es ejecutado una vez por cada valor en (`in`) la secuencia. \n",
    "\n",
    "- La **variable de iteracion** (**i**) se mueve a traves de todos los valores en (`in`) la secuencia. "
   ]
  },
  {
   "cell_type": "markdown",
   "metadata": {},
   "source": [
    "### Counting in a Loop\n",
    "Para contar cuantas veces ejecutamos un ciclo, introducimos una variable de conteo que empieza desde 0, y vamos agregandole 1 por cada vez que avanzamos en un ciclo. "
   ]
  },
  {
   "cell_type": "code",
   "execution_count": 15,
   "metadata": {},
   "outputs": [
    {
     "name": "stdout",
     "output_type": "stream",
     "text": [
      "Before zork\n",
      "1 9\n",
      "2 41\n",
      "3 12\n",
      "4 3\n",
      "5 74\n",
      "6 15\n",
      "After 6\n"
     ]
    }
   ],
   "source": [
    "zork = 0 #Variable de conteo\n",
    "\n",
    "print(\"Before\", zork)\n",
    "for thing in [9,41,12,3,74,15]:\n",
    "    zork = zork + 1 \n",
    "    print(zork, thing)\n",
    "\n",
    "print(\"After\", zork)"
   ]
  },
  {
   "cell_type": "markdown",
   "metadata": {},
   "source": [
    "### Summing in a Loop"
   ]
  },
  {
   "cell_type": "code",
   "execution_count": 16,
   "metadata": {},
   "outputs": [
    {
     "name": "stdout",
     "output_type": "stream",
     "text": [
      "Before 0\n",
      "9 9\n",
      "50 41\n",
      "62 12\n",
      "65 3\n",
      "139 74\n",
      "154 15\n",
      "After 154\n"
     ]
    }
   ],
   "source": [
    "zork = 0\n",
    "print(\"Before\", zork)\n",
    "\n",
    "for thing in [9,41,12,3,74,15]:\n",
    "    zork = zork + thing\n",
    "    print(zork, thing)\n",
    "    \n",
    "print(\"After\", zork)"
   ]
  },
  {
   "cell_type": "markdown",
   "metadata": {},
   "source": [
    "### Filtering in a Loop\n",
    "Usamos una sentencia `if` en un ciclo para catch/filter los valores que queremos buscar. "
   ]
  },
  {
   "cell_type": "code",
   "execution_count": 17,
   "metadata": {},
   "outputs": [
    {
     "name": "stdout",
     "output_type": "stream",
     "text": [
      "Before\n",
      "Large number 41\n",
      "Large number 74\n",
      "After\n"
     ]
    }
   ],
   "source": [
    "print(\"Before\")\n",
    "\n",
    "for value in [9,41,12,3,74,15]:\n",
    "    if value > 20:\n",
    "        print(\"Large number\", value)\n",
    "\n",
    "print(\"After\")"
   ]
  },
  {
   "cell_type": "markdown",
   "metadata": {},
   "source": [
    "### Search Using a Boolean Variable\n",
    "Si solo queremos buscar y saber si un valor fue encontrado, usamos una variable que empiece en `False` y cambie a `True` en el momento que la encuentre"
   ]
  },
  {
   "cell_type": "code",
   "execution_count": 24,
   "metadata": {},
   "outputs": [
    {
     "name": "stdout",
     "output_type": "stream",
     "text": [
      "Before False \n",
      "\n",
      "False 9\n",
      "False 41\n",
      "False 12\n",
      "True 3\n",
      "True 74\n",
      "True 15\n",
      "After True\n"
     ]
    }
   ],
   "source": [
    "found = False\n",
    "print(\"Before\", found, \"\\n\")\n",
    "\n",
    "for value in [9,41,12,3,74,15]:\n",
    "    if value == 3:\n",
    "        found = True\n",
    "    print(found, value)\n",
    "\n",
    "print(\"After\", found)"
   ]
  },
  {
   "cell_type": "markdown",
   "metadata": {},
   "source": [
    "### Finding the smallest value\n",
    "Para encontrar el valor mas pequeño de un set de numeros, puede ser viable la posibilidad de partir definiendo una variable con la cual poder comparar el primer elemento de nuestro set. Pero de esta forma tendriamos que definir un valor \"muy alto\", lo cual no es muy efectivo. \n",
    "\n",
    "La mejor forma de enfrentar este problema es usar otro `type` de datos de Python: `None`. \n",
    "\n",
    "`None` es un marcador especial que solo se conforma por un valor (a diferencia de `boolean` type que son `True` y `False`).\n",
    "\n",
    "`None` nos permite checkear si tenemos almacenado \"nada\". `None` es usado a menudo para indicarnos \"vacio\", algo que no existe"
   ]
  },
  {
   "cell_type": "code",
   "execution_count": 32,
   "metadata": {},
   "outputs": [
    {
     "name": "stdout",
     "output_type": "stream",
     "text": [
      "Before\n",
      "9 9\n",
      "9 41\n",
      "9 12\n",
      "3 3\n",
      "3 74\n",
      "3 15\n"
     ]
    }
   ],
   "source": [
    "smallest = None\n",
    "print(\"Before\")\n",
    "\n",
    "for value in [9,41,12,3,74,15]:\n",
    "    if smallest is None:\n",
    "        smallest = value\n",
    "    elif value < smallest:\n",
    "        smallest = value\n",
    "    print(smallest, value)\n"
   ]
  },
  {
   "cell_type": "markdown",
   "metadata": {},
   "source": [
    "### The \"is\" and \"is not\" Operators\n",
    "- Python tiene un `is` operator que puede ser usado en expresiones logicas (`and, or, not`). \n",
    "- Implica \"is the same as\" (es parecido a)\n",
    "- Similar pero mas fuerte que `==`\n",
    "- `is not` tambien es una operador logico\n",
    "\n",
    "Este operador logico es recomendable usarlo solo para `None` type y `Boolean` type"
   ]
  },
  {
   "cell_type": "markdown",
   "metadata": {},
   "source": [
    "### Exercise 5.1\n",
    "\n",
    "Mi desarrollo"
   ]
  },
  {
   "cell_type": "code",
   "execution_count": null,
   "metadata": {},
   "outputs": [],
   "source": [
    "#Se ingres un valor que es del tipo string\n",
    "valor = input(\"ingrese valor: \")\n",
    "n = 0\n",
    "suma = 0\n",
    "\n",
    "#El valor de tipo str se compara con -done-. comienza el ciclo\n",
    "while valor != \"done\":\n",
    "    #Se trata lo siguiente\n",
    "    try:\n",
    "    #El valor se cambia a flotante\n",
    "        valor = float(valor)\n",
    "        \n",
    "    #Se crea una variable suma que almacenara la suma de valores\n",
    "        suma = suma + valor \n",
    "        n = n + 1\n",
    "        \n",
    "    #Se pide ingresa nuevamente otro valor\n",
    "        valor = input(\"ingrese siguiente valor: \")\n",
    "        \n",
    "    except: \n",
    "    #En caso de que el valor no pueda ser convertido a flotante saldra un error\n",
    "        print(\"Ingrese solo valores numericos. En caso de que quiera deterse ingrese done\")\n",
    "        valor = input(\"Ingrese nuevo valor: \")\n",
    "\n",
    "print(\"/n/n/n\")\n",
    "print(\"numeros ingresados: \", n)\n",
    "print(\"la suma es: \",suma)\n",
    "print(\"la media es: \", suma/n)"
   ]
  },
  {
   "cell_type": "markdown",
   "metadata": {},
   "source": [
    "Desarrollo de Dr.Chuck"
   ]
  },
  {
   "cell_type": "code",
   "execution_count": null,
   "metadata": {},
   "outputs": [],
   "source": [
    "num = 0\n",
    "tot = 0\n",
    "while True: \n",
    "    sval = input(\"Enter number: \")\n",
    "    if sval == \"done\":\n",
    "        break\n",
    "    try: \n",
    "        fval = float(sval)\n",
    "    except:\n",
    "        print(\"Invalid input\")\n",
    "        continue\n",
    "    num = num + 1\n",
    "    tot = tot + fval\n",
    "\n",
    "print(\"\\n\",tot,\" \",num,\" \",tot/num)"
   ]
  },
  {
   "cell_type": "markdown",
   "metadata": {},
   "source": [
    "<h2 style = \"color: teal \"> Strings </h2>"
   ]
  },
  {
   "cell_type": "markdown",
   "metadata": {},
   "source": [
    "### String Data Type\n",
    "- Un string es una secuencia de caracteres\n",
    "- Un string utiliza explicitamente comillas \"Hola\" o 'Hola'\n",
    "- Para los string `+` significa concadenar\n",
    "- Cuando un string contiene numeros sigue siendo un string\n",
    "- Podemos convertir los numeros de un string a formato numero con `int()`"
   ]
  },
  {
   "cell_type": "markdown",
   "metadata": {},
   "source": [
    "### Reading and Converting\n",
    "Preferimos leer los datos usando formato string y luego convertirlos en lo que necesitamos.\n",
    "\n",
    "Nos da mas control sobre las situaciones de error o malos inputs de usuarios"
   ]
  },
  {
   "cell_type": "code",
   "execution_count": 1,
   "metadata": {},
   "outputs": [
    {
     "name": "stdout",
     "output_type": "stream",
     "text": [
      "Enter: 10\n",
      "20\n"
     ]
    }
   ],
   "source": [
    "apple = input(\"Enter: \")\n",
    "\n",
    "# x = apple + 10 # Nos dara error\n",
    "x = int(apple) + 10\n",
    "\n",
    "print(x)"
   ]
  },
  {
   "cell_type": "markdown",
   "metadata": {},
   "source": [
    "### Looking inside String\n",
    "- Podemos acceder a los caracteres de un string utilizando un especifico indice en square brackets (`[]`)\n",
    "\n",
    "- Los valores del indice deben ser un entero que parte desde cero \n",
    "\n",
    "- Los indices pueden ser una expresion a ser evaluada "
   ]
  },
  {
   "cell_type": "code",
   "execution_count": 2,
   "metadata": {},
   "outputs": [
    {
     "name": "stdout",
     "output_type": "stream",
     "text": [
      "a\n"
     ]
    }
   ],
   "source": [
    "fruit = 'banana'\n",
    "\n",
    "letter = fruit[1]\n",
    "print(letter)"
   ]
  },
  {
   "cell_type": "code",
   "execution_count": 3,
   "metadata": {},
   "outputs": [
    {
     "name": "stdout",
     "output_type": "stream",
     "text": [
      "n\n"
     ]
    }
   ],
   "source": [
    "x = 3\n",
    "\n",
    "w = fruit[x-1]\n",
    "print(w)"
   ]
  },
  {
   "cell_type": "markdown",
   "metadata": {},
   "source": [
    "### A Character Too Far\n",
    "Reciviras un `python error` si intentas utilizar un indice mas alla del final de un string. Hay que ser cuidadosos con los indices o slices construidos "
   ]
  },
  {
   "cell_type": "code",
   "execution_count": null,
   "metadata": {},
   "outputs": [],
   "source": [
    "zot = 'abc'\n",
    "print(zot[5])"
   ]
  },
  {
   "cell_type": "markdown",
   "metadata": {},
   "source": [
    "### String Have Lenght\n",
    "La funcion interna `len()` nos devuelve el largo de un string"
   ]
  },
  {
   "cell_type": "code",
   "execution_count": 4,
   "metadata": {},
   "outputs": [
    {
     "name": "stdout",
     "output_type": "stream",
     "text": [
      "6\n"
     ]
    }
   ],
   "source": [
    "fruit = 'banana'\n",
    "print(len(fruit))"
   ]
  },
  {
   "cell_type": "markdown",
   "metadata": {},
   "source": [
    "### Looping Through Strings\n",
    "Usando una sentencia `while` y una variable de iteracion, y la funcion `len()`,\n",
    "podemos construir un ciclo para buscar cada una de las letras de un string."
   ]
  },
  {
   "cell_type": "code",
   "execution_count": 5,
   "metadata": {},
   "outputs": [
    {
     "name": "stdout",
     "output_type": "stream",
     "text": [
      "0 b\n",
      "1 a\n",
      "2 n\n",
      "3 a\n",
      "4 n\n",
      "5 a\n"
     ]
    }
   ],
   "source": [
    "fruit = 'banana'\n",
    "index = 0\n",
    "while index < len(fruit):\n",
    "    letter = fruit[index]\n",
    "    print(index, letter)\n",
    "    index = index + 1"
   ]
  },
  {
   "cell_type": "markdown",
   "metadata": {},
   "source": [
    "Un ciclo definido usando la sentencia `for` es mucho mas elegante. La variable de iteracion toma cuidado del ciclo. "
   ]
  },
  {
   "cell_type": "code",
   "execution_count": 6,
   "metadata": {},
   "outputs": [
    {
     "name": "stdout",
     "output_type": "stream",
     "text": [
      "b\n",
      "a\n",
      "n\n",
      "a\n",
      "n\n",
      "a\n"
     ]
    }
   ],
   "source": [
    "fruit = 'banana'\n",
    "for letter in fruit:\n",
    "    print(letter)"
   ]
  },
  {
   "cell_type": "markdown",
   "metadata": {},
   "source": [
    "### Looping and Couting\n",
    "Este es un simple ciclo que avanza a traves de cada letra en un string y cuenta el numero de veces que el ciclo encuentra la letra 'a'"
   ]
  },
  {
   "cell_type": "code",
   "execution_count": 7,
   "metadata": {},
   "outputs": [
    {
     "name": "stdout",
     "output_type": "stream",
     "text": [
      "3\n"
     ]
    }
   ],
   "source": [
    "word = 'banana'\n",
    "count = 0\n",
    "for letter in word:\n",
    "    if letter == 'a':\n",
    "        count = count + 1\n",
    "print(count) "
   ]
  },
  {
   "cell_type": "markdown",
   "metadata": {},
   "source": [
    "### Slicing String\n",
    "Podemos tambien mirar en alguna seccion continua de un string usando `colon operator` (`:`)"
   ]
  },
  {
   "cell_type": "code",
   "execution_count": 12,
   "metadata": {},
   "outputs": [
    {
     "name": "stdout",
     "output_type": "stream",
     "text": [
      "Mont\n"
     ]
    }
   ],
   "source": [
    "s = \"Monty Python\"\n",
    "print(s[0:4])"
   ]
  },
  {
   "cell_type": "markdown",
   "metadata": {},
   "source": [
    "El segundo numero es un numero es uno mas alla del final del slice, es decir, el ultimo numero no es incluido. \n",
    "\n",
    "Si el segundo numero es mas alla del final de string, no da error, solo para en el final"
   ]
  },
  {
   "cell_type": "code",
   "execution_count": 13,
   "metadata": {},
   "outputs": [
    {
     "name": "stdout",
     "output_type": "stream",
     "text": [
      "P\n",
      "Python\n"
     ]
    }
   ],
   "source": [
    "s = \"Monty Python\"\n",
    "print(s[6:7])\n",
    "\n",
    "print(s[6:20])"
   ]
  },
  {
   "cell_type": "markdown",
   "metadata": {},
   "source": [
    "Si dejamos vacio el primer o ultimo numero de el slice, se asume que estamos comenzando desde el principio o llegando hasta el final de un string respectivamente. "
   ]
  },
  {
   "cell_type": "code",
   "execution_count": 14,
   "metadata": {},
   "outputs": [
    {
     "name": "stdout",
     "output_type": "stream",
     "text": [
      "Mon\n",
      "thon\n",
      "Monty Python\n"
     ]
    }
   ],
   "source": [
    "print(s[:3])\n",
    "\n",
    "print(s[8:])\n",
    "\n",
    "print(s[:])"
   ]
  },
  {
   "cell_type": "markdown",
   "metadata": {},
   "source": [
    "### String Concatenation\n",
    "Cuando un `+` es aplicado a un string, esto significa concadenacion"
   ]
  },
  {
   "cell_type": "code",
   "execution_count": 15,
   "metadata": {},
   "outputs": [
    {
     "name": "stdout",
     "output_type": "stream",
     "text": [
      "HolaSeba\n"
     ]
    }
   ],
   "source": [
    "a = \"Hola\"\n",
    "b = a + \"Seba\"\n",
    "\n",
    "print(b)"
   ]
  },
  {
   "cell_type": "markdown",
   "metadata": {},
   "source": [
    "### Using **in** as logical Operator"
   ]
  },
  {
   "cell_type": "markdown",
   "metadata": {},
   "source": [
    "La sentencia `in` puede ser usada para verficar si un estring esta dentro (`in`) de otro string "
   ]
  },
  {
   "cell_type": "code",
   "execution_count": 16,
   "metadata": {},
   "outputs": [
    {
     "data": {
      "text/plain": [
       "True"
      ]
     },
     "execution_count": 16,
     "metadata": {},
     "output_type": "execute_result"
    }
   ],
   "source": [
    "fruit = \"banana\"\n",
    "\"n\" in fruit"
   ]
  },
  {
   "cell_type": "code",
   "execution_count": 17,
   "metadata": {},
   "outputs": [
    {
     "data": {
      "text/plain": [
       "True"
      ]
     },
     "execution_count": 17,
     "metadata": {},
     "output_type": "execute_result"
    }
   ],
   "source": [
    "\"nan\" in fruit"
   ]
  },
  {
   "cell_type": "markdown",
   "metadata": {},
   "source": [
    "### String Comparison"
   ]
  },
  {
   "cell_type": "markdown",
   "metadata": {},
   "source": [
    "La comparacion entre string no es tan trivial. En general podemos decir que se compara por abecedario, es decir la letra `a` sera menor que la letra `b`"
   ]
  },
  {
   "cell_type": "code",
   "execution_count": 23,
   "metadata": {},
   "outputs": [
    {
     "name": "stdout",
     "output_type": "stream",
     "text": [
      "True\n"
     ]
    }
   ],
   "source": [
    "if \"a\" < \"b\":\n",
    "    print(\"True\")"
   ]
  },
  {
   "cell_type": "markdown",
   "metadata": {},
   "source": [
    "Tambien podemos observar que las letras en `mayusculas` son menores a las `minusculas`"
   ]
  },
  {
   "cell_type": "code",
   "execution_count": 30,
   "metadata": {},
   "outputs": [
    {
     "name": "stdout",
     "output_type": "stream",
     "text": [
      "True\n"
     ]
    }
   ],
   "source": [
    "if \"a\" > \"B\":\n",
    "    print(\"True\")"
   ]
  },
  {
   "cell_type": "markdown",
   "metadata": {},
   "source": [
    "La comparacion entre palabras se ira haciendo una a una entre sus letras."
   ]
  },
  {
   "cell_type": "code",
   "execution_count": 31,
   "metadata": {},
   "outputs": [
    {
     "name": "stdout",
     "output_type": "stream",
     "text": [
      "True\n"
     ]
    }
   ],
   "source": [
    "if \"Caracol\" < \"Carcel\":\n",
    "    print(\"True\")"
   ]
  },
  {
   "cell_type": "markdown",
   "metadata": {},
   "source": [
    "### String Library\n",
    "+ Python posee un numero de funciones para los strings, las cuales vienen ya integradas.\n",
    "\n",
    "+ Las funciones estan construidas dentro de cada string. \n",
    "+ Las invocamos concadenando la funcion a las variables string. \n",
    "\n",
    "+ Esas funciones no modifican al string original, sino que retornan un nuevo string que ha sido alterado "
   ]
  },
  {
   "cell_type": "code",
   "execution_count": 34,
   "metadata": {},
   "outputs": [
    {
     "name": "stdout",
     "output_type": "stream",
     "text": [
      "Hello Bob\n",
      "hello bob\n"
     ]
    }
   ],
   "source": [
    "greet = \"Hello Bob\"\n",
    "\n",
    "#Usamos la funcion .lower()\n",
    "zap = greet.lower()\n",
    "\n",
    "print(greet)\n",
    "print(zap)"
   ]
  },
  {
   "cell_type": "code",
   "execution_count": 35,
   "metadata": {},
   "outputs": [
    {
     "name": "stdout",
     "output_type": "stream",
     "text": [
      "hello\n"
     ]
    }
   ],
   "source": [
    "print(\"Hello\".lower())"
   ]
  },
  {
   "cell_type": "markdown",
   "metadata": {},
   "source": [
    "Las funciones asociadas a un tipo (`type`) especifico de datos en Python se llaman Metodos (`methods`). \n",
    "\n",
    "Podemos saber cuales son los `method` disponible para un tipo de datos con la funcion `dir()`"
   ]
  },
  {
   "cell_type": "code",
   "execution_count": 36,
   "metadata": {},
   "outputs": [
    {
     "data": {
      "text/plain": [
       "str"
      ]
     },
     "execution_count": 36,
     "metadata": {},
     "output_type": "execute_result"
    }
   ],
   "source": [
    "stuff = \"Hello world\"\n",
    "type(stuff)"
   ]
  },
  {
   "cell_type": "code",
   "execution_count": 38,
   "metadata": {},
   "outputs": [],
   "source": [
    "dir(stuff)"
   ]
  },
  {
   "cell_type": "markdown",
   "metadata": {},
   "source": [
    "Estas son a menudos los metodos mas utilizados cuando trabajamos con string\n",
    "`str.find()`\n",
    "\n",
    "\n",
    "`str.lower()`\n",
    "\n",
    "`str.upper()`\n",
    "\n",
    "`str.capitalize()`\n",
    "\n",
    "\n",
    "`str.replace()`\n",
    "\n",
    "\n",
    "`str.lstrip()`\n",
    "\n",
    "`str.rstrip()`\n",
    "\n",
    "`str.strip()`\n",
    "\n",
    "    \n",
    "`str.endwith()`\n",
    "\n",
    "\n",
    "`str.center()`\n",
    "    \n"
   ]
  },
  {
   "cell_type": "markdown",
   "metadata": {},
   "source": [
    "### Searching a String\n",
    "Usamos el metodo `.find()` para buscar un substring dentro de otro string\n",
    "\n",
    "`find()` encuentra la primera ocurrencia del substring\n",
    "\n",
    "Si el substring no es encontrado, `find()` retorna -1\n",
    "\n",
    "RECORDAR QUE LA POSICION DEL STRING COMIENZA EN CERO"
   ]
  },
  {
   "cell_type": "code",
   "execution_count": 41,
   "metadata": {},
   "outputs": [
    {
     "name": "stdout",
     "output_type": "stream",
     "text": [
      "2\n"
     ]
    }
   ],
   "source": [
    "fruit = \"banana\"\n",
    "pos = fruit.find(\"na\")\n",
    "\n",
    "print(pos)"
   ]
  },
  {
   "cell_type": "code",
   "execution_count": 42,
   "metadata": {},
   "outputs": [
    {
     "name": "stdout",
     "output_type": "stream",
     "text": [
      "-1\n"
     ]
    }
   ],
   "source": [
    "print(fruit.find(\"z\"))"
   ]
  },
  {
   "cell_type": "markdown",
   "metadata": {},
   "source": [
    "### Making everything Upper or Lower Case\n",
    "Puedes hacer una copia de un string en formato Mayuscula o Minuscula\n",
    "\n",
    "A menudo cuando buscamos un string usando `find()`, primero convertimos el string en formato `lower case` para poder buscarlo independiente del caso. "
   ]
  },
  {
   "cell_type": "code",
   "execution_count": 44,
   "metadata": {},
   "outputs": [
    {
     "name": "stdout",
     "output_type": "stream",
     "text": [
      "HELLO BOB\n",
      "hello bob\n"
     ]
    }
   ],
   "source": [
    "greet = \"Hello Bob\"\n",
    "nnn = greet.upper()\n",
    "print(nnn)\n",
    "\n",
    "www = greet.lower()\n",
    "print(www)"
   ]
  },
  {
   "cell_type": "markdown",
   "metadata": {},
   "source": [
    "### Search and Replace\n",
    "La funcion `replace()` es como \"Buscar y remplazar\" en un procesador de palabras. Esta funcion remplaza todas las ocurrencias de la busqueda con el string de remplazo"
   ]
  },
  {
   "cell_type": "code",
   "execution_count": 45,
   "metadata": {},
   "outputs": [
    {
     "name": "stdout",
     "output_type": "stream",
     "text": [
      "Hello Jane\n"
     ]
    }
   ],
   "source": [
    "greet = \"Hello Bob\"\n",
    "nstr = greet.replace(\"Bob\", \"Jane\")\n",
    "print(nstr)"
   ]
  },
  {
   "cell_type": "markdown",
   "metadata": {},
   "source": [
    "### Stripping Whitespace\n",
    "Algunas veces queremos tomar un string y remover whitespace en el principio o en el final. \n",
    "\n",
    "`lstrip()` y `rstrip()` remueven los whitespace de el lado izquierdo y derecho, respectivamente. `strip()` remueve ambos lados "
   ]
  },
  {
   "cell_type": "code",
   "execution_count": 46,
   "metadata": {},
   "outputs": [
    {
     "data": {
      "text/plain": [
       "'Hello Bob  '"
      ]
     },
     "execution_count": 46,
     "metadata": {},
     "output_type": "execute_result"
    }
   ],
   "source": [
    "greet = \"    Hello Bob  \"\n",
    "greet.lstrip()"
   ]
  },
  {
   "cell_type": "code",
   "execution_count": 47,
   "metadata": {},
   "outputs": [
    {
     "data": {
      "text/plain": [
       "'    Hello Bob'"
      ]
     },
     "execution_count": 47,
     "metadata": {},
     "output_type": "execute_result"
    }
   ],
   "source": [
    "greet.rstrip()"
   ]
  },
  {
   "cell_type": "code",
   "execution_count": 48,
   "metadata": {},
   "outputs": [
    {
     "data": {
      "text/plain": [
       "'Hello Bob'"
      ]
     },
     "execution_count": 48,
     "metadata": {},
     "output_type": "execute_result"
    }
   ],
   "source": [
    "greet.strip()"
   ]
  },
  {
   "cell_type": "markdown",
   "metadata": {},
   "source": [
    "### Prefixes\n",
    "`startwith()` y `endswith()` Nos permite preguntar si un string comienza o termina con un de terminado substring"
   ]
  },
  {
   "cell_type": "code",
   "execution_count": 49,
   "metadata": {},
   "outputs": [
    {
     "data": {
      "text/plain": [
       "True"
      ]
     },
     "execution_count": 49,
     "metadata": {},
     "output_type": "execute_result"
    }
   ],
   "source": [
    "line = \"Please have a nice day\"\n",
    "line.startswith(\"Please\")"
   ]
  },
  {
   "cell_type": "code",
   "execution_count": 50,
   "metadata": {},
   "outputs": [
    {
     "data": {
      "text/plain": [
       "True"
      ]
     },
     "execution_count": 50,
     "metadata": {},
     "output_type": "execute_result"
    }
   ],
   "source": [
    "line.endswith(\"day\")"
   ]
  },
  {
   "cell_type": "markdown",
   "metadata": {},
   "source": [
    "### Two Kinds of String\n",
    "Todos los string en Python 3 son `Unicode`, a diferencia de Python 2 en donde se tenia que especificar que tipos de string se iban a trabajar como `Unicode`"
   ]
  },
  {
   "cell_type": "markdown",
   "metadata": {},
   "source": [
    "### Exercise 6.1"
   ]
  },
  {
   "cell_type": "code",
   "execution_count": 51,
   "metadata": {},
   "outputs": [
    {
     "name": "stdout",
     "output_type": "stream",
     "text": [
      "18\n",
      " 0.8475\n",
      "0.8475\n"
     ]
    }
   ],
   "source": [
    "str = \"X-DSPAM-Confidence: 0.8475\"\n",
    "\n",
    "ipos= str.find(\":\")\n",
    "print(ipos)\n",
    "\n",
    "#Los str poseen posiciones, uno puede acceder a un valor dentro de un str mediante [] y un indice numerico que indica\n",
    "#la posicion del valor. ej: i=\"casa\", i[0] -> 'c'\n",
    "\n",
    "#La posicion cero indica el primer valor del str\n",
    "\n",
    "#podemos encontrar un rango de valores en un str usando [:]. \n",
    "#ej: i=\"hoteles\", i[:2]-> 'ca'. i[4:] -> 'les'. i[:]-> 'hoteles'\n",
    "\n",
    "piece = str[ipos+1:]\n",
    "print(piece)\n",
    "\n",
    "value=float(piece)\n",
    "print(value)"
   ]
  },
  {
   "cell_type": "markdown",
   "metadata": {},
   "source": [
    "<h2 style = 'color:teal' > Reading Files </h2>"
   ]
  },
  {
   "cell_type": "markdown",
   "metadata": {},
   "source": [
    "### File Processing\n",
    "Un archivo de text (.txt) puede ser pensado como una secuencia de linea"
   ]
  },
  {
   "cell_type": "markdown",
   "metadata": {},
   "source": [
    "### Opening a File\n",
    "Debemos decirle a Python con cual archivo vamos a trabajar y lo que queremos hacer con él. Esto lo hacemos con la funcion `open()`\n",
    "\n",
    "`open()` retorna a **file handle** - una variable usada para llevar a cabo las operaciones del archivo"
   ]
  },
  {
   "cell_type": "markdown",
   "metadata": {},
   "source": [
    "### Using Open()\n",
    "handle = open(filename, `mode`)\n",
    "\n",
    "`mode` es opcional y debe ser `'r'` si vamos a leer o `'w'` si vamos a escribir el archivo"
   ]
  },
  {
   "cell_type": "code",
   "execution_count": 60,
   "metadata": {},
   "outputs": [],
   "source": [
    "fhand = open('mbox-short.txt', 'r')"
   ]
  },
  {
   "cell_type": "markdown",
   "metadata": {},
   "source": [
    "El archivo abierto sera un `handle file`.\n",
    "\n",
    "`handle file` es una cosa que nos permite acceder al archivo, pero no es el archivo en si mismo, es solo un envoltorio que nos permite manejarlo.  "
   ]
  },
  {
   "cell_type": "code",
   "execution_count": 61,
   "metadata": {},
   "outputs": [
    {
     "name": "stdout",
     "output_type": "stream",
     "text": [
      "<_io.TextIOWrapper name='mbox-short.txt' mode='r' encoding='cp1252'>\n"
     ]
    }
   ],
   "source": [
    "print(fhand)"
   ]
  },
  {
   "cell_type": "markdown",
   "metadata": {},
   "source": [
    "### The new Character\n",
    "Usamos un caracter especial  llamada 'newline' que indica cuando una linea termina. La representamos con el string `\\n`.\n",
    "\n",
    "`newline` es aun un caracter, no dos. "
   ]
  },
  {
   "cell_type": "code",
   "execution_count": 62,
   "metadata": {},
   "outputs": [
    {
     "name": "stdout",
     "output_type": "stream",
     "text": [
      "hello\n",
      "world\n"
     ]
    }
   ],
   "source": [
    "stuff = 'hello\\nworld'\n",
    "print(stuff)"
   ]
  },
  {
   "cell_type": "code",
   "execution_count": 63,
   "metadata": {},
   "outputs": [
    {
     "name": "stdout",
     "output_type": "stream",
     "text": [
      "X\n",
      "Y\n",
      "3\n"
     ]
    }
   ],
   "source": [
    "stuff = 'X\\nY'\n",
    "print(stuff)\n",
    "print(len(stuff))"
   ]
  },
  {
   "cell_type": "markdown",
   "metadata": {},
   "source": [
    "### File Handle as a Sequence\n",
    "Un `file handle` abierto para leer puede ser tratado como una secuencia de strings donde cada lineas en el archivo es un string en la secuencia. \n",
    "\n",
    "Podemos usar la sentencia `for` para iterar a traves de la secuencia\n",
    "\n",
    "Recordar - una secuencia es una set ordenado. "
   ]
  },
  {
   "cell_type": "code",
   "execution_count": 66,
   "metadata": {},
   "outputs": [],
   "source": [
    "xfile = open('mbox-short.txt')\n",
    "for cheese in xfile:\n",
    "    print(cheese)"
   ]
  },
  {
   "cell_type": "markdown",
   "metadata": {},
   "source": [
    "### Reading the 'Whole' File\n",
    "Podemos **leer la totalidad** del archivo (newlines y todo) dentro de un 'single string'. Utilizamos el metodo `read()`.\n",
    "\n",
    "La ventaja de leer el archivo de esta forma es su rendimiento. "
   ]
  },
  {
   "cell_type": "code",
   "execution_count": 68,
   "metadata": {},
   "outputs": [
    {
     "name": "stdout",
     "output_type": "stream",
     "text": [
      "94626\n"
     ]
    }
   ],
   "source": [
    "fhand = open('mbox-short.txt')\n",
    "inp = fhand.read()\n",
    "print(len(inp))"
   ]
  },
  {
   "cell_type": "markdown",
   "metadata": {},
   "source": [
    "### Searching Through a File\n",
    "Podemos poner una sentencia `if` en nuestro ciclo `for` para solo imprimir las lineas que cumplan algunos criterios. "
   ]
  },
  {
   "cell_type": "code",
   "execution_count": 69,
   "metadata": {},
   "outputs": [
    {
     "name": "stdout",
     "output_type": "stream",
     "text": [
      "From: stephen.marquard@uct.ac.za\n",
      "\n",
      "From: louis@media.berkeley.edu\n",
      "\n",
      "From: zqian@umich.edu\n",
      "\n",
      "From: rjlowe@iupui.edu\n",
      "\n",
      "From: zqian@umich.edu\n",
      "\n",
      "From: rjlowe@iupui.edu\n",
      "\n",
      "From: cwen@iupui.edu\n",
      "\n",
      "From: cwen@iupui.edu\n",
      "\n",
      "From: gsilver@umich.edu\n",
      "\n",
      "From: gsilver@umich.edu\n",
      "\n",
      "From: zqian@umich.edu\n",
      "\n",
      "From: gsilver@umich.edu\n",
      "\n",
      "From: wagnermr@iupui.edu\n",
      "\n",
      "From: zqian@umich.edu\n",
      "\n",
      "From: antranig@caret.cam.ac.uk\n",
      "\n",
      "From: gopal.ramasammycook@gmail.com\n",
      "\n",
      "From: david.horwitz@uct.ac.za\n",
      "\n",
      "From: david.horwitz@uct.ac.za\n",
      "\n",
      "From: david.horwitz@uct.ac.za\n",
      "\n",
      "From: david.horwitz@uct.ac.za\n",
      "\n",
      "From: stephen.marquard@uct.ac.za\n",
      "\n",
      "From: louis@media.berkeley.edu\n",
      "\n",
      "From: louis@media.berkeley.edu\n",
      "\n",
      "From: ray@media.berkeley.edu\n",
      "\n",
      "From: cwen@iupui.edu\n",
      "\n",
      "From: cwen@iupui.edu\n",
      "\n",
      "From: cwen@iupui.edu\n",
      "\n"
     ]
    }
   ],
   "source": [
    "fhand = open('mbox-short.txt')\n",
    "for line in fhand:\n",
    "    if line.startswith('From: '):\n",
    "        print(line)"
   ]
  },
  {
   "cell_type": "markdown",
   "metadata": {},
   "source": [
    "**Opps! Que estan haciendo todas lineas blancas?** \n",
    "\n",
    "- Cada linea de el archivo tiene una newline en el final\n",
    "- La sentencia `print` agrega una newline en cada linea.\n",
    "\n",
    "Podemos strip las whitespace de el lado derecho de el string usando `rstrip()`. Las newline son consideradas 'white space' y son stripped."
   ]
  },
  {
   "cell_type": "code",
   "execution_count": 70,
   "metadata": {},
   "outputs": [
    {
     "name": "stdout",
     "output_type": "stream",
     "text": [
      "From: stephen.marquard@uct.ac.za\n",
      "From: louis@media.berkeley.edu\n",
      "From: zqian@umich.edu\n",
      "From: rjlowe@iupui.edu\n",
      "From: zqian@umich.edu\n",
      "From: rjlowe@iupui.edu\n",
      "From: cwen@iupui.edu\n",
      "From: cwen@iupui.edu\n",
      "From: gsilver@umich.edu\n",
      "From: gsilver@umich.edu\n",
      "From: zqian@umich.edu\n",
      "From: gsilver@umich.edu\n",
      "From: wagnermr@iupui.edu\n",
      "From: zqian@umich.edu\n",
      "From: antranig@caret.cam.ac.uk\n",
      "From: gopal.ramasammycook@gmail.com\n",
      "From: david.horwitz@uct.ac.za\n",
      "From: david.horwitz@uct.ac.za\n",
      "From: david.horwitz@uct.ac.za\n",
      "From: david.horwitz@uct.ac.za\n",
      "From: stephen.marquard@uct.ac.za\n",
      "From: louis@media.berkeley.edu\n",
      "From: louis@media.berkeley.edu\n",
      "From: ray@media.berkeley.edu\n",
      "From: cwen@iupui.edu\n",
      "From: cwen@iupui.edu\n",
      "From: cwen@iupui.edu\n"
     ]
    }
   ],
   "source": [
    "fhand = open('mbox-short.txt')\n",
    "for line in fhand:\n",
    "    line = line.rstrip()\n",
    "    if line.startswith('From: '):\n",
    "        print(line)"
   ]
  },
  {
   "cell_type": "markdown",
   "metadata": {},
   "source": [
    "### Skipping with continue\n",
    "Podemos convenientemente saltar una linea usando la sentencia `continue`"
   ]
  },
  {
   "cell_type": "code",
   "execution_count": 1,
   "metadata": {},
   "outputs": [
    {
     "name": "stdout",
     "output_type": "stream",
     "text": [
      "From: stephen.marquard@uct.ac.za\n",
      "From: louis@media.berkeley.edu\n",
      "From: zqian@umich.edu\n",
      "From: rjlowe@iupui.edu\n",
      "From: zqian@umich.edu\n",
      "From: rjlowe@iupui.edu\n",
      "From: cwen@iupui.edu\n",
      "From: cwen@iupui.edu\n",
      "From: gsilver@umich.edu\n",
      "From: gsilver@umich.edu\n",
      "From: zqian@umich.edu\n",
      "From: gsilver@umich.edu\n",
      "From: wagnermr@iupui.edu\n",
      "From: zqian@umich.edu\n",
      "From: antranig@caret.cam.ac.uk\n",
      "From: gopal.ramasammycook@gmail.com\n",
      "From: david.horwitz@uct.ac.za\n",
      "From: david.horwitz@uct.ac.za\n",
      "From: david.horwitz@uct.ac.za\n",
      "From: david.horwitz@uct.ac.za\n",
      "From: stephen.marquard@uct.ac.za\n",
      "From: louis@media.berkeley.edu\n",
      "From: louis@media.berkeley.edu\n",
      "From: ray@media.berkeley.edu\n",
      "From: cwen@iupui.edu\n",
      "From: cwen@iupui.edu\n",
      "From: cwen@iupui.edu\n"
     ]
    }
   ],
   "source": [
    "fhand = open('mbox-short.txt')\n",
    "for line in fhand:\n",
    "    line = line.rstrip()\n",
    "    if not line.startswith('From:'):\n",
    "        continue\n",
    "    print(line)"
   ]
  },
  {
   "cell_type": "markdown",
   "metadata": {},
   "source": [
    "### Using **in** to select lines\n",
    "podemos buscar un string en cualquier parte dentro de una linea."
   ]
  },
  {
   "cell_type": "code",
   "execution_count": 2,
   "metadata": {},
   "outputs": [
    {
     "name": "stdout",
     "output_type": "stream",
     "text": [
      "From stephen.marquard@uct.ac.za Sat Jan  5 09:14:16 2008\n",
      "X-Authentication-Warning: nakamura.uits.iupui.edu: apache set sender to stephen.marquard@uct.ac.za using -f\n",
      "From: stephen.marquard@uct.ac.za\n",
      "Author: stephen.marquard@uct.ac.za\n",
      "From david.horwitz@uct.ac.za Fri Jan  4 07:02:32 2008\n",
      "X-Authentication-Warning: nakamura.uits.iupui.edu: apache set sender to david.horwitz@uct.ac.za using -f\n",
      "From: david.horwitz@uct.ac.za\n",
      "Author: david.horwitz@uct.ac.za\n",
      "r39753 | david.horwitz@uct.ac.za | 2008-01-04 13:05:51 +0200 (Fri, 04 Jan 2008) | 1 line\n",
      "From david.horwitz@uct.ac.za Fri Jan  4 06:08:27 2008\n",
      "X-Authentication-Warning: nakamura.uits.iupui.edu: apache set sender to david.horwitz@uct.ac.za using -f\n",
      "From: david.horwitz@uct.ac.za\n",
      "Author: david.horwitz@uct.ac.za\n",
      "From david.horwitz@uct.ac.za Fri Jan  4 04:49:08 2008\n",
      "X-Authentication-Warning: nakamura.uits.iupui.edu: apache set sender to david.horwitz@uct.ac.za using -f\n",
      "From: david.horwitz@uct.ac.za\n",
      "Author: david.horwitz@uct.ac.za\n",
      "From david.horwitz@uct.ac.za Fri Jan  4 04:33:44 2008\n",
      "X-Authentication-Warning: nakamura.uits.iupui.edu: apache set sender to david.horwitz@uct.ac.za using -f\n",
      "From: david.horwitz@uct.ac.za\n",
      "Author: david.horwitz@uct.ac.za\n",
      "From stephen.marquard@uct.ac.za Fri Jan  4 04:07:34 2008\n",
      "X-Authentication-Warning: nakamura.uits.iupui.edu: apache set sender to stephen.marquard@uct.ac.za using -f\n",
      "From: stephen.marquard@uct.ac.za\n",
      "Author: stephen.marquard@uct.ac.za\n"
     ]
    }
   ],
   "source": [
    "fhand = open('mbox-short.txt')\n",
    "for line in fhand:\n",
    "    line = line.rstrip()\n",
    "    if not '@uct.ac.za' in line:\n",
    "        continue\n",
    "    print(line)"
   ]
  },
  {
   "cell_type": "markdown",
   "metadata": {},
   "source": [
    "### Bad File Names"
   ]
  },
  {
   "cell_type": "code",
   "execution_count": 3,
   "metadata": {},
   "outputs": [
    {
     "name": "stdout",
     "output_type": "stream",
     "text": [
      "Enter the file name:mbox-short.txt\n",
      "There were 27 subject line in mbox-short.txt\n"
     ]
    }
   ],
   "source": [
    "fname = input('Enter the file name:')\n",
    "try:\n",
    "    fhand = open(fname)\n",
    "except:\n",
    "    printi('File cannot be opened', fname)\n",
    "    quit()\n",
    "\n",
    "count = 0\n",
    "for line in fhand:\n",
    "    if line.startswith('Subject:'):\n",
    "        count = count + 1\n",
    "\n",
    "print('There were', count, 'subject line in', fname)"
   ]
  },
  {
   "cell_type": "code",
   "execution_count": null,
   "metadata": {},
   "outputs": [],
   "source": []
  },
  {
   "cell_type": "markdown",
   "metadata": {},
   "source": [
    "### Exercise 7.1"
   ]
  },
  {
   "cell_type": "code",
   "execution_count": null,
   "metadata": {},
   "outputs": [],
   "source": [
    "import os\n",
    "\n",
    "#Podemos ver en el directorio que estamos trabajando\n",
    "os.getcwd()\n",
    "\n",
    "#Podemos cambiar el directorio de trabajo con\n",
    "#as.chdir('')\n",
    "\n",
    "#hay que considerar que en jupyter notebook las direcciones de los directorios se trabajan con \"/\" o \"\\\\\"\n",
    "#ej. C:/Users/Desktop, o C://User//Desktop\n",
    "os.chdir('C:/Users')\n",
    "os.chdir('C:\\\\Users\\\\yo\\\\Geocomputing with Python - freeCodeCamp')"
   ]
  },
  {
   "cell_type": "code",
   "execution_count": null,
   "metadata": {},
   "outputs": [],
   "source": [
    "os.getcwd()\n",
    "\n",
    "#La funcion open nos da la posibilidad de 'ver' el archivo, pero aún no abrirlo\n",
    "fh = open(\"mbox-short..txt\")\n",
    "print(fh)\n",
    "\n",
    "#Para abrir el archivo vamos a recorrerlo por cada fila de texto\n",
    "#for lx in fh:\n",
    "#    print(lx)\n",
    "    \n",
    "#Observar que al leer el archivo se coloca un espaciado entre lineas que esta de mas\n",
    "#Para este problema hay que usar rstrip()\n",
    "for lx in fh:\n",
    "    lx = lx.rstrip()\n",
    "    #Ahora queremos retornar las sentencias en mayusculas\n",
    "    print(lx.upper())"
   ]
  },
  {
   "cell_type": "markdown",
   "metadata": {},
   "source": [
    "<h2 style = 'color:teal' >Python Lists</h2>"
   ]
  },
  {
   "cell_type": "markdown",
   "metadata": {},
   "source": [
    "### Programming\n",
    "#### Algorithms\n",
    "Son un set de reglas o pasos usados para resolver un problema\n",
    "\n",
    "#### Data Structures\n",
    "Se refiere a una forma particular de organizar los datos en el computador"
   ]
  },
  {
   "cell_type": "markdown",
   "metadata": {},
   "source": [
    "### What is not a 'Colletion'\n",
    "La mayoria de nuestras variables tienen un solo valor asignado. Cuando ponemos un nuevo valor en la variable, la vieja variable es sobre escrita."
   ]
  },
  {
   "cell_type": "code",
   "execution_count": 1,
   "metadata": {},
   "outputs": [
    {
     "name": "stdout",
     "output_type": "stream",
     "text": [
      "2\n",
      "4\n"
     ]
    }
   ],
   "source": [
    "x = 2\n",
    "print(x)\n",
    "\n",
    "x = 4\n",
    "print(x)"
   ]
  },
  {
   "cell_type": "markdown",
   "metadata": {},
   "source": [
    "### A List es a kind of Colletion\n",
    "* Una coleccion (`colleccion`) nos permite poner muchos valores en una sola variable \n",
    "* Una coleccion (`collection`) es agradable porque podemos arrastrar varios valores en un solo paquete. "
   ]
  },
  {
   "cell_type": "code",
   "execution_count": 2,
   "metadata": {},
   "outputs": [],
   "source": [
    "friends =  ['joseph', 'glenn', 'sally']"
   ]
  },
  {
   "cell_type": "markdown",
   "metadata": {},
   "source": [
    "### List Constants\n",
    "Las `listas` se definen entre corchetes `[]` y los elementos de ella son separados por comas  `,`. \n",
    "\n",
    "Una elemento de una `lista` puede ser algun objeto de Python, incluso otra lista.\n",
    "\n",
    "Una lista puede ser vacia"
   ]
  },
  {
   "cell_type": "code",
   "execution_count": 4,
   "metadata": {},
   "outputs": [
    {
     "name": "stdout",
     "output_type": "stream",
     "text": [
      "[1, 12, 24, 45, 67]\n",
      "[1, [2, 3], 4]\n",
      "[]\n"
     ]
    }
   ],
   "source": [
    "print([1,12,24, 45, 67])\n",
    "\n",
    "print([1, [2,3], 4])\n",
    "\n",
    "print([])"
   ]
  },
  {
   "cell_type": "markdown",
   "metadata": {},
   "source": [
    "### List and definite loops - Best pals"
   ]
  },
  {
   "cell_type": "code",
   "execution_count": 6,
   "metadata": {},
   "outputs": [
    {
     "name": "stdout",
     "output_type": "stream",
     "text": [
      "Happy New Year: joseph\n",
      "Happy New Year: glenn\n",
      "Happy New Year: sally\n",
      "Done!\n"
     ]
    }
   ],
   "source": [
    "friends =  ['joseph', 'glenn', 'sally']\n",
    "for friend in friends:\n",
    "    print('Happy New Year:', friend)\n",
    "print('Done!')"
   ]
  },
  {
   "cell_type": "markdown",
   "metadata": {},
   "source": [
    "### Looking Inside List\n",
    "Al igual que los string, podemos acceder a algun elemento de una lista usando un indice especifico dentro de `[]` "
   ]
  },
  {
   "cell_type": "code",
   "execution_count": 7,
   "metadata": {},
   "outputs": [
    {
     "name": "stdout",
     "output_type": "stream",
     "text": [
      "glenn\n"
     ]
    }
   ],
   "source": [
    "friends =  ['joseph', 'glenn', 'sally']\n",
    "print(friends[1])"
   ]
  },
  {
   "cell_type": "markdown",
   "metadata": {},
   "source": [
    "### List are Mutable\n",
    "Los string son `'inmutables'`, no podemos cambiar el contenido de un string - debemos hacer un nuevo string para hacer el cambio\n",
    "\n",
    "Las listas son `'mutables'`, podemos cambiar un elemento de una lista usando el indice operador"
   ]
  },
  {
   "cell_type": "code",
   "execution_count": 8,
   "metadata": {},
   "outputs": [
    {
     "ename": "TypeError",
     "evalue": "'str' object does not support item assignment",
     "output_type": "error",
     "traceback": [
      "\u001b[1;31m---------------------------------------------------------------------------\u001b[0m",
      "\u001b[1;31mTypeError\u001b[0m                                 Traceback (most recent call last)",
      "\u001b[1;32m<ipython-input-8-2bc78b004470>\u001b[0m in \u001b[0;36m<module>\u001b[1;34m\u001b[0m\n\u001b[0;32m      1\u001b[0m \u001b[0mfruit\u001b[0m \u001b[1;33m=\u001b[0m \u001b[1;34m'Banana'\u001b[0m\u001b[1;33m\u001b[0m\u001b[1;33m\u001b[0m\u001b[0m\n\u001b[1;32m----> 2\u001b[1;33m \u001b[0mfruit\u001b[0m\u001b[1;33m[\u001b[0m\u001b[1;36m0\u001b[0m\u001b[1;33m]\u001b[0m \u001b[1;33m=\u001b[0m \u001b[1;34m'b'\u001b[0m\u001b[1;33m\u001b[0m\u001b[1;33m\u001b[0m\u001b[0m\n\u001b[0m",
      "\u001b[1;31mTypeError\u001b[0m: 'str' object does not support item assignment"
     ]
    }
   ],
   "source": [
    "fruit = 'Banana'\n",
    "fruit[0] = 'b'"
   ]
  },
  {
   "cell_type": "code",
   "execution_count": 10,
   "metadata": {},
   "outputs": [
    {
     "name": "stdout",
     "output_type": "stream",
     "text": [
      "[2, 4, 7, 8, 12]\n",
      "[2, 4, 28, 8, 12]\n"
     ]
    }
   ],
   "source": [
    "lotto = [2,4,7,8,12]\n",
    "print(lotto)\n",
    "\n",
    "lotto[2] = 28\n",
    "print(lotto)"
   ]
  },
  {
   "cell_type": "markdown",
   "metadata": {},
   "source": [
    "### How Long is a List?\n",
    "La funcion `len()` toma una lista como un parametro y retorna el numero de elementos en la lista\n",
    "\n",
    "\n",
    "Realmente `len()` nos dice el numero de elementos de algun set o secuencia (tal como un string ...)"
   ]
  },
  {
   "cell_type": "code",
   "execution_count": 13,
   "metadata": {},
   "outputs": [
    {
     "name": "stdout",
     "output_type": "stream",
     "text": [
      "9\n",
      "3\n"
     ]
    }
   ],
   "source": [
    "greet = 'Hello Bob'\n",
    "print(len(greet))\n",
    "\n",
    "x = [1,2,'joe']\n",
    "print(len(x))"
   ]
  },
  {
   "cell_type": "markdown",
   "metadata": {},
   "source": [
    "### Using the **range** function\n",
    "La funcion `range()` retorna una lista de numeros de ese rango, de cero a uno menos que el numero del parametro."
   ]
  },
  {
   "cell_type": "code",
   "execution_count": 14,
   "metadata": {},
   "outputs": [
    {
     "name": "stdout",
     "output_type": "stream",
     "text": [
      "range(0, 4)\n"
     ]
    }
   ],
   "source": [
    "print(range(4))"
   ]
  },
  {
   "cell_type": "markdown",
   "metadata": {},
   "source": [
    "### A tale of two loops\n",
    "Es util utilizar la funcion `range()` en conjunto con el ciclo for"
   ]
  },
  {
   "cell_type": "code",
   "execution_count": 15,
   "metadata": {},
   "outputs": [
    {
     "name": "stdout",
     "output_type": "stream",
     "text": [
      "happy new year: joseph\n",
      "happy new year: glenn\n",
      "happy new year: sally\n"
     ]
    }
   ],
   "source": [
    "friends = ['joseph', 'glenn', 'sally']\n",
    "\n",
    "for friend in friends:\n",
    "    print('happy new year:', friend)"
   ]
  },
  {
   "cell_type": "code",
   "execution_count": 17,
   "metadata": {},
   "outputs": [
    {
     "name": "stdout",
     "output_type": "stream",
     "text": [
      "happy new year joseph\n",
      "happy new year glenn\n",
      "happy new year sally\n"
     ]
    }
   ],
   "source": [
    "for i in range(len(friends)):\n",
    "    friend = friends[i]\n",
    "    print('happy new year', friend)"
   ]
  },
  {
   "cell_type": "markdown",
   "metadata": {},
   "source": [
    "### Concatenating list using **+**\n",
    "Podemos crear una nueva lista agregando dos existentes listas juntas"
   ]
  },
  {
   "cell_type": "code",
   "execution_count": 18,
   "metadata": {},
   "outputs": [],
   "source": [
    "a = [1,2,3]\n",
    "b = [4,5,6]\n",
    "c = a + b"
   ]
  },
  {
   "cell_type": "code",
   "execution_count": 19,
   "metadata": {},
   "outputs": [
    {
     "name": "stdout",
     "output_type": "stream",
     "text": [
      "[1, 2, 3, 4, 5, 6]\n"
     ]
    }
   ],
   "source": [
    "print(c)"
   ]
  },
  {
   "cell_type": "markdown",
   "metadata": {},
   "source": [
    "### List can be sliced using\n",
    "Al igual que en los string, el segundo numero es \"hasta pero no incluido\""
   ]
  },
  {
   "cell_type": "code",
   "execution_count": 21,
   "metadata": {},
   "outputs": [
    {
     "data": {
      "text/plain": [
       "[41, 12]"
      ]
     },
     "execution_count": 21,
     "metadata": {},
     "output_type": "execute_result"
    }
   ],
   "source": [
    "t = [9, 41, 12 ,3]\n",
    "t[1:3]"
   ]
  },
  {
   "cell_type": "code",
   "execution_count": 22,
   "metadata": {},
   "outputs": [
    {
     "data": {
      "text/plain": [
       "[9, 41, 12, 3]"
      ]
     },
     "execution_count": 22,
     "metadata": {},
     "output_type": "execute_result"
    }
   ],
   "source": [
    "t[:]"
   ]
  },
  {
   "cell_type": "markdown",
   "metadata": {},
   "source": [
    "### List Methods"
   ]
  },
  {
   "cell_type": "code",
   "execution_count": 23,
   "metadata": {},
   "outputs": [],
   "source": [
    "x = list()"
   ]
  },
  {
   "cell_type": "code",
   "execution_count": 27,
   "metadata": {},
   "outputs": [
    {
     "data": {
      "text/plain": [
       "list"
      ]
     },
     "execution_count": 27,
     "metadata": {},
     "output_type": "execute_result"
    }
   ],
   "source": [
    "type(x)"
   ]
  },
  {
   "cell_type": "code",
   "execution_count": null,
   "metadata": {},
   "outputs": [],
   "source": [
    "#dir(x)"
   ]
  },
  {
   "cell_type": "markdown",
   "metadata": {},
   "source": [
    "### Building a List from scratch\n",
    "Podemos crear listas vacias y agregar elementos con el metodo `append()`\n",
    "\n",
    "Las listas se mantienen en order y nueva lineas son agregadas en el final de la lista"
   ]
  },
  {
   "cell_type": "code",
   "execution_count": 34,
   "metadata": {},
   "outputs": [],
   "source": [
    "stuff = list()\n",
    "stuff.append(\"book\")\n",
    "stuff.append(\"cookie\")"
   ]
  },
  {
   "cell_type": "code",
   "execution_count": 35,
   "metadata": {},
   "outputs": [
    {
     "name": "stdout",
     "output_type": "stream",
     "text": [
      "['book', 'cookie']\n"
     ]
    }
   ],
   "source": [
    "print(stuff)"
   ]
  },
  {
   "cell_type": "markdown",
   "metadata": {},
   "source": [
    "### Is Something **in** a List?\n",
    "Python provee dos operaciones que dejan verificar si un item existe en una lista\n",
    "\n",
    "La sentencia `in` o `not in`, al igual que con los string, nos permite verificar si un elemento se encuentra en una lista"
   ]
  },
  {
   "cell_type": "code",
   "execution_count": 36,
   "metadata": {},
   "outputs": [
    {
     "data": {
      "text/plain": [
       "True"
      ]
     },
     "execution_count": 36,
     "metadata": {},
     "output_type": "execute_result"
    }
   ],
   "source": [
    "some = [1,9,21,10]\n",
    "9 in some"
   ]
  },
  {
   "cell_type": "code",
   "execution_count": 37,
   "metadata": {},
   "outputs": [
    {
     "data": {
      "text/plain": [
       "False"
      ]
     },
     "execution_count": 37,
     "metadata": {},
     "output_type": "execute_result"
    }
   ],
   "source": [
    "15 in some"
   ]
  },
  {
   "cell_type": "markdown",
   "metadata": {},
   "source": [
    "### List are in Order\n",
    "Una `lista` puede sostener varios items y mantenerlos en orden hasta que hagamso algo para cambiarlo. \n",
    "\n",
    "Una `lista` puede ser ordenada "
   ]
  },
  {
   "cell_type": "code",
   "execution_count": 44,
   "metadata": {},
   "outputs": [
    {
     "name": "stdout",
     "output_type": "stream",
     "text": [
      "['joseph', 'glenn', 'sally']\n",
      "['glenn', 'joseph', 'sally']\n"
     ]
    }
   ],
   "source": [
    "friends = ['joseph', 'glenn', 'sally']\n",
    "print(friends)\n",
    "\n",
    "friends.sort()\n",
    "print(friends)\n"
   ]
  },
  {
   "cell_type": "markdown",
   "metadata": {},
   "source": [
    "### Built-in Functions and Lists\n",
    "Hay un numero de **funciones contruidas dentro de Python** que toman listas como parametros."
   ]
  },
  {
   "cell_type": "code",
   "execution_count": 45,
   "metadata": {},
   "outputs": [
    {
     "name": "stdout",
     "output_type": "stream",
     "text": [
      "4\n",
      "41\n",
      "3\n",
      "65\n",
      "16.25\n"
     ]
    }
   ],
   "source": [
    "nums = [3,41,12,9]\n",
    "print(len(nums))\n",
    "print(max(nums))\n",
    "print(min(nums))\n",
    "print(sum(nums))\n",
    "print(sum(nums)/len(nums))"
   ]
  },
  {
   "cell_type": "markdown",
   "metadata": {},
   "source": [
    "### Best Friends: Strings and Lists\n",
    "`Split()` rompe un string en partes y produce una lista de string. Lo pensamos como palabras.\n",
    "\n",
    "Podemos **acceder** a una palabra en particular o **iterar** a traves de ellas"
   ]
  },
  {
   "cell_type": "code",
   "execution_count": 2,
   "metadata": {},
   "outputs": [
    {
     "name": "stdout",
     "output_type": "stream",
     "text": [
      "['With', 'three', 'words']\n"
     ]
    }
   ],
   "source": [
    "abc = 'With three words'\n",
    "stuff = abc.split()\n",
    "print(stuff)"
   ]
  },
  {
   "cell_type": "code",
   "execution_count": 3,
   "metadata": {},
   "outputs": [
    {
     "name": "stdout",
     "output_type": "stream",
     "text": [
      "3\n",
      "With\n"
     ]
    }
   ],
   "source": [
    "print(len(stuff))\n",
    "print(stuff[0])"
   ]
  },
  {
   "cell_type": "code",
   "execution_count": 4,
   "metadata": {},
   "outputs": [
    {
     "name": "stdout",
     "output_type": "stream",
     "text": [
      "With\n",
      "three\n",
      "words\n"
     ]
    }
   ],
   "source": [
    "for w in stuff:\n",
    "    print(w)"
   ]
  },
  {
   "cell_type": "markdown",
   "metadata": {},
   "source": [
    "Cuando tu no especificas un **delimitador**, los espacios en blancos son usados como delimitadores. \n",
    "\n",
    "Se puede especificar que caracter delimitador usar en el **spliting**"
   ]
  },
  {
   "cell_type": "code",
   "execution_count": 5,
   "metadata": {},
   "outputs": [
    {
     "name": "stdout",
     "output_type": "stream",
     "text": [
      "['first;second;third']\n"
     ]
    }
   ],
   "source": [
    "line = 'first;second;third'\n",
    "thing = line.split()\n",
    "print(thing)"
   ]
  },
  {
   "cell_type": "code",
   "execution_count": 6,
   "metadata": {},
   "outputs": [
    {
     "name": "stdout",
     "output_type": "stream",
     "text": [
      "['first', 'second', 'third']\n"
     ]
    }
   ],
   "source": [
    "thing = line.split(';')\n",
    "print(thing)"
   ]
  },
  {
   "cell_type": "markdown",
   "metadata": {},
   "source": [
    "### The double split patter\n",
    "A veces cortamos una linea de una forma, y entonces agarramos una de las piezas de la lista de palabras generada, y cortamos esa pieza otra vez."
   ]
  },
  {
   "cell_type": "code",
   "execution_count": 10,
   "metadata": {},
   "outputs": [
    {
     "name": "stdout",
     "output_type": "stream",
     "text": [
      "['sebastian', 'mail.com']\n"
     ]
    }
   ],
   "source": [
    "word = 'from sebastian@mail.com sat jun 5 09:14:16 2020'\n",
    "\n",
    "words = word.split()\n",
    "email = words[1]\n",
    "pieces = email.split('@')\n",
    "print(pieces)"
   ]
  },
  {
   "cell_type": "markdown",
   "metadata": {},
   "source": [
    "### Exercise 8.1"
   ]
  },
  {
   "cell_type": "code",
   "execution_count": null,
   "metadata": {},
   "outputs": [],
   "source": [
    "l = list()\n",
    "for i in range(1,10):\n",
    "    l.append(i)\n",
    "print(l)"
   ]
  },
  {
   "cell_type": "code",
   "execution_count": null,
   "metadata": {},
   "outputs": [],
   "source": [
    "han = open('mbox-short..txt')\n",
    "\n",
    "for line in han:\n",
    "    line = line.strip()\n",
    "    wds = line.split()\n",
    "    \n",
    "    if len(wds)>0:\n",
    "        if wds[0] != 'From':\n",
    "            continue \n",
    "        else: \n",
    "            print(wds[2])"
   ]
  },
  {
   "cell_type": "code",
   "execution_count": null,
   "metadata": {},
   "outputs": [],
   "source": [
    "#Otra forma de hacer lo anterior\n",
    "han = open('mbox-short..txt')\n",
    "\n",
    "for line in han:\n",
    "    line = line.strip()\n",
    "    wds = line.split()\n",
    "    if len(wds)<3 or wds[0] != 'From':\n",
    "    #Ponemos qu el largo sea menor a 3 porque lo que buscamos es la posicion 2 de wds\n",
    "            continue \n",
    "    print(wds[2])"
   ]
  },
  {
   "cell_type": "markdown",
   "metadata": {},
   "source": [
    "<h2 style = \"color:teal\"> Python Dictionaries </h2>"
   ]
  },
  {
   "cell_type": "markdown",
   "metadata": {},
   "source": [
    "### A Story of two collections\n",
    "**List** \n",
    "Una coleccion lineal de valores que estan en orden\n",
    "\n",
    "**Dictionary**\n",
    "Una mochila de valores, donde cada uno esta con su propia etiqueta "
   ]
  },
  {
   "cell_type": "markdown",
   "metadata": {},
   "source": [
    "### Dictionaries\n",
    "\n",
    "Los diccionarios de Python son la mas poderosa coleccion de datos\n",
    "\n",
    "Los diccionarios nos permiten hacer rapidas operaciones de base de datos en Python\n",
    "\n",
    "Los diccionarios tienen diferentes nombres en diferentes lenguajes\n",
    "- Associative Arrays - Perl / PHP\n",
    "- Properties or Map or HashMap - Java\n",
    "- Property Bag - C# / .Net\n"
   ]
  },
  {
   "cell_type": "markdown",
   "metadata": {},
   "source": [
    "Los indices de las `listas` se basan en la posicion. En los `diccionarios` son como mochila - no ordenada.\n",
    "\n",
    "Indexamos las cosas que ponemos en el diccionario con un `lookup tag` "
   ]
  },
  {
   "cell_type": "code",
   "execution_count": 11,
   "metadata": {},
   "outputs": [
    {
     "name": "stdout",
     "output_type": "stream",
     "text": [
      "{'money': 12, 'candy': 3}\n"
     ]
    }
   ],
   "source": [
    "purse = dict()\n",
    "purse['money'] = 12\n",
    "purse['candy'] = 3\n",
    "print(purse)"
   ]
  },
  {
   "cell_type": "code",
   "execution_count": 12,
   "metadata": {},
   "outputs": [
    {
     "name": "stdout",
     "output_type": "stream",
     "text": [
      "{'money': 12, 'candy': 5}\n"
     ]
    }
   ],
   "source": [
    "purse['candy'] = purse['candy'] + 2\n",
    "print(purse)"
   ]
  },
  {
   "cell_type": "markdown",
   "metadata": {},
   "source": [
    "Los `diccionarios` son como las `listas` exepcto que ellas usan llaves en vez de numeros para buscar valores"
   ]
  },
  {
   "cell_type": "markdown",
   "metadata": {},
   "source": [
    "### Dictionary Literals (Constants)\n",
    "Los diccionarios literales usan curly braces `{}` y tienen una lista de pares `key`:`value`\n",
    "\n",
    "Puedes hacer un diccionario vacio usando un curly brace vacio"
   ]
  },
  {
   "cell_type": "code",
   "execution_count": 13,
   "metadata": {},
   "outputs": [
    {
     "name": "stdout",
     "output_type": "stream",
     "text": [
      "{'chuck': 1, 'marcia': 2, 'seba': 3}\n"
     ]
    }
   ],
   "source": [
    "jjj = {'chuck':1, 'marcia':2, 'seba':3}\n",
    "print(jjj)"
   ]
  },
  {
   "cell_type": "code",
   "execution_count": 14,
   "metadata": {},
   "outputs": [
    {
     "name": "stdout",
     "output_type": "stream",
     "text": [
      "{}\n"
     ]
    }
   ],
   "source": [
    "ooo = {}\n",
    "print(ooo)"
   ]
  },
  {
   "cell_type": "markdown",
   "metadata": {},
   "source": [
    "### Many Counters with a Dictionary \n",
    "Los diccionarios se usan comunmente para generar histogramas, es decir contar la frecuencia de ocurrencia de un determinado valor (ue tan amenudo vemos algo) \n",
    "\n",
    "Si tuvieramos una lista de palabras \n",
    "1. marquard\n",
    "2. zhen\n",
    "3. csev\n",
    "4. zhen\n",
    "5. cwen\n",
    "6. zhen\n",
    "7. csev\n",
    "\n",
    "Cual seria la palabra que mas se repite?. \n",
    "\n",
    "Si lo hacemos manualmente con un diccionario la cosa resultaria de este modo"
   ]
  },
  {
   "cell_type": "code",
   "execution_count": 1,
   "metadata": {},
   "outputs": [],
   "source": [
    "ccc = dict()\n",
    "ccc['marquard'] = 1\n",
    "ccc['zhen'] = 1\n",
    "ccc['csev'] = 1\n",
    "ccc['zhen'] = ccc['zhen'] + 1"
   ]
  },
  {
   "cell_type": "code",
   "execution_count": 2,
   "metadata": {},
   "outputs": [
    {
     "data": {
      "text/plain": [
       "{'marquard': 1, 'zhen': 2, 'csev': 1}"
      ]
     },
     "execution_count": 2,
     "metadata": {},
     "output_type": "execute_result"
    }
   ],
   "source": [
    "ccc"
   ]
  },
  {
   "cell_type": "markdown",
   "metadata": {},
   "source": [
    "### Dictionary Tracebacks\n",
    "Es un error referenciar una `key` que no exista en un diccionario\n",
    "\n",
    "Podemos usar el operador `in` para ver si la `key` esta en el diccionario "
   ]
  },
  {
   "cell_type": "code",
   "execution_count": 3,
   "metadata": {},
   "outputs": [
    {
     "ename": "KeyError",
     "evalue": "'csev'",
     "output_type": "error",
     "traceback": [
      "\u001b[1;31m---------------------------------------------------------------------------\u001b[0m",
      "\u001b[1;31mKeyError\u001b[0m                                  Traceback (most recent call last)",
      "\u001b[1;32m<ipython-input-3-21f4feaeacbb>\u001b[0m in \u001b[0;36m<module>\u001b[1;34m\u001b[0m\n\u001b[0;32m      1\u001b[0m \u001b[0mccc\u001b[0m \u001b[1;33m=\u001b[0m \u001b[0mdict\u001b[0m\u001b[1;33m(\u001b[0m\u001b[1;33m)\u001b[0m\u001b[1;33m\u001b[0m\u001b[1;33m\u001b[0m\u001b[0m\n\u001b[1;32m----> 2\u001b[1;33m \u001b[0mprint\u001b[0m\u001b[1;33m(\u001b[0m\u001b[0mccc\u001b[0m\u001b[1;33m[\u001b[0m\u001b[1;34m'csev'\u001b[0m\u001b[1;33m]\u001b[0m\u001b[1;33m)\u001b[0m\u001b[1;33m\u001b[0m\u001b[1;33m\u001b[0m\u001b[0m\n\u001b[0m",
      "\u001b[1;31mKeyError\u001b[0m: 'csev'"
     ]
    }
   ],
   "source": [
    "ccc = dict()\n",
    "print(ccc['csev'])"
   ]
  },
  {
   "cell_type": "code",
   "execution_count": 4,
   "metadata": {},
   "outputs": [
    {
     "data": {
      "text/plain": [
       "False"
      ]
     },
     "execution_count": 4,
     "metadata": {},
     "output_type": "execute_result"
    }
   ],
   "source": [
    "'csev' in ccc"
   ]
  },
  {
   "cell_type": "markdown",
   "metadata": {},
   "source": [
    "### When we see a new name\n",
    "Cuando encontramos un nombre nuevo, necesitamos agregar una nueva entrada en el diccionario, y si es la segunda (o mas) vez que hemos visto el mismo nombre, simplemente agregamos un contador en el diccionario del mismo nombre. "
   ]
  },
  {
   "cell_type": "code",
   "execution_count": 13,
   "metadata": {},
   "outputs": [],
   "source": [
    "count = dict()\n",
    "names = ['csev','cweb', 'csev', 'zqian', 'cwen']"
   ]
  },
  {
   "cell_type": "code",
   "execution_count": 14,
   "metadata": {},
   "outputs": [
    {
     "name": "stdout",
     "output_type": "stream",
     "text": [
      "{'csev': 2, 'cweb': 1, 'zqian': 1, 'cwen': 1}\n"
     ]
    }
   ],
   "source": [
    "for name in names:\n",
    "    if name not in count:\n",
    "        count[name] = 1\n",
    "    else:\n",
    "        count[name] = count[name] + 1\n",
    "print(count)"
   ]
  },
  {
   "cell_type": "markdown",
   "metadata": {},
   "source": [
    "### The **get** method for dictionaries"
   ]
  },
  {
   "cell_type": "markdown",
   "metadata": {},
   "source": [
    "El patron para verificar si un `key` ya existe en un diccionario y asumir un valor por defecto si la `key` no esta ahi, es tan comun que hay un metodo `get()` que hace eso por nostros  \n",
    "\n",
    "La manera manual"
   ]
  },
  {
   "cell_type": "code",
   "execution_count": 18,
   "metadata": {},
   "outputs": [
    {
     "name": "stdout",
     "output_type": "stream",
     "text": [
      "2\n"
     ]
    }
   ],
   "source": [
    "if 'csev' in count:\n",
    "    x = count['csev']\n",
    "else:\n",
    "    x = 0\n",
    "\n",
    "print(x)"
   ]
  },
  {
   "cell_type": "markdown",
   "metadata": {},
   "source": [
    "Por me dio del metodo `get()`"
   ]
  },
  {
   "cell_type": "code",
   "execution_count": 19,
   "metadata": {},
   "outputs": [
    {
     "name": "stdout",
     "output_type": "stream",
     "text": [
      "0\n"
     ]
    }
   ],
   "source": [
    "x = count.get('zhen', 0)\n",
    "print(x)"
   ]
  },
  {
   "cell_type": "markdown",
   "metadata": {},
   "source": [
    "### Simplified counting whit get()\n",
    "\n",
    "Podemos utilizar `get()` para definir un valor cero por defecto cuando la `key` aun no esta en el diccionario"
   ]
  },
  {
   "cell_type": "code",
   "execution_count": 22,
   "metadata": {},
   "outputs": [
    {
     "name": "stdout",
     "output_type": "stream",
     "text": [
      "{'csev': 2, 'cweb': 1, 'zqian': 1, 'cwen': 1}\n"
     ]
    }
   ],
   "source": [
    "counts = dict()\n",
    "names = ['csev','cweb', 'csev', 'zqian', 'cwen']\n",
    "for name in names:\n",
    "    counts[name] = counts.get(name, 0) + 1 \n",
    "\n",
    "print(counts)"
   ]
  },
  {
   "cell_type": "markdown",
   "metadata": {},
   "source": [
    "### Definite Loops and Dictionaries\n",
    "Aunque los diccionarios no estan almacenados en orden, podemos escribir a ciclo ``for`` que vaya a traves de todas las entradas de un diccionario, realmente que vaya a traves de todas las ``key`` en el diccionario y busque los valores.  "
   ]
  },
  {
   "cell_type": "code",
   "execution_count": 24,
   "metadata": {},
   "outputs": [
    {
     "name": "stdout",
     "output_type": "stream",
     "text": [
      "chuck 1\n",
      "fred 42\n",
      "jan 100\n"
     ]
    }
   ],
   "source": [
    "counts = {'chuck': 1 , 'fred': 42, 'jan': 100}\n",
    "for key in counts:\n",
    "    print(key, counts[key])"
   ]
  },
  {
   "cell_type": "markdown",
   "metadata": {},
   "source": [
    "### Retrieving lists of Keys and Values\n",
    "Puedes obtener una lista de ``keys``, ``values`` o ``items`` de un diccionario. "
   ]
  },
  {
   "cell_type": "code",
   "execution_count": 25,
   "metadata": {},
   "outputs": [
    {
     "name": "stdout",
     "output_type": "stream",
     "text": [
      "['chuck', 'fred', 'jan']\n"
     ]
    }
   ],
   "source": [
    "jjj = {'chuck': 1 , 'fred': 42, 'jan': 100}\n",
    "print(list(jjj))"
   ]
  },
  {
   "cell_type": "code",
   "execution_count": 27,
   "metadata": {},
   "outputs": [
    {
     "name": "stdout",
     "output_type": "stream",
     "text": [
      "dict_keys(['chuck', 'fred', 'jan'])\n"
     ]
    }
   ],
   "source": [
    "print(jjj.keys())"
   ]
  },
  {
   "cell_type": "code",
   "execution_count": 28,
   "metadata": {},
   "outputs": [
    {
     "name": "stdout",
     "output_type": "stream",
     "text": [
      "dict_values([1, 42, 100])\n"
     ]
    }
   ],
   "source": [
    "print(jjj.values())"
   ]
  },
  {
   "cell_type": "code",
   "execution_count": 34,
   "metadata": {},
   "outputs": [
    {
     "name": "stdout",
     "output_type": "stream",
     "text": [
      "dict_items([('chuck', 1), ('fred', 42), ('jan', 100)])\n"
     ]
    }
   ],
   "source": [
    "print(jjj.items())"
   ]
  },
  {
   "cell_type": "markdown",
   "metadata": {},
   "source": [
    "el metodo .items() nos devuelve una lista de tuplas. "
   ]
  },
  {
   "cell_type": "markdown",
   "metadata": {},
   "source": [
    "### Bonus: Two Iteration Variables!\n",
    "Iteramos a traves de un par ``key``-``values`` en un diccionario usando **dos** variables de iteracion.\n",
    "\n",
    "Cada iteracion, la primera variable es la ``key`` y la segunda variable es el correspondiente ``value`` de la llave"
   ]
  },
  {
   "cell_type": "code",
   "execution_count": 33,
   "metadata": {},
   "outputs": [
    {
     "name": "stdout",
     "output_type": "stream",
     "text": [
      "chuck 1\n",
      "fred 42\n",
      "jan 100\n"
     ]
    }
   ],
   "source": [
    "for aaa, bbb in jjj.items():\n",
    "    print(aaa,bbb)"
   ]
  },
  {
   "cell_type": "markdown",
   "metadata": {},
   "source": [
    "### Exercise 9.1 (From book)"
   ]
  },
  {
   "cell_type": "code",
   "execution_count": null,
   "metadata": {},
   "outputs": [],
   "source": [
    "di = {\"Mon\": 1, \"Tue\":1}\n",
    "print(di)\n",
    "\n",
    "d = dict()\n",
    "print(d)\n",
    "d[\"Fri\"] = 1\n",
    "print(d)\n",
    "d[\"Fri\"] = d.get(\"Fri\",0) + 1\n",
    "print(d)"
   ]
  },
  {
   "cell_type": "code",
   "execution_count": null,
   "metadata": {},
   "outputs": [],
   "source": [
    "txt = open('mbox-short..txt')\n",
    "d = dict()\n",
    "\n",
    "for lin in txt:\n",
    "    line = lin.strip()\n",
    "    sline = line.split()\n",
    "    #print(sline)\n",
    "    if len(sline)<3 or sline[0]!='From':\n",
    "        continue\n",
    "    d[sline[2]] = d.get(sline[2],0) + 1\n",
    "print(d)"
   ]
  },
  {
   "cell_type": "markdown",
   "metadata": {},
   "source": [
    "### Exercise 9.1"
   ]
  },
  {
   "cell_type": "code",
   "execution_count": null,
   "metadata": {},
   "outputs": [],
   "source": [
    "fname = input(\"Enter File: \")\n",
    "if len(fname)<1: fname = \"clown.txt\"\n",
    "hand = open(fname)\n",
    "\n",
    "di = dict()\n",
    "for lin in hand:\n",
    "    lin = lin.rstrip()\n",
    "    wds = lin.split()\n",
    "    #print(wds)\n",
    "    for w in wds:\n",
    "        if w in di:\n",
    "            di[w] = di[w] + 1\n",
    "        else:\n",
    "            di[w] = 1\n",
    "            print(\"##New##\")\n",
    "        print(w,di[w])\n",
    "print(di)"
   ]
  },
  {
   "cell_type": "markdown",
   "metadata": {},
   "source": [
    "Nos podemos dar cuenta que la forma de integrar un nuevo valor a una 'key'  existente es bastante tediosa con el metodo de if-else, por este motivo existe una forma mas eficiente de hacer este trabajo utilizando el **metodo get()**"
   ]
  },
  {
   "cell_type": "code",
   "execution_count": null,
   "metadata": {},
   "outputs": [],
   "source": [
    "fname = input(\"Enter File: \")\n",
    "if len(fname)<1: fname = \"clown.txt\"\n",
    "hand = open(fname)\n",
    "\n",
    "di = dict()\n",
    "for lin in hand:\n",
    "    lin = lin.rstrip()\n",
    "    wds = lin.split()\n",
    "    #print(wds)\n",
    "    for w in wds:\n",
    "        di[w] = di.get(w,0) + 1    \n",
    "print(di)\n",
    "\n",
    "#Ahora buscaremos la forma de encontrar el valor mas comun  \n",
    "#dentro del diccionario\n",
    "k = -1\n",
    "for w in di:\n",
    "    if di[w] > k:\n",
    "        k = di[w]\n",
    "    else:\n",
    "        continue\n",
    "print(k)\n",
    "\n",
    "#otra forma de encontrar el valor mas comun dentro del diccionario\n",
    "largest = -1\n",
    "theword = None\n",
    "for k,v in di.items():\n",
    "    print(k,v)\n",
    "    #Notemos que podemos hacer un ciclo for por el par key,value; para \n",
    "    #un tipo de estructura diccionario \n",
    "    if v > largest:\n",
    "        larges"
   ]
  },
  {
   "cell_type": "markdown",
   "metadata": {},
   "source": [
    "<h2 style = 'color:teal'> Tuples </h2>\n"
   ]
  },
  {
   "cell_type": "markdown",
   "metadata": {},
   "source": [
    "### Tuples are like list \n",
    "Las tuplas son otro tipo de secuencias que funcionan muy parecido a las listas. Tienen elementos los cuales son indexados partiendo del 0"
   ]
  },
  {
   "cell_type": "code",
   "execution_count": 35,
   "metadata": {},
   "outputs": [
    {
     "name": "stdout",
     "output_type": "stream",
     "text": [
      "Joseph\n"
     ]
    }
   ],
   "source": [
    "x = ('Glen', 'Sally', 'Joseph')\n",
    "print(x[2])"
   ]
  },
  {
   "cell_type": "code",
   "execution_count": 37,
   "metadata": {},
   "outputs": [
    {
     "name": "stdout",
     "output_type": "stream",
     "text": [
      "(1, 9, 2)\n",
      "9\n"
     ]
    }
   ],
   "source": [
    "y = (1,9,2)\n",
    "print(y)\n",
    "print(max(y))"
   ]
  },
  {
   "cell_type": "markdown",
   "metadata": {},
   "source": [
    "Podemos definir una tupla de un solo elemento dejando una coma seguido de un espacio vacio. "
   ]
  },
  {
   "cell_type": "code",
   "execution_count": 68,
   "metadata": {},
   "outputs": [
    {
     "name": "stdout",
     "output_type": "stream",
     "text": [
      "(1,)\n",
      "<class 'tuple'>\n",
      "('seba',)\n",
      "<class 'tuple'>\n"
     ]
    }
   ],
   "source": [
    "z = (1,)\n",
    "print(z)\n",
    "print(type(z))\n",
    "\n",
    "zz = ('seba',)\n",
    "print(zz)\n",
    "print(type(z))"
   ]
  },
  {
   "cell_type": "markdown",
   "metadata": {},
   "source": [
    "### But ... Tuples are 'immutable'\n",
    "A diferencia de las listas, una vez que creas una `tuple` tu no puedes alterar su contenido. Similar a los string. "
   ]
  },
  {
   "cell_type": "code",
   "execution_count": 41,
   "metadata": {},
   "outputs": [
    {
     "ename": "TypeError",
     "evalue": "'str' object does not support item assignment",
     "output_type": "error",
     "traceback": [
      "\u001b[1;31m---------------------------------------------------------------------------\u001b[0m",
      "\u001b[1;31mTypeError\u001b[0m                                 Traceback (most recent call last)",
      "\u001b[1;32m<ipython-input-41-3f1bdaf291d4>\u001b[0m in \u001b[0;36m<module>\u001b[1;34m\u001b[0m\n\u001b[0;32m      1\u001b[0m \u001b[0my\u001b[0m \u001b[1;33m=\u001b[0m \u001b[1;34m'ABC'\u001b[0m\u001b[1;33m\u001b[0m\u001b[1;33m\u001b[0m\u001b[0m\n\u001b[1;32m----> 2\u001b[1;33m \u001b[0my\u001b[0m\u001b[1;33m[\u001b[0m\u001b[1;36m2\u001b[0m\u001b[1;33m]\u001b[0m \u001b[1;33m=\u001b[0m \u001b[1;34m'D'\u001b[0m\u001b[1;33m\u001b[0m\u001b[1;33m\u001b[0m\u001b[0m\n\u001b[0m",
      "\u001b[1;31mTypeError\u001b[0m: 'str' object does not support item assignment"
     ]
    }
   ],
   "source": [
    "y = 'ABC'\n",
    "y[2] = 'D'"
   ]
  },
  {
   "cell_type": "code",
   "execution_count": 42,
   "metadata": {},
   "outputs": [
    {
     "ename": "TypeError",
     "evalue": "'tuple' object does not support item assignment",
     "output_type": "error",
     "traceback": [
      "\u001b[1;31m---------------------------------------------------------------------------\u001b[0m",
      "\u001b[1;31mTypeError\u001b[0m                                 Traceback (most recent call last)",
      "\u001b[1;32m<ipython-input-42-c0e8cda2ed4a>\u001b[0m in \u001b[0;36m<module>\u001b[1;34m\u001b[0m\n\u001b[0;32m      1\u001b[0m \u001b[0mx\u001b[0m \u001b[1;33m=\u001b[0m \u001b[1;33m(\u001b[0m\u001b[1;36m5\u001b[0m\u001b[1;33m,\u001b[0m\u001b[1;36m4\u001b[0m\u001b[1;33m,\u001b[0m\u001b[1;36m3\u001b[0m\u001b[1;33m)\u001b[0m\u001b[1;33m\u001b[0m\u001b[1;33m\u001b[0m\u001b[0m\n\u001b[1;32m----> 2\u001b[1;33m \u001b[0mx\u001b[0m\u001b[1;33m[\u001b[0m\u001b[1;36m2\u001b[0m\u001b[1;33m]\u001b[0m \u001b[1;33m=\u001b[0m \u001b[1;36m0\u001b[0m\u001b[1;33m\u001b[0m\u001b[1;33m\u001b[0m\u001b[0m\n\u001b[0m",
      "\u001b[1;31mTypeError\u001b[0m: 'tuple' object does not support item assignment"
     ]
    }
   ],
   "source": [
    "x = (5,4,3)\n",
    "x[2] = 0"
   ]
  },
  {
   "cell_type": "code",
   "execution_count": 88,
   "metadata": {},
   "outputs": [
    {
     "name": "stdout",
     "output_type": "stream",
     "text": [
      "('A', 'b', 'c', 'd')\n"
     ]
    }
   ],
   "source": [
    "#You can't modify the elments of a tuple, but you can replace one tuple with\n",
    "#another. \n",
    "#ej:\n",
    "t=('a','b','c','d') \n",
    "t=('A',) + t[1:]\n",
    "print(t)"
   ]
  },
  {
   "cell_type": "markdown",
   "metadata": {},
   "source": [
    "### A Tale of Two Sequence \n",
    "Las lista poseen solamente 2 metodos: count() y index(). "
   ]
  },
  {
   "cell_type": "code",
   "execution_count": 43,
   "metadata": {},
   "outputs": [
    {
     "data": {
      "text/plain": [
       "['__add__',\n",
       " '__class__',\n",
       " '__contains__',\n",
       " '__delattr__',\n",
       " '__delitem__',\n",
       " '__dir__',\n",
       " '__doc__',\n",
       " '__eq__',\n",
       " '__format__',\n",
       " '__ge__',\n",
       " '__getattribute__',\n",
       " '__getitem__',\n",
       " '__gt__',\n",
       " '__hash__',\n",
       " '__iadd__',\n",
       " '__imul__',\n",
       " '__init__',\n",
       " '__init_subclass__',\n",
       " '__iter__',\n",
       " '__le__',\n",
       " '__len__',\n",
       " '__lt__',\n",
       " '__mul__',\n",
       " '__ne__',\n",
       " '__new__',\n",
       " '__reduce__',\n",
       " '__reduce_ex__',\n",
       " '__repr__',\n",
       " '__reversed__',\n",
       " '__rmul__',\n",
       " '__setattr__',\n",
       " '__setitem__',\n",
       " '__sizeof__',\n",
       " '__str__',\n",
       " '__subclasshook__',\n",
       " 'append',\n",
       " 'clear',\n",
       " 'copy',\n",
       " 'count',\n",
       " 'extend',\n",
       " 'index',\n",
       " 'insert',\n",
       " 'pop',\n",
       " 'remove',\n",
       " 'reverse',\n",
       " 'sort']"
      ]
     },
     "execution_count": 43,
     "metadata": {},
     "output_type": "execute_result"
    }
   ],
   "source": [
    "l = list()\n",
    "dir(l)"
   ]
  },
  {
   "cell_type": "code",
   "execution_count": 44,
   "metadata": {},
   "outputs": [
    {
     "data": {
      "text/plain": [
       "['__add__',\n",
       " '__class__',\n",
       " '__contains__',\n",
       " '__delattr__',\n",
       " '__dir__',\n",
       " '__doc__',\n",
       " '__eq__',\n",
       " '__format__',\n",
       " '__ge__',\n",
       " '__getattribute__',\n",
       " '__getitem__',\n",
       " '__getnewargs__',\n",
       " '__gt__',\n",
       " '__hash__',\n",
       " '__init__',\n",
       " '__init_subclass__',\n",
       " '__iter__',\n",
       " '__le__',\n",
       " '__len__',\n",
       " '__lt__',\n",
       " '__mul__',\n",
       " '__ne__',\n",
       " '__new__',\n",
       " '__reduce__',\n",
       " '__reduce_ex__',\n",
       " '__repr__',\n",
       " '__rmul__',\n",
       " '__setattr__',\n",
       " '__sizeof__',\n",
       " '__str__',\n",
       " '__subclasshook__',\n",
       " 'count',\n",
       " 'index']"
      ]
     },
     "execution_count": 44,
     "metadata": {},
     "output_type": "execute_result"
    }
   ],
   "source": [
    "t = tuple()\n",
    "dir(t)"
   ]
  },
  {
   "cell_type": "markdown",
   "metadata": {},
   "source": [
    "### Tuples are more efficient"
   ]
  },
  {
   "cell_type": "markdown",
   "metadata": {},
   "source": [
    "Una de las razones de porque no son modificables, es por eficiencia. Las tuplas toman menos almacenamientos, son mas rapidas de acceder. En general son mucho mas eficientes que las listas.\n",
    "\n",
    "En nuestro programa cuando estamos haciendo \"variables temporales\" preferimos las tuplas sobre las listas."
   ]
  },
  {
   "cell_type": "markdown",
   "metadata": {},
   "source": [
    "### Tuples and Assignment\n",
    "Podemos tambien opner una `tuple` en el `left-hand side` de una sentencia de asignacion. \n",
    "\n",
    "Podemos incluso omitir el parentesis"
   ]
  },
  {
   "cell_type": "code",
   "execution_count": 50,
   "metadata": {},
   "outputs": [
    {
     "name": "stdout",
     "output_type": "stream",
     "text": [
      "4\n",
      "fred\n"
     ]
    }
   ],
   "source": [
    "(x,y) = (4, 'fred')\n",
    "print(x)\n",
    "print(y)"
   ]
  },
  {
   "cell_type": "markdown",
   "metadata": {},
   "source": [
    "### Tuples and Dictionaries\n",
    "El metodo `items()` en los diccionarios retorna una lista de (key, value) `tuples`"
   ]
  },
  {
   "cell_type": "code",
   "execution_count": 51,
   "metadata": {},
   "outputs": [],
   "source": [
    "d = dict()\n",
    "d['csev'] = 2\n",
    "d['cwev'] = 4"
   ]
  },
  {
   "cell_type": "code",
   "execution_count": 52,
   "metadata": {},
   "outputs": [
    {
     "name": "stdout",
     "output_type": "stream",
     "text": [
      "csev 2\n",
      "cwev 4\n"
     ]
    }
   ],
   "source": [
    "for k,v in d.items():\n",
    "    print(k,v)"
   ]
  },
  {
   "cell_type": "markdown",
   "metadata": {},
   "source": [
    "### Tuples are Comparable\n",
    "La operador de comparacion funciona con `tuples` y otras secuencias. \n",
    "\n",
    "Si el primer elemento es igual, Python ira al siguiente elemento, y asi hasta encontrar un elemento diferente "
   ]
  },
  {
   "cell_type": "code",
   "execution_count": 53,
   "metadata": {},
   "outputs": [
    {
     "data": {
      "text/plain": [
       "False"
      ]
     },
     "execution_count": 53,
     "metadata": {},
     "output_type": "execute_result"
    }
   ],
   "source": [
    "(0,1,2) > (5,1,2)"
   ]
  },
  {
   "cell_type": "code",
   "execution_count": 56,
   "metadata": {},
   "outputs": [
    {
     "data": {
      "text/plain": [
       "True"
      ]
     },
     "execution_count": 56,
     "metadata": {},
     "output_type": "execute_result"
    }
   ],
   "source": [
    "(0,1,20) < (0,3,4)"
   ]
  },
  {
   "cell_type": "code",
   "execution_count": 57,
   "metadata": {},
   "outputs": [
    {
     "data": {
      "text/plain": [
       "True"
      ]
     },
     "execution_count": 57,
     "metadata": {},
     "output_type": "execute_result"
    }
   ],
   "source": [
    "('Jones', 'Sally') < ('Jones', 'Sam')"
   ]
  },
  {
   "cell_type": "markdown",
   "metadata": {},
   "source": [
    "### Sorting List of Tuples\n",
    "Podemos tomar ventaja de la habilidad de ordenar listas de `tuplas` para obtener versiones ordenadas de diccionarios\n",
    "\n",
    "Primero ordenamos los diccionarios por el `key` usando el metodo `items()` y la funcion `sorted()`"
   ]
  },
  {
   "cell_type": "code",
   "execution_count": 73,
   "metadata": {},
   "outputs": [
    {
     "data": {
      "text/plain": [
       "dict_items([('a', 10), ('c', 1), ('b', 22)])"
      ]
     },
     "execution_count": 73,
     "metadata": {},
     "output_type": "execute_result"
    }
   ],
   "source": [
    "d = {'a': 10, 'c': 1, 'b': 22}\n",
    "d.items()"
   ]
  },
  {
   "cell_type": "code",
   "execution_count": 74,
   "metadata": {},
   "outputs": [
    {
     "data": {
      "text/plain": [
       "[('a', 10), ('b', 22), ('c', 1)]"
      ]
     },
     "execution_count": 74,
     "metadata": {},
     "output_type": "execute_result"
    }
   ],
   "source": [
    "sorted(d.items())"
   ]
  },
  {
   "cell_type": "markdown",
   "metadata": {},
   "source": [
    "### Sort by values instead of key\n",
    "Si pudieramos construir una lista de `tuplas` de la forma (``value``, ``key``), podriamos ordenar los value.\n",
    "\n",
    "Hacemos esto con un ciclo ``for`` que crea una lista de tuplas"
   ]
  },
  {
   "cell_type": "code",
   "execution_count": 75,
   "metadata": {},
   "outputs": [
    {
     "data": {
      "text/plain": [
       "{'a': 10, 'c': 1, 'b': 22}"
      ]
     },
     "execution_count": 75,
     "metadata": {},
     "output_type": "execute_result"
    }
   ],
   "source": [
    "d = {'a': 10, 'c': 1, 'b': 22}"
   ]
  },
  {
   "cell_type": "code",
   "execution_count": 78,
   "metadata": {},
   "outputs": [],
   "source": [
    "tmp = list()\n",
    "for k,v in d.items():\n",
    "    tmp.append((v,k))"
   ]
  },
  {
   "cell_type": "code",
   "execution_count": 79,
   "metadata": {},
   "outputs": [
    {
     "name": "stdout",
     "output_type": "stream",
     "text": [
      "[(10, 'a'), (1, 'c'), (22, 'b')]\n"
     ]
    }
   ],
   "source": [
    "print(tmp)"
   ]
  },
  {
   "cell_type": "code",
   "execution_count": 81,
   "metadata": {},
   "outputs": [
    {
     "name": "stdout",
     "output_type": "stream",
     "text": [
      "[(22, 'b'), (10, 'a'), (1, 'c')]\n"
     ]
    }
   ],
   "source": [
    "tmp = sorted(tmp, reverse=True)\n",
    "print(tmp)"
   ]
  },
  {
   "cell_type": "markdown",
   "metadata": {},
   "source": [
    "### Common Words"
   ]
  },
  {
   "cell_type": "code",
   "execution_count": 83,
   "metadata": {},
   "outputs": [
    {
     "name": "stdout",
     "output_type": "stream",
     "text": [
      "Jan 352\n",
      "2008 324\n",
      "by 245\n",
      "Received: 243\n",
      "-0500 219\n",
      "from 218\n",
      "4 203\n",
      "with 194\n",
      "Fri, 183\n",
      "id 136\n"
     ]
    }
   ],
   "source": [
    "fhand = open('mbox-short.txt')\n",
    "count = dict()\n",
    "for line in fhand:\n",
    "    words = line.split()\n",
    "    for word in words:\n",
    "        counts[word] = counts.get(word, 0) + 1\n",
    "\n",
    "lst = list()\n",
    "for key, val in counts.items():\n",
    "    newtup = (val, key)\n",
    "    lst.append(newtup)\n",
    "\n",
    "lst = sorted(lst, reverse=True)\n",
    "\n",
    "for val, key in lst[:10]:\n",
    "    print(key, val)"
   ]
  },
  {
   "cell_type": "markdown",
   "metadata": {},
   "source": [
    "### Even Shorter Version"
   ]
  },
  {
   "cell_type": "code",
   "execution_count": 85,
   "metadata": {},
   "outputs": [],
   "source": [
    "d = {'a': 10, 'c': 1, 'b': 22}"
   ]
  },
  {
   "cell_type": "code",
   "execution_count": 87,
   "metadata": {},
   "outputs": [
    {
     "name": "stdout",
     "output_type": "stream",
     "text": [
      "[(22, 'b'), (10, 'a'), (1, 'c')]\n"
     ]
    }
   ],
   "source": [
    "print( sorted( [ (v,k) for k,v in d.items() ], reverse=True ) )"
   ]
  },
  {
   "cell_type": "markdown",
   "metadata": {},
   "source": [
    "#### Exercise 10"
   ]
  },
  {
   "cell_type": "code",
   "execution_count": 17,
   "metadata": {},
   "outputs": [
    {
     "name": "stdout",
     "output_type": "stream",
     "text": [
      "Enter File: \n",
      "{'the': 7, 'clown': 2, 'ran': 2, 'after': 1, 'car': 3, 'and': 3, 'into': 1, 'tent': 2, 'fell': 1, 'down': 1, 'on': 1}\n",
      "the 7\n",
      "car 3\n",
      "and 3\n",
      "tent 2\n",
      "ran 2\n",
      "clown 2\n",
      "on 1\n",
      "into 1\n",
      "fell 1\n",
      "down 1\n",
      "after 1\n"
     ]
    }
   ],
   "source": [
    "fname = input(\"Enter File: \")\n",
    "if len(fname)<1: fname = \"clown.txt\"\n",
    "hand = open(fname)\n",
    "\n",
    "di = dict()\n",
    "for lin in hand:\n",
    "    lin = lin.rstrip()\n",
    "    wds = lin.split()\n",
    "    #print(wds)\n",
    "    for w in wds:\n",
    "        di[w] = di.get(w,0) + 1    \n",
    "print(di)\n",
    "\n",
    "lt = di.items()\n",
    "l = list()\n",
    "for k,v in lt:\n",
    "    #print(k,v)\n",
    "    l.append((v,k))\n",
    "\n",
    "#Hicimos el cambio entre key y value\n",
    "#print(l)\n",
    "\n",
    "#Ordenamos la lista de tuplas de menor a mayor\n",
    "#sorted(l)\n",
    "\n",
    "#Ordenamos la lista de tuplas de mayor a menor\n",
    "sl = sorted(l, reverse=True)\n",
    "\n",
    "#Volvimos a el orden key, value con los value ordenados de mayor a menor\n",
    "for v,k in sl:\n",
    "    print(k,v)"
   ]
  }
 ],
 "metadata": {
  "kernelspec": {
   "display_name": "Python 3",
   "language": "python",
   "name": "python3"
  },
  "language_info": {
   "codemirror_mode": {
    "name": "ipython",
    "version": 3
   },
   "file_extension": ".py",
   "mimetype": "text/x-python",
   "name": "python",
   "nbconvert_exporter": "python",
   "pygments_lexer": "ipython3",
   "version": "3.8.8"
  },
  "toc": {
   "base_numbering": 1,
   "nav_menu": {},
   "number_sections": false,
   "sideBar": true,
   "skip_h1_title": true,
   "title_cell": "Table of Contents",
   "title_sidebar": "Contents",
   "toc_cell": false,
   "toc_position": {
    "height": "calc(100% - 180px)",
    "left": "10px",
    "top": "150px",
    "width": "304.469px"
   },
   "toc_section_display": true,
   "toc_window_display": true
  },
  "varInspector": {
   "cols": {
    "lenName": 16,
    "lenType": 16,
    "lenVar": 40
   },
   "kernels_config": {
    "python": {
     "delete_cmd_postfix": "",
     "delete_cmd_prefix": "del ",
     "library": "var_list.py",
     "varRefreshCmd": "print(var_dic_list())"
    },
    "r": {
     "delete_cmd_postfix": ") ",
     "delete_cmd_prefix": "rm(",
     "library": "var_list.r",
     "varRefreshCmd": "cat(var_dic_list()) "
    }
   },
   "types_to_exclude": [
    "module",
    "function",
    "builtin_function_or_method",
    "instance",
    "_Feature"
   ],
   "window_display": false
  }
 },
 "nbformat": 4,
 "nbformat_minor": 4
}
