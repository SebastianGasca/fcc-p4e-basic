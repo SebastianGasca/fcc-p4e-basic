{
 "cells": [
  {
   "cell_type": "markdown",
   "metadata": {},
   "source": [
    "# freeCodeCamp - Python for everybody Course"
   ]
  },
  {
   "cell_type": "markdown",
   "metadata": {},
   "source": [
    "### **Expresion: Intermedia Expresion**\n",
    "#### Exercise 2.2"
   ]
  },
  {
   "cell_type": "code",
   "execution_count": null,
   "metadata": {},
   "outputs": [],
   "source": [
    "name = input(\"Enter your name \")\n",
    "print('Hello ',name)"
   ]
  },
  {
   "cell_type": "markdown",
   "metadata": {},
   "source": [
    "#### Exercise 2.3"
   ]
  },
  {
   "cell_type": "code",
   "execution_count": null,
   "metadata": {},
   "outputs": [],
   "source": [
    "h = input('hours')\n",
    "r = input('rate')\n",
    "pay = float(h) * float(r)\n",
    "print(\"Pay:\",pay)"
   ]
  },
  {
   "cell_type": "markdown",
   "metadata": {},
   "source": [
    "### **Conditionals: More conditional structure**"
   ]
  },
  {
   "cell_type": "markdown",
   "metadata": {},
   "source": [
    "#### Exercise 3.1"
   ]
  },
  {
   "cell_type": "code",
   "execution_count": null,
   "metadata": {},
   "outputs": [],
   "source": [
    "sh = input(\"numero de horas: \")\n",
    "sr = input(\"valor de la hora: \")\n",
    "fh = float(sh)\n",
    "fr = float(sr)\n",
    "if fh > 40:\n",
    "    print(\"Existe horas extras\")\n",
    "    rp = fh * fr\n",
    "    otp = (fh - 40) * (fr * 0.5)\n",
    "    print(rp,otp)\n",
    "    xp = rp + otp\n",
    "    print()\n",
    "else:\n",
    "    print(\"No existen horas extras\")\n",
    "    xp = fh * fr\n",
    "print(\"pay: \", xp)"
   ]
  },
  {
   "cell_type": "markdown",
   "metadata": {},
   "source": [
    "#### Exercise 3.2"
   ]
  },
  {
   "cell_type": "code",
   "execution_count": null,
   "metadata": {},
   "outputs": [],
   "source": [
    "x=15\n",
    "if x<2:\n",
    "    print(\"Menor a 2\")\n",
    "elif x<10:\n",
    "    print(\"Menor a 10\")\n",
    "else:\n",
    "    print(\"Meyor a 10\")"
   ]
  },
  {
   "cell_type": "code",
   "execution_count": null,
   "metadata": {},
   "outputs": [],
   "source": [
    "astr = 'hello bob'\n",
    "try:\n",
    "    istr= int(astr)\n",
    "except: \n",
    "    istr=-1\n",
    "print(\"First\", istr)"
   ]
  },
  {
   "cell_type": "code",
   "execution_count": null,
   "metadata": {},
   "outputs": [],
   "source": [
    "astr = \"Bob\"\n",
    "try:\n",
    "    print(\"Hello\")\n",
    "    istr=int(astr)\n",
    "    print(\"There\")\n",
    "except:\n",
    "    istr=-1\n",
    "print(\"Done\",istr)"
   ]
  },
  {
   "cell_type": "code",
   "execution_count": null,
   "metadata": {},
   "outputs": [],
   "source": [
    "temp = '5 degree'\n",
    "cel = 0\n",
    "fahr = float(temp)\n",
    "cel = (fahr - 32.0) * 5.0/9.0\n",
    "print(cel)"
   ]
  },
  {
   "cell_type": "code",
   "execution_count": null,
   "metadata": {},
   "outputs": [],
   "source": [
    "temp = '5 degree'\n",
    "cel = 0\n",
    "try:\n",
    "    fahr = float(temp)\n",
    "    cel = (fahr - 32.0) * 5.0/9.0\n",
    "except:\n",
    "## Para sacar el valor 5 del str se tiene que hacer mas trabajo\n",
    "    fahr = 0\n",
    "    cel = (fahr - 32.0) * 5.0/9.0\n",
    "print(cel)"
   ]
  },
  {
   "cell_type": "markdown",
   "metadata": {},
   "source": [
    "### **Functions: Build you own functions**"
   ]
  },
  {
   "cell_type": "markdown",
   "metadata": {},
   "source": [
    "#### Exercise 4.1"
   ]
  },
  {
   "cell_type": "code",
   "execution_count": null,
   "metadata": {},
   "outputs": [],
   "source": [
    "def calculoIngreso(horas, precio):\n",
    "    if horas > 40:\n",
    "        print(\"Existe horas extras\")\n",
    "        rp = horas * precio\n",
    "        otp = (horas - 40) * (precio * 0.5)\n",
    "        #print(rp,otp)\n",
    "        xp = rp + otp\n",
    "        print()\n",
    "    else:\n",
    "        print(\"No existen horas extras\")\n",
    "        xp = horas * precio\n",
    "    #print(\"pay: \", xp)\n",
    "    return xp\n",
    "    \n",
    "sh = input(\"numero de horas: \")\n",
    "sr = input(\"valor de la hora: \")\n",
    "fh = float(sh)\n",
    "fr = float(sr)\n",
    "pay = calculoIngreso(fh,fr)\n",
    "print(\"El pago es: \", pay)"
   ]
  },
  {
   "cell_type": "markdown",
   "metadata": {},
   "source": [
    "### **Iterations: More patterns**"
   ]
  },
  {
   "cell_type": "markdown",
   "metadata": {},
   "source": [
    "#### Exercise 5.1\n",
    "\n",
    "Mi desarrollo"
   ]
  },
  {
   "cell_type": "code",
   "execution_count": null,
   "metadata": {},
   "outputs": [],
   "source": [
    "#Se ingres un valor que es del tipo string\n",
    "valor = input(\"ingrese valor: \")\n",
    "n = 0\n",
    "suma = 0\n",
    "#El valor de tipo str se compara con -done-. comienza el ciclo\n",
    "while valor != \"done\":\n",
    "    #Se trata lo siguiente\n",
    "    try:\n",
    "    #El valor se cambia a flotante\n",
    "        valor = float(valor)\n",
    "        \n",
    "    #Se crea una variable suma que almacenara la suma de valores\n",
    "        suma = suma + valor \n",
    "        n = n + 1\n",
    "        \n",
    "    #Se pide ingresa nuevamente otro valor\n",
    "        valor = input(\"ingrese siguiente valor: \")\n",
    "        \n",
    "    except: \n",
    "    #En caso de que el valor no pueda ser convertido a flotante saldra un error\n",
    "        print(\"Ingrese solo valores numericos. En caso de que quiera deterse ingrese done\")\n",
    "        valor = input(\"Ingrese nuevo valor: \")\n",
    "\n",
    "print(\"/n/n/n\")\n",
    "print(\"numeros ingresados: \", n)\n",
    "print(\"la suma es: \",suma)\n",
    "print(\"la media es: \", suma/n)"
   ]
  },
  {
   "cell_type": "markdown",
   "metadata": {},
   "source": [
    "Desarrollo de Dr.Chuck"
   ]
  },
  {
   "cell_type": "code",
   "execution_count": null,
   "metadata": {},
   "outputs": [],
   "source": [
    "num = 0\n",
    "tot = 0\n",
    "while True: \n",
    "    sval = input(\"Enter number: \")\n",
    "    if sval == \"done\":\n",
    "        break\n",
    "    try: \n",
    "        fval = float(sval)\n",
    "    except:\n",
    "        print(\"Invalid input\")\n",
    "        continue\n",
    "    num = num + 1\n",
    "    tot = tot + fval\n",
    "\n",
    "print(\"\\n\",tot,\" \",num,\" \",tot/num)"
   ]
  },
  {
   "cell_type": "markdown",
   "metadata": {},
   "source": [
    "### **Strings: Intermediate string**\n",
    "#### Exercise 6.1"
   ]
  },
  {
   "cell_type": "code",
   "execution_count": null,
   "metadata": {},
   "outputs": [],
   "source": [
    "str = \"X-DSPAM-Confidence: 0.8475\"\n",
    "\n",
    "ipos= str.find(\":\")\n",
    "print(ipos)\n",
    "#Los str poseen posiciones, uno puede acceder a un valor dentro de un str mediante [] y un indice numerico que indica\n",
    "#la posicion del valor. ej: i=\"casa\", i[0] -> 'c'\n",
    "#La posicion cero indica el primer valor del str\n",
    "#podemos encontrar un rango de valores en un str usando [:]. \n",
    "#ej: i=\"hoteles\", i[:2]-> 'ca'. i[4:] -> 'les'. i[:]-> 'hoteles'\n",
    "piece = str[ipos+1:]\n",
    "print(piece)\n",
    "value=float(piece)\n",
    "print(value)"
   ]
  },
  {
   "cell_type": "markdown",
   "metadata": {},
   "source": [
    "### **Files: Files as a sequence**\n",
    "#### Exercise 7.1"
   ]
  },
  {
   "cell_type": "code",
   "execution_count": null,
   "metadata": {},
   "outputs": [],
   "source": [
    "import os\n",
    "#Podemos ver en el directorio que estamos trabajando\n",
    "os.getcwd()\n",
    "#Podemos cambiar el directorio de trabajo con\n",
    "#as.chdir('')\n",
    "#hay que considerar que en jupyter notebook las direcciones de los directorios se trabajan con \"/\" o \"\\\\\"\n",
    "#ej. C:/Users/Desktop, o C://User//Desktop\n",
    "os.chdir('C:/Users')\n",
    "os.chdir('C:\\\\Users\\\\yo\\\\Geocomputing with Python - freeCodeCamp')"
   ]
  },
  {
   "cell_type": "code",
   "execution_count": null,
   "metadata": {},
   "outputs": [],
   "source": [
    "os.getcwd()\n",
    "#La funcion open nos da la posibilidad de 'ver' el archivo, pero aún no abrirlo\n",
    "fh = open(\"mbox-short..txt\")\n",
    "print(fh)\n",
    "#Para abrir el archivo vamos a recorrerlo por cada fila de texto\n",
    "#for lx in fh:\n",
    "#    print(lx)\n",
    "    \n",
    "#Observar que al leer el archivo se coloca un espaciado entre lineas que esta de mas\n",
    "#Para este problema hay que usar rstrip()\n",
    "for lx in fh:\n",
    "    lx = lx.rstrip()\n",
    "    #Ahora queremos retornar las sentencias en mayusculas\n",
    "    print(lx.upper())"
   ]
  },
  {
   "cell_type": "markdown",
   "metadata": {},
   "source": [
    "### **List: Strings and Lists**\n",
    "#### Exercise 8.1"
   ]
  },
  {
   "cell_type": "code",
   "execution_count": null,
   "metadata": {},
   "outputs": [],
   "source": [
    "l = list()\n",
    "for i in range(1,10):\n",
    "    l.append(i)\n",
    "print(l)"
   ]
  },
  {
   "cell_type": "code",
   "execution_count": null,
   "metadata": {},
   "outputs": [],
   "source": [
    "han = open('mbox-short..txt')\n",
    "\n",
    "for line in han:\n",
    "    line = line.strip()\n",
    "    wds = line.split()\n",
    "    \n",
    "    if len(wds)>0:\n",
    "        if wds[0] != 'From':\n",
    "            continue \n",
    "        else: \n",
    "            print(wds[2])"
   ]
  },
  {
   "cell_type": "code",
   "execution_count": null,
   "metadata": {},
   "outputs": [],
   "source": [
    "#Otra forma de hacer lo anterior\n",
    "han = open('mbox-short..txt')\n",
    "\n",
    "for line in han:\n",
    "    line = line.strip()\n",
    "    wds = line.split()\n",
    "    if len(wds)<3 or wds[0] != 'From':\n",
    "    #Ponemos qu el largo sea menor a 3 porque lo que buscamos es la posicion 2 de wds\n",
    "            continue \n",
    "    print(wds[2])"
   ]
  },
  {
   "cell_type": "markdown",
   "metadata": {},
   "source": [
    "### **Dictonaries:Dictionaries and loops**\n",
    "#### Exercise 9.1 (From book)"
   ]
  },
  {
   "cell_type": "code",
   "execution_count": null,
   "metadata": {},
   "outputs": [],
   "source": [
    "di = {\"Mon\": 1, \"Tue\":1}\n",
    "print(di)\n",
    "\n",
    "d = dict()\n",
    "print(d)\n",
    "d[\"Fri\"] = 1\n",
    "print(d)\n",
    "d[\"Fri\"] = d.get(\"Fri\",0) + 1\n",
    "print(d)"
   ]
  },
  {
   "cell_type": "code",
   "execution_count": null,
   "metadata": {},
   "outputs": [],
   "source": [
    "txt = open('mbox-short..txt')\n",
    "d = dict()\n",
    "\n",
    "for lin in txt:\n",
    "    line = lin.strip()\n",
    "    sline = line.split()\n",
    "    #print(sline)\n",
    "    if len(sline)<3 or sline[0]!='From':\n",
    "        continue\n",
    "    d[sline[2]] = d.get(sline[2],0) + 1\n",
    "print(d)"
   ]
  },
  {
   "cell_type": "markdown",
   "metadata": {},
   "source": [
    "#### Exercise 9 (Video)"
   ]
  },
  {
   "cell_type": "code",
   "execution_count": null,
   "metadata": {},
   "outputs": [],
   "source": [
    "fname = input(\"Enter File: \")\n",
    "if len(fname)<1: fname = \"clown.txt\"\n",
    "hand = open(fname)\n",
    "\n",
    "di = dict()\n",
    "for lin in hand:\n",
    "    lin = lin.rstrip()\n",
    "    wds = lin.split()\n",
    "    #print(wds)\n",
    "    for w in wds:\n",
    "        if w in di:\n",
    "            di[w] = di[w] + 1\n",
    "        else:\n",
    "            di[w] = 1\n",
    "            print(\"##New##\")\n",
    "        print(w,di[w])\n",
    "print(di)"
   ]
  },
  {
   "cell_type": "markdown",
   "metadata": {},
   "source": [
    "**Nos podemos dar cuenta que la forma de integrar un nuevo valor a una 'key'  existente es bastante tediosa con el metodo de if-else, por este motivo existe una forma mas eficiente de hacer este trabajo utilizando el metodo get()**"
   ]
  },
  {
   "cell_type": "code",
   "execution_count": null,
   "metadata": {},
   "outputs": [],
   "source": [
    "fname = input(\"Enter File: \")\n",
    "if len(fname)<1: fname = \"clown.txt\"\n",
    "hand = open(fname)\n",
    "\n",
    "di = dict()\n",
    "for lin in hand:\n",
    "    lin = lin.rstrip()\n",
    "    wds = lin.split()\n",
    "    #print(wds)\n",
    "    for w in wds:\n",
    "        di[w] = di.get(w,0) + 1    \n",
    "print(di)\n",
    "\n",
    "#Ahora buscaremos la forma de encontrar el valor mas comun  \n",
    "#dentro del diccionario\n",
    "k = -1\n",
    "for w in di:\n",
    "    if di[w] > k:\n",
    "        k = di[w]\n",
    "    else:\n",
    "        continue\n",
    "print(k)\n",
    "\n",
    "#otra forma de encontrar el valor mas comun dentro del diccionario\n",
    "largest = -1\n",
    "theword = None\n",
    "for k,v in di.items():\n",
    "    print(k,v)\n",
    "    #Notemos que podemos hacer un ciclo for por el par key,value; para \n",
    "    #un tipo de estructura diccionario \n",
    "    if v > largest:\n",
    "        larges"
   ]
  },
  {
   "cell_type": "markdown",
   "metadata": {},
   "source": [
    "### **Tuples: Comparing and Sorting Tuples**\n",
    "#### Reviewing tuples"
   ]
  },
  {
   "cell_type": "code",
   "execution_count": 7,
   "metadata": {},
   "outputs": [
    {
     "name": "stdout",
     "output_type": "stream",
     "text": [
      "('a',)\n",
      "('A', 'b', 'c', 'd')\n"
     ]
    }
   ],
   "source": [
    "#A tuples is a sequense of values much like a list\n",
    "#Tuples are immutables\n",
    "\n",
    "#To create a tuple with single element, you have to include the final comma:\n",
    "#ej: \n",
    "tup = ('a',)\n",
    "print(tup)\n",
    "#Without the comma Python treats ('a') as an string\n",
    "\n",
    "#You can't modify the elments of a tuple, but you can replace one tuple with\n",
    "#another. \n",
    "#ej:\n",
    "t=('a','b','c','d') \n",
    "t=('A',) + t[1:]\n",
    "print(t)\n"
   ]
  },
  {
   "cell_type": "code",
   "execution_count": 16,
   "metadata": {},
   "outputs": [
    {
     "name": "stdout",
     "output_type": "stream",
     "text": [
      "have\n",
      "fun\n",
      "monty\n",
      "python.org\n"
     ]
    }
   ],
   "source": [
    "#tuple assigment\n",
    "#One of the unique syntactic features of the Python language is the ability \n",
    "#to havea tuple on the left side of an assignment statement. \n",
    "#This allows you to assign morethan one variable at a time when the left side \n",
    "#is a sequence.\n",
    "\n",
    "m = ['have','fun']\n",
    "x, y = m\n",
    "print(x)\n",
    "print(y)\n",
    "\n",
    "#The number of variables on the left and the number of values on the \n",
    "#right must bethe same\n",
    "\n",
    "\n",
    "#a,b = [1,2,3]\n",
    "\n",
    "#More generally, the right side can be any kind of sequence (string, list, \n",
    "#or tuple).For example, to split an email address into a user name and a \n",
    "#domain, you couldwrite\n",
    "addr = 'monty@python.org'\n",
    "uname, domain = addr.split('@')\n",
    "print(uname)\n",
    "print(domain)"
   ]
  },
  {
   "cell_type": "code",
   "execution_count": 8,
   "metadata": {},
   "outputs": [
    {
     "name": "stdout",
     "output_type": "stream",
     "text": [
      "[('a', 10), ('d', 1), ('b', 22), ('c', 22)]\n",
      "[('a', 10), ('b', 22), ('c', 22), ('d', 1)]\n"
     ]
    }
   ],
   "source": [
    "#Dictionaries and tuples\n",
    "#Dictionaries have a method calleditemsthat returns a list of tuples, \n",
    "#where eachtuple is a key-value pair:\n",
    "d = {'a':10, 'd':1, 'b': 22, 'c':22}\n",
    "t = list(d.items())\n",
    "type(t)\n",
    "print(t)\n",
    "\n",
    "#As you should expect from a dictionary, the items are in no particular order\n",
    "\n",
    "#However, since the list of tuples is a list, and tuples are comparable, \n",
    "#we can nowsort the list of tuples\n",
    "t.sort()\n",
    "print(t)"
   ]
  },
  {
   "cell_type": "code",
   "execution_count": 18,
   "metadata": {},
   "outputs": [
    {
     "name": "stdout",
     "output_type": "stream",
     "text": [
      "10 a\n",
      "1 d\n",
      "22 b\n",
      "22 c\n",
      "[(22, 'c'), (22, 'b'), (10, 'a'), (1, 'd')]\n"
     ]
    }
   ],
   "source": [
    "#Multiple assignment with dictionaries\n",
    "#Combiningitems, tuple assignment, andfor, you can see a nice code pattern \n",
    "#fortraversing the keys and values of a dictionary in a single loop\n",
    "\n",
    "#This loop has twoiteration variablesbecauseitemsreturns a list of tuples and \n",
    "#key,val is a tuple assignment that successively iterates through each of\n",
    "#the key-valuepairs in the dictionary.\n",
    "\n",
    "d = {'a':10, 'd':1, 'b': 22, 'c':22}\n",
    "for key,value in list(d.items()):\n",
    "    print(value,key)\n",
    "\n",
    "\n",
    "#If we combine these two techniques, we can print out the contents of a \n",
    "#dictionary sorted by the value stored in each key-value pair.\n",
    "\n",
    "l=list()\n",
    "for key,value in list(d.items()):\n",
    "    l.append((value,key))\n",
    "l.sort(reverse = True)\n",
    "print(l)"
   ]
  },
  {
   "cell_type": "markdown",
   "metadata": {},
   "source": [
    "#### Exercise 10"
   ]
  },
  {
   "cell_type": "code",
   "execution_count": 17,
   "metadata": {},
   "outputs": [
    {
     "name": "stdout",
     "output_type": "stream",
     "text": [
      "Enter File: \n",
      "{'the': 7, 'clown': 2, 'ran': 2, 'after': 1, 'car': 3, 'and': 3, 'into': 1, 'tent': 2, 'fell': 1, 'down': 1, 'on': 1}\n",
      "the 7\n",
      "car 3\n",
      "and 3\n",
      "tent 2\n",
      "ran 2\n",
      "clown 2\n",
      "on 1\n",
      "into 1\n",
      "fell 1\n",
      "down 1\n",
      "after 1\n"
     ]
    }
   ],
   "source": [
    "fname = input(\"Enter File: \")\n",
    "if len(fname)<1: fname = \"clown.txt\"\n",
    "hand = open(fname)\n",
    "\n",
    "di = dict()\n",
    "for lin in hand:\n",
    "    lin = lin.rstrip()\n",
    "    wds = lin.split()\n",
    "    #print(wds)\n",
    "    for w in wds:\n",
    "        di[w] = di.get(w,0) + 1    \n",
    "print(di)\n",
    "\n",
    "lt = di.items()\n",
    "l = list()\n",
    "for k,v in lt:\n",
    "    #print(k,v)\n",
    "    l.append((v,k))\n",
    "\n",
    "#Hicimos el cambio entre key y value\n",
    "#print(l)\n",
    "\n",
    "#Ordenamos la lista de tuplas de menor a mayor\n",
    "#sorted(l)\n",
    "\n",
    "#Ordenamos la lista de tuplas de mayor a menor\n",
    "sl = sorted(l, reverse=True)\n",
    "\n",
    "#Volvimos a el orden key, value con los value ordenados de mayor a menor\n",
    "for v,k in sl:\n",
    "    print(k,v)"
   ]
  }
 ],
 "metadata": {
  "kernelspec": {
   "display_name": "Python 3",
   "language": "python",
   "name": "python3"
  },
  "language_info": {
   "codemirror_mode": {
    "name": "ipython",
    "version": 3
   },
   "file_extension": ".py",
   "mimetype": "text/x-python",
   "name": "python",
   "nbconvert_exporter": "python",
   "pygments_lexer": "ipython3",
   "version": "3.8.5"
  }
 },
 "nbformat": 4,
 "nbformat_minor": 4
}
